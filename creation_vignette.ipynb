{
 "cells": [
  {
   "cell_type": "code",
   "execution_count": 1,
   "id": "6c472e78-6214-405e-ba7d-f9998622b416",
   "metadata": {},
   "outputs": [],
   "source": [
    "from PIL import Image\n",
    "from IPython.display import display\n",
    "import glob,os\n",
    "import numpy as np\n",
    "import matplotlib.pyplot as plt\n",
    "from osgeo import gdal\n",
    "from skimage.transform import resize, downscale_local_mean\n",
    "import scipy"
   ]
  },
  {
   "cell_type": "code",
   "execution_count": 2,
   "id": "d39e9207-3774-4e69-bb52-c0ed7115c383",
   "metadata": {},
   "outputs": [],
   "source": [
    "mnhc_path = \"données/MNHC/35_2020/\" # \"/Users/pmeurice/Documents/Projets/IGN-DSB/ML/data/inputs-ortho-256/\"\n",
    "ortho_path = \"données/orthophotos/2006_OK/rvb/\"\n",
    "\n",
    "res_path = \"/données/vignettes/\""
   ]
  },
  {
   "cell_type": "code",
   "execution_count": 3,
   "id": "839f9a47-6982-476b-8ff3-430405a2bb67",
   "metadata": {},
   "outputs": [],
   "source": [
    "orthophotos = glob.glob(ortho_path+\"*.tif\")"
   ]
  },
  {
   "cell_type": "code",
   "execution_count": 4,
   "id": "72b36fb5-8ada-40d8-9adf-d11517bbc560",
   "metadata": {},
   "outputs": [
    {
     "data": {
      "text/plain": [
       "369"
      ]
     },
     "execution_count": 4,
     "metadata": {},
     "output_type": "execute_result"
    }
   ],
   "source": [
    "len(orthophotos)"
   ]
  },
  {
   "cell_type": "code",
   "execution_count": 5,
   "id": "8277130a-9650-493d-adca-f21fa4fd7611",
   "metadata": {},
   "outputs": [
    {
     "data": {
      "text/plain": [
       "'données/orthophotos/2006_OK/rvb\\\\35-2006-0305-6780-LA93.tif'"
      ]
     },
     "execution_count": 5,
     "metadata": {},
     "output_type": "execute_result"
    }
   ],
   "source": [
    "orthophotos[4]"
   ]
  },
  {
   "cell_type": "raw",
   "id": "ac31c344-a666-4e7f-9802-48bcc59add39",
   "metadata": {
    "scrolled": true
   },
   "source": [
    "tif_image = Image.open(orthophotos[4])\n",
    "# jp2_image_bis = Image.open(\"/Volumes/LaCie SSD/Orthos_35/1993/35-1993-0320-6742-LA93.TIF\")\n",
    "# Display the JP2 image directly in the Jupyter Notebook/Lab\n",
    "display(tif_image.resize((500,500), resample=Image.Resampling.BICUBIC))"
   ]
  },
  {
   "cell_type": "code",
   "execution_count": 7,
   "id": "517899df-a723-4e0e-94c1-2877392faf41",
   "metadata": {},
   "outputs": [],
   "source": [
    "mnhc = glob.glob(mnhc_path+\"*.tif\")"
   ]
  },
  {
   "cell_type": "code",
   "execution_count": 8,
   "id": "8554bc47-6777-4966-b515-14b6eab5346a",
   "metadata": {},
   "outputs": [
    {
     "data": {
      "text/plain": [
       "7198"
      ]
     },
     "execution_count": 8,
     "metadata": {},
     "output_type": "execute_result"
    }
   ],
   "source": [
    "len(mnhc)"
   ]
  },
  {
   "cell_type": "code",
   "execution_count": 9,
   "id": "5b691f95-0416-43f6-a61e-66a20eb5a0fc",
   "metadata": {},
   "outputs": [
    {
     "data": {
      "text/plain": [
       "['données/MNHC/35_2020\\\\Diff_MNS_CORREL_1-0_LAMB93_20FD3525_305_6779.tif',\n",
       " 'données/MNHC/35_2020\\\\Diff_MNS_CORREL_1-0_LAMB93_20FD3525_305_6780.tif',\n",
       " 'données/MNHC/35_2020\\\\Diff_MNS_CORREL_1-0_LAMB93_20FD3525_305_6781.tif',\n",
       " 'données/MNHC/35_2020\\\\Diff_MNS_CORREL_1-0_LAMB93_20FD3525_306_6779.tif',\n",
       " 'données/MNHC/35_2020\\\\Diff_MNS_CORREL_1-0_LAMB93_20FD3525_306_6780.tif']"
      ]
     },
     "execution_count": 9,
     "metadata": {},
     "output_type": "execute_result"
    }
   ],
   "source": [
    "mnhc[:5]"
   ]
  },
  {
   "cell_type": "raw",
   "id": "dc8a2afe-e6bd-4e64-be9e-ac005f0f1bcb",
   "metadata": {},
   "source": [
    "import tifffile as tiff\n",
    "import matplotlib.pyplot as plt\n",
    "\n",
    "# Open the TIFF image\n",
    "tif_image = tiff.imread('données/MNHC/35_2020\\\\Diff_MNS_CORREL_1-0_LAMB93_20FD3525_305_6780.tif')\n",
    "\n",
    "# Display the image using Matplotlib\n",
    "plt.imshow(tif_image, cmap=\"binary_r\")  # You can specify the colormap if needed\n",
    "plt.axis('off')  # Turn off the axis labels and ticks\n",
    "plt.show()"
   ]
  },
  {
   "cell_type": "code",
   "execution_count": 18,
   "id": "535b8ee6-a3ec-4cd6-a3f1-7a61c9de811d",
   "metadata": {},
   "outputs": [
    {
     "data": {
      "text/plain": [
       "'données/MNHC/35_2020/Diff_MNS_CORREL_1-0_LAMB93_20FD3525_305_6780.tif'"
      ]
     },
     "execution_count": 18,
     "metadata": {},
     "output_type": "execute_result"
    }
   ],
   "source": [
    "mnhc_path + \"Diff_MNS_CORREL_1-0_LAMB93_20FD3525_\" + str(orthophotos[4][-17:-9]).replace('-', '_') + \".tif\""
   ]
  },
  {
   "cell_type": "code",
   "execution_count": 19,
   "id": "015f52cb-9d36-4994-84f5-81377cdd878b",
   "metadata": {},
   "outputs": [],
   "source": [
    "def std_convoluted(im, N):\n",
    "    \"\"\"\n",
    "    Calculate the standard deviation using a convolution operation.\n",
    "\n",
    "    Parameters:\n",
    "    - im (numpy.ndarray): Input image as a NumPy array.\n",
    "    - N (int): Radius of the convolution kernel.\n",
    "\n",
    "    Returns:\n",
    "    - numpy.ndarray: Standard deviation image.\n",
    "    \"\"\"\n",
    "    # Calculate squared image and initialize kernel\n",
    "    im2 = im**2\n",
    "    ones = np.ones(im.shape)\n",
    "    kernel = np.ones((2*N+1, 2*N+1))\n",
    "\n",
    "    # Convolve the image and squared image with the kernel\n",
    "    s = scipy.signal.convolve2d(im, kernel, mode=\"same\")\n",
    "    s2 = scipy.signal.convolve2d(im2, kernel, mode=\"same\")\n",
    "    ns = scipy.signal.convolve2d(ones, kernel, mode=\"same\")\n",
    "\n",
    "    # Calculate the standard deviation image\n",
    "    return np.sqrt((s2 - s**2 / ns) / ns)"
   ]
  },
  {
   "cell_type": "code",
   "execution_count": 101,
   "id": "9b5bfd47-de0c-4be7-a492-be7a5ce92176",
   "metadata": {},
   "outputs": [
    {
     "name": "stdout",
     "output_type": "stream",
     "text": [
      "305-6780\n"
     ]
    }
   ],
   "source": [
    "path_to_orthophoto = orthophotos[4]\n",
    "IMAGE_SIZE = 256\n",
    "\n",
    "# Extract position information from the orthophoto path\n",
    "position = path_to_orthophoto[-17:-9] # CHANGEMENT orthophoto[-28:-19]\n",
    "print(position, flush=True)\n",
    "\n",
    "# Open the orthophoto and MNHC images\n",
    "ortho = Image.open(path_to_orthophoto)\n",
    "mnhc = Image.open(mnhc_path + \"Diff_MNS_CORREL_1-0_LAMB93_20FD3525_\" + path_to_orthophoto[-17:-9].replace('-', '_') + \".tif\")\n",
    "width, height = mnhc.size\n",
    "\n",
    "# Resize the orthophoto to match the size of MNHC\n",
    "ortho = ortho.resize(mnhc.size, resample=Image.Resampling.BICUBIC)\n",
    "o = np.array(ortho)\n",
    "\n",
    "# Calculate NDVI (Normalized Difference Vegetation Index)\n",
    "ndvi = np.divide(o[:,:,0]-o[:,:,1], o[:,:,0]+o[:,:,1], where=(o[:,:,0]+o[:,:,1]) != 0)\n",
    "\n",
    "npmnhc = np.array(mnhc)\n",
    "\n",
    "# Calculate standard deviation of the MNHC using the provided function\n",
    "std = std_convoluted(npmnhc, N=10)\n",
    "\n",
    "# Create a mask based on specified conditions\n",
    "mask = Image.fromarray(np.logical_and(\n",
    "    np.logical_and(npmnhc > 3., # (npmnhc > 3. pour ne garder que les valeurs de hauteur strictement supérieures à 3 mètres afin de limiter les erreurs liées à l’imprécision du MNS\n",
    "                   np.logical_or(npmnhc > 5., std > .5)), \n",
    "    ndvi > 0 # cad végétation\n",
    "))"
   ]
  },
  {
   "cell_type": "raw",
   "id": "af0db7d9-17eb-4314-a013-4662ea6e051a",
   "metadata": {},
   "source": [
    "#std\n",
    "plt.imshow(std)\n",
    "plt.axis('off');"
   ]
  },
  {
   "cell_type": "raw",
   "id": "4be67bb3-310e-45b9-bda5-66db15eed7b0",
   "metadata": {},
   "source": [
    "plt.imshow(np.array(mask)*1)\n",
    "plt.axis('off');"
   ]
  },
  {
   "cell_type": "raw",
   "id": "107ece7e-b097-4faa-adc8-12097fdd4e81",
   "metadata": {},
   "source": [
    "\n",
    "plt.imshow(ndvi)\n",
    "plt.axis('off');"
   ]
  },
  {
   "cell_type": "code",
   "execution_count": 47,
   "id": "7c25e575-3af7-4f8a-88b2-90640d6464ef",
   "metadata": {},
   "outputs": [
    {
     "data": {
      "text/plain": [
       "(0, 0, 2000, 2000)"
      ]
     },
     "execution_count": 47,
     "metadata": {},
     "output_type": "execute_result"
    }
   ],
   "source": [
    "(x - x % 2000, y - y % 2000, x - x % 2000 + 2000, y - y % 2000 + 2000)"
   ]
  },
  {
   "cell_type": "code",
   "execution_count": 123,
   "id": "13fa367f-a9ce-40f7-8944-4bbb7972d264",
   "metadata": {
    "scrolled": true
   },
   "outputs": [
    {
     "name": "stdout",
     "output_type": "stream",
     "text": [
      "305-6780 : 0 non valides\n"
     ]
    }
   ],
   "source": [
    "nonvalides = 0\n",
    "i = 0\n",
    "for x in range(0, width - IMAGE_SIZE, IMAGE_SIZE): #(0, width - IMAGE_SIZE, IMAGE_SIZE)\n",
    "    for y in range(0, height - IMAGE_SIZE, IMAGE_SIZE): #(0, height - IMAGE_SIZE, IMAGE_SIZE)\n",
    "\n",
    "        # i+=1\n",
    "        # y = 0\n",
    "        # Test if MNHC is valid\n",
    "        xw = x + IMAGE_SIZE - 1\n",
    "        yh = y + IMAGE_SIZE - 1\n",
    "        # print(i)\n",
    "        # print((x, y, xw, yh))\n",
    "        # print((x - x % 2000, y - y % 2000, x - x % 2000 + 2000, y - y % 2000 + 2000))\n",
    "        # print((xw - xw % 2000, yh - yh % 2000, xw - xw % 2000 + 2000, yh - yh % 2000 + 2000))\n",
    "        # print((x - x % 2000, yh - yh % 2000, x - x % 2000 + 2000, yh - yh % 2000 + 2000))\n",
    "        # print((xw - xw % 2000, y - y % 2000, xw - xw % 2000 + 2000, y - y % 2000 + 2000))\n",
    "        # plt.imshow(np.array(mnhc.crop((x - x % 2000, y - y % 2000, x - x % 2000 + 2000, y - y % 2000 + 2000))))\n",
    "        # print('')\n",
    "        \n",
    "        if np.array(mnhc.crop((x - x % 2000, y - y % 2000, x - x % 2000 + 2000, y - y % 2000 + 2000))).sum() == 0 or \\\n",
    "           np.array(mnhc.crop((xw - xw % 2000, y - y % 2000, xw - xw % 2000 + 2000, y - y % 2000 + 2000))).sum() == 0 or \\\n",
    "           np.array(mnhc.crop((x - x % 2000, yh - yh % 2000, x - x % 2000 + 2000, yh - yh % 2000 + 2000))).sum() == 0 or \\\n",
    "           np.array(mnhc.crop((xw - xw % 2000, yh - yh % 2000, xw - xw % 2000 + 2000, yh - yh % 2000 + 2000))).sum() == 0:\n",
    "            nonvalides = nonvalides + 1\n",
    "            \n",
    "            continue\n",
    "\n",
    "        # Create a filename for the vignette\n",
    "        vname = \"35-2020-\"+position+\"-\"+str(x).zfill(4)+\"-\"+str(y).zfill(4)+\"-050M-\"\n",
    "\n",
    "        # Save the orthophoto and mask as vignettes\n",
    "        ortho.crop((x, y, x + IMAGE_SIZE, y + IMAGE_SIZE)).save(\"vignettes/inputs-ortho-256/\"+vname+\"ortho.jpg\")\n",
    "        v_mask = mask.crop((x, y, x + IMAGE_SIZE, y + IMAGE_SIZE))\n",
    "        v_mask.save(\"vignettes/annotations-256/\"+vname+\"mask.png\")\n",
    "\n",
    "print(position+\" : \"+str(nonvalides)+\" non valides\", flush=True)"
   ]
  },
  {
   "cell_type": "raw",
   "id": "237bfad0-23d8-4811-9012-7cbef2022ed6",
   "metadata": {},
   "source": [
    "mask.crop((x, y, x + IMAGE_SIZE, y + IMAGE_SIZE))"
   ]
  },
  {
   "cell_type": "raw",
   "id": "ec23515f-1dae-4a5f-b49c-435617363ea7",
   "metadata": {},
   "source": [
    "ortho.crop((x, y, x + IMAGE_SIZE, y + IMAGE_SIZE))"
   ]
  },
  {
   "cell_type": "code",
   "execution_count": 106,
   "id": "f5bbeff5-ad78-4db0-b415-50db4287f058",
   "metadata": {},
   "outputs": [
    {
     "data": {
      "text/plain": [
       "(1792, 1792, 2048, 2048)"
      ]
     },
     "execution_count": 106,
     "metadata": {},
     "output_type": "execute_result"
    }
   ],
   "source": [
    "x, y, x + IMAGE_SIZE, y + IMAGE_SIZE"
   ]
  },
  {
   "cell_type": "raw",
   "id": "5aefc9d7-d246-47ef-876d-6772935374eb",
   "metadata": {},
   "source": [
    "plt.imshow(np.array(mnhc.crop((x-256, y-256, x + IMAGE_SIZE + 256, y + IMAGE_SIZE + 256))), cmap=\"binary_r\")"
   ]
  },
  {
   "cell_type": "code",
   "execution_count": 67,
   "id": "4096c604-45ea-459f-b66b-555894014985",
   "metadata": {},
   "outputs": [
    {
     "name": "stdout",
     "output_type": "stream",
     "text": [
      "\n",
      "x: 1536\n",
      "y: 0\n",
      "xw: 1791\n",
      "yh: 255\n",
      "\n"
     ]
    }
   ],
   "source": [
    "print(f\"\"\"\n",
    "x: {x}\n",
    "y: {y}\n",
    "xw: {xw}\n",
    "yh: {yh}\n",
    "\"\"\")"
   ]
  },
  {
   "cell_type": "raw",
   "id": "4b1db6a2-0bfb-41cb-a90e-387614a9a68b",
   "metadata": {},
   "source": [
    "print((x - x % 2000, y - y % 2000, x - x % 2000 + 2000, y - y % 2000 + 2000))\n",
    "plt.imshow(np.array(mnhc.crop(((1536, 0, 1791, 255)))))#mnhc.crop((x - x % 2000, y - y % 2000, x - x % 2000 + 2000, y - y % 2000 + 2000))))"
   ]
  },
  {
   "cell_type": "raw",
   "id": "945af689-5b26-4f4e-8121-fbda87d7bb3a",
   "metadata": {},
   "source": [
    "print((xw - xw % 2000, y - y % 2000, xw - xw % 2000 + 2000, y - y % 2000 + 2000))\n",
    "plt.imshow(np.array(mnhc.crop((xw - xw % 2000, y - y % 2000, xw - xw % 2000 + 2000, y - y % 2000 + 2000))))"
   ]
  },
  {
   "cell_type": "raw",
   "id": "1f3c42f2-e243-496c-acae-a5a1b91b71ab",
   "metadata": {},
   "source": [
    "print((x - x % 2000, yh - yh % 2000, x - x % 2000 + 2000, yh - yh % 2000 + 2000))\n",
    "plt.imshow(np.array(mnhc.crop((x - x % 2000, yh - yh % 2000, x - x % 2000 + 2000, yh - yh % 2000 + 2000))))"
   ]
  },
  {
   "cell_type": "raw",
   "id": "54b11f41-5c4d-4dfa-bb57-a25ef9a4a549",
   "metadata": {},
   "source": [
    "print((xw - xw % 2000, yh - yh % 2000, xw - xw % 2000 + 2000, yh - yh % 2000 + 2000))\n",
    "plt.imshow(np.array(mnhc.crop((xw - xw % 2000, yh - yh % 2000, xw - xw % 2000 + 2000, yh - yh % 2000 + 2000))))"
   ]
  },
  {
   "cell_type": "code",
   "execution_count": null,
   "id": "7b3d992e-2ed9-472f-acf0-69de809b5959",
   "metadata": {},
   "outputs": [],
   "source": []
  }
 ],
 "metadata": {
  "kernelspec": {
   "display_name": "Python 3 (ipykernel)",
   "language": "python",
   "name": "python3"
  },
  "language_info": {
   "codemirror_mode": {
    "name": "ipython",
    "version": 3
   },
   "file_extension": ".py",
   "mimetype": "text/x-python",
   "name": "python",
   "nbconvert_exporter": "python",
   "pygments_lexer": "ipython3",
   "version": "3.11.5"
  }
 },
 "nbformat": 4,
 "nbformat_minor": 5
}
