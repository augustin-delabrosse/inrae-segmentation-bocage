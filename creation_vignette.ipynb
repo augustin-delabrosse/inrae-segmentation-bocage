{
 "cells": [
  {
   "cell_type": "raw",
   "id": "5f2f4cc2-0fc5-4bcf-a144-bef7f2cd5759",
   "metadata": {},
   "source": [
    "from PIL import Image\n",
    "from IPython.display import display\n",
    "import glob,os\n",
    "import numpy as np\n",
    "import matplotlib.pyplot as plt\n",
    "from osgeo import gdal\n",
    "from skimage.transform import resize, downscale_local_mean\n",
    "import scipy\n",
    "import cv2\n",
    "from tqdm import tqdm"
   ]
  },
  {
   "cell_type": "raw",
   "id": "553056a8-cccd-4afc-b685-f064f22419c0",
   "metadata": {},
   "source": [
    "mnhc_path = \"données/MNHC/35_2020/\" # \"/Users/pmeurice/Documents/Projets/IGN-DSB/ML/data/inputs-ortho-256/\"\n",
    "ortho_path = \"données/orthophotos/2006_OK/rvb/\"\n",
    "\n",
    "res_path = \"/données/vignettes/\""
   ]
  },
  {
   "cell_type": "raw",
   "id": "0ef2d184-adc0-4732-ba93-1d6266b0a9c1",
   "metadata": {},
   "source": [
    "orthophotos = glob.glob(ortho_path+\"*.tif\")"
   ]
  },
  {
   "cell_type": "raw",
   "id": "452b7d98-3042-494b-be4e-290f9bc4569a",
   "metadata": {},
   "source": [
    "len(orthophotos)"
   ]
  },
  {
   "cell_type": "raw",
   "id": "e867731b-9df9-4e76-a7fd-15962867fb31",
   "metadata": {},
   "source": [
    "orthophotos[4]"
   ]
  },
  {
   "cell_type": "raw",
   "id": "7ecf8a8a-c645-4d26-9758-db97a73e116d",
   "metadata": {
    "scrolled": true
   },
   "source": [
    "tif_image = Image.open(orthophotos[4])\n",
    "# jp2_image_bis = Image.open(\"/Volumes/LaCie SSD/Orthos_35/1993/35-1993-0320-6742-LA93.TIF\")\n",
    "# Display the JP2 image directly in the Jupyter Notebook/Lab\n",
    "# display(tif_image.resize((500,500), resample=Image.Resampling.BICUBIC))"
   ]
  },
  {
   "cell_type": "raw",
   "id": "c99a5460-a9a2-4977-9522-93c550b772ae",
   "metadata": {},
   "source": [
    "display(tif_image.crop((0, 0, 2000, 2000)))"
   ]
  },
  {
   "cell_type": "raw",
   "id": "66af8cf3-892b-4dab-aecc-643ad1e70dc7",
   "metadata": {},
   "source": [
    "mnhc = glob.glob(mnhc_path+\"*.tif\")"
   ]
  },
  {
   "cell_type": "raw",
   "id": "92dbf47b-538a-4f53-9e86-fea406e96056",
   "metadata": {},
   "source": [
    "len(mnhc)"
   ]
  },
  {
   "cell_type": "raw",
   "id": "9a7417aa-5c64-43a1-97a5-d437af2091e8",
   "metadata": {},
   "source": [
    "mnhc[:5]"
   ]
  },
  {
   "cell_type": "raw",
   "id": "dc8a2afe-e6bd-4e64-be9e-ac005f0f1bcb",
   "metadata": {},
   "source": [
    "import tifffile as tiff\n",
    "import matplotlib.pyplot as plt\n",
    "\n",
    "# Open the TIFF image\n",
    "tif_image = tiff.imread('données/MNHC/35_2020\\\\Diff_MNS_CORREL_1-0_LAMB93_20FD3525_305_6780.tif')\n",
    "\n",
    "# Display the image using Matplotlib\n",
    "plt.imshow(tif_image, cmap=\"binary_r\")  # You can specify the colormap if needed\n",
    "plt.axis('off')  # Turn off the axis labels and ticks\n",
    "plt.show()"
   ]
  },
  {
   "cell_type": "raw",
   "id": "5b518222-2347-40e4-8058-16b5c4b7ee43",
   "metadata": {},
   "source": [
    "mnhc_path + \"Diff_MNS_CORREL_1-0_LAMB93_20FD3525_\" + str(orthophotos[4][-17:-9]).replace('-', '_') + \".tif\""
   ]
  },
  {
   "cell_type": "raw",
   "id": "e3fe99ff-40cf-44d8-b239-264cb212f2fd",
   "metadata": {},
   "source": [
    "def std_convoluted(im, N):\n",
    "    \"\"\"\n",
    "    Calculate the standard deviation using a convolution operation.\n",
    "\n",
    "    Parameters:\n",
    "    - im (numpy.ndarray): Input image as a NumPy array.\n",
    "    - N (int): Radius of the convolution kernel.\n",
    "\n",
    "    Returns:\n",
    "    - numpy.ndarray: Standard deviation image.\n",
    "    \"\"\"\n",
    "    # Calculate squared image and initialize kernel\n",
    "    im2 = im**2\n",
    "    ones = np.ones(im.shape)\n",
    "    kernel = np.ones((2*N+1, 2*N+1))\n",
    "\n",
    "    # Convolve the image and squared image with the kernel\n",
    "    s = scipy.signal.convolve2d(im, kernel, mode=\"same\")\n",
    "    s2 = scipy.signal.convolve2d(im2, kernel, mode=\"same\")\n",
    "    ns = scipy.signal.convolve2d(ones, kernel, mode=\"same\")\n",
    "\n",
    "    # Calculate the standard deviation image\n",
    "    return np.sqrt((s2 - s**2 / ns) / ns)"
   ]
  },
  {
   "cell_type": "raw",
   "id": "818398ee-5800-444d-8f85-794407e0a3bb",
   "metadata": {},
   "source": [
    "path_to_orthophoto = orthophotos[4]\n",
    "IMAGE_SIZE = 256\n",
    "\n",
    "# Extract position information from the orthophoto path\n",
    "position = path_to_orthophoto[-17:-9] # CHANGEMENT orthophoto[-28:-19]\n",
    "print(position, flush=True)\n",
    "\n",
    "# Open the orthophoto and MNHC images\n",
    "ortho = Image.open(path_to_orthophoto)\n",
    "mnhc = Image.open(mnhc_path + \"Diff_MNS_CORREL_1-0_LAMB93_20FD3525_\" + path_to_orthophoto[-17:-9].replace('-', '_') + \".tif\")\n",
    "width, height = mnhc.size\n",
    "\n",
    "# Resize the orthophoto to match the size of MNHC\n",
    "ortho = ortho.resize(mnhc.size, resample=Image.Resampling.BICUBIC)\n",
    "o = np.array(ortho)\n",
    "\n",
    "# Calculate NDVI (Normalized Difference Vegetation Index)\n",
    "ndvi = np.divide(o[:,:,0]-o[:,:,1], o[:,:,0]+o[:,:,1], where=(o[:,:,0]+o[:,:,1]) != 0)\n",
    "\n",
    "npmnhc = np.array(mnhc)\n",
    "\n",
    "# Calculate standard deviation of the MNHC using the provided function\n",
    "std = std_convoluted(npmnhc, N=10)\n",
    "\n",
    "# Create a mask based on specified conditions\n",
    "mask = Image.fromarray(np.logical_and(\n",
    "    np.logical_and(npmnhc > 3., # (npmnhc > 3. pour ne garder que les valeurs de hauteur strictement supérieures à 3 mètres afin de limiter les erreurs liées à l’imprécision du MNS\n",
    "                   np.logical_or(npmnhc > 5., std > .5)), \n",
    "    ndvi > 0 # cad végétation\n",
    "))"
   ]
  },
  {
   "cell_type": "raw",
   "id": "95e2083d-8949-4959-a5ca-bf6a8723296a",
   "metadata": {},
   "source": [
    "path_to_orthophoto = orthophotos[4]\n",
    "IMAGE_SIZE = 256\n",
    "\n",
    "# Extract position information from the orthophoto path\n",
    "position = path_to_orthophoto[-17:-9] # CHANGEMENT orthophoto[-28:-19]\n",
    "print(position, flush=True)\n",
    "\n",
    "# Open the orthophoto and MNHC images\n",
    "ortho = Image.open(path_to_orthophoto)\n",
    "mnhc = Image.open(mnhc_path + \"Diff_MNS_CORREL_1-0_LAMB93_20FD3525_\" + path_to_orthophoto[-17:-9].replace('-', '_') + \".tif\")\n",
    "width, height = mnhc.size\n",
    "\n",
    "# Resize the orthophoto to match the size of MNHC\n",
    "ortho = ortho.resize(mnhc.size, resample=Image.Resampling.BICUBIC)\n",
    "o = np.array(ortho)\n",
    "\n",
    "# Calculate NDVI (Normalized Difference Vegetation Index)\n",
    "ndvi = np.divide(o[:,:,0]-o[:,:,1], o[:,:,0]+o[:,:,1], where=(o[:,:,0]+o[:,:,1]) != 0)\n",
    "\n",
    "npmnhc = np.array(mnhc)\n",
    "\n",
    "# Calculate standard deviation of the MNHC using the provided function\n",
    "std = std_convoluted(npmnhc, N=10)\n",
    "\n",
    "# Create a mask based on specified conditions\n",
    "mask = Image.fromarray(np.logical_and(\n",
    "    np.logical_and(npmnhc > 3., # (npmnhc > 3. pour ne garder que les valeurs de hauteur strictement supérieures à 3 mètres afin de limiter les erreurs liées à l’imprécision du MNS\n",
    "                   np.logical_or(npmnhc > 5., std > .5)), \n",
    "    ndvi > 0 # cad végétation\n",
    "))"
   ]
  },
  {
   "cell_type": "raw",
   "id": "af0db7d9-17eb-4314-a013-4662ea6e051a",
   "metadata": {},
   "source": [
    "plt.imshow(std)\n",
    "plt.axis('off');"
   ]
  },
  {
   "cell_type": "raw",
   "id": "f6659ad9-f9f1-4027-b2f3-13d5efc6da00",
   "metadata": {},
   "source": [
    "plt.imshow(np.array(mask)*1)\n",
    "plt.axis('off');"
   ]
  },
  {
   "cell_type": "raw",
   "id": "107ece7e-b097-4faa-adc8-12097fdd4e81",
   "metadata": {},
   "source": [
    "plt.imshow(ndvi)\n",
    "plt.axis('off');"
   ]
  },
  {
   "cell_type": "raw",
   "id": "e00d4c55-91b3-4078-bd48-335c01a45494",
   "metadata": {},
   "source": [
    "nonvalides = 0\n",
    "i = 0\n",
    "for x in range(0, width - IMAGE_SIZE, IMAGE_SIZE): #(0, width - IMAGE_SIZE, IMAGE_SIZE)\n",
    "    for y in range(0, height - IMAGE_SIZE, IMAGE_SIZE): #(0, height - IMAGE_SIZE, IMAGE_SIZE)\n",
    "\n",
    "        # i+=1\n",
    "        # y = 0\n",
    "        # Test if MNHC is valid\n",
    "        xw = x + IMAGE_SIZE - 1\n",
    "        yh = y + IMAGE_SIZE - 1\n",
    "        # print(i)\n",
    "        # print((x, y, xw, yh))\n",
    "        # print((x - x % 2000, y - y % 2000, x - x % 2000 + 2000, y - y % 2000 + 2000))\n",
    "        # print((xw - xw % 2000, yh - yh % 2000, xw - xw % 2000 + 2000, yh - yh % 2000 + 2000))\n",
    "        # print((x - x % 2000, yh - yh % 2000, x - x % 2000 + 2000, yh - yh % 2000 + 2000))\n",
    "        # print((xw - xw % 2000, y - y % 2000, xw - xw % 2000 + 2000, y - y % 2000 + 2000))\n",
    "        # plt.imshow(np.array(mnhc.crop((x - x % 2000, y - y % 2000, x - x % 2000 + 2000, y - y % 2000 + 2000))))\n",
    "        # print('')\n",
    "        \n",
    "        if np.array(mnhc.crop((x - x % 2000, y - y % 2000, x - x % 2000 + 2000, y - y % 2000 + 2000))).sum() == 0 or \\\n",
    "           np.array(mnhc.crop((xw - xw % 2000, y - y % 2000, xw - xw % 2000 + 2000, y - y % 2000 + 2000))).sum() == 0 or \\\n",
    "           np.array(mnhc.crop((x - x % 2000, yh - yh % 2000, x - x % 2000 + 2000, yh - yh % 2000 + 2000))).sum() == 0 or \\\n",
    "           np.array(mnhc.crop((xw - xw % 2000, yh - yh % 2000, xw - xw % 2000 + 2000, yh - yh % 2000 + 2000))).sum() == 0:\n",
    "            nonvalides = nonvalides + 1\n",
    "            \n",
    "            continue\n",
    "\n",
    "        # Create a filename for the vignette\n",
    "        vname = \"35-2020-\"+position+\"-\"+str(x).zfill(4)+\"-\"+str(y).zfill(4)+\"-050M-\"\n",
    "\n",
    "        # Save the orthophoto and mask as vignettes\n",
    "        ortho.crop((x, y, x + IMAGE_SIZE, y + IMAGE_SIZE)).save(\"vignettes/inputs-ortho-256/\"+vname+\"ortho.jpg\")\n",
    "        v_mask = mask.crop((x, y, x + IMAGE_SIZE, y + IMAGE_SIZE))\n",
    "        v_mask.save(\"vignettes/annotations-256/\"+vname+\"mask.png\")\n",
    "\n",
    "print(position+\" : \"+str(nonvalides)+\" non valides\", flush=True)"
   ]
  },
  {
   "cell_type": "raw",
   "id": "3e6df33b-5219-4828-b38b-7423ee9089f4",
   "metadata": {
    "scrolled": true
   },
   "source": [
    "nonvalides = 0\n",
    "i = 0\n",
    "for x in range(0, width - IMAGE_SIZE, IMAGE_SIZE): #(0, width - IMAGE_SIZE, IMAGE_SIZE)\n",
    "    for y in range(0, height - IMAGE_SIZE, IMAGE_SIZE): #(0, height - IMAGE_SIZE, IMAGE_SIZE)\n",
    "\n",
    "        # i+=1\n",
    "        # y = 0\n",
    "        # Test if MNHC is valid\n",
    "        xw = x + IMAGE_SIZE - 1\n",
    "        yh = y + IMAGE_SIZE - 1\n",
    "        # print(i)\n",
    "        # print((x, y, xw, yh))\n",
    "        # print((x - x % 2000, y - y % 2000, x - x % 2000 + 2000, y - y % 2000 + 2000))\n",
    "        # print((xw - xw % 2000, yh - yh % 2000, xw - xw % 2000 + 2000, yh - yh % 2000 + 2000))\n",
    "        # print((x - x % 2000, yh - yh % 2000, x - x % 2000 + 2000, yh - yh % 2000 + 2000))\n",
    "        # print((xw - xw % 2000, y - y % 2000, xw - xw % 2000 + 2000, y - y % 2000 + 2000))\n",
    "        # plt.imshow(np.array(mnhc.crop((x - x % 2000, y - y % 2000, x - x % 2000 + 2000, y - y % 2000 + 2000))))\n",
    "        # print('')\n",
    "        \n",
    "        if np.array(mnhc.crop((x - x % 2000, y - y % 2000, x - x % 2000 + 2000, y - y % 2000 + 2000))).sum() == 0 or \\\n",
    "           np.array(mnhc.crop((xw - xw % 2000, y - y % 2000, xw - xw % 2000 + 2000, y - y % 2000 + 2000))).sum() == 0 or \\\n",
    "           np.array(mnhc.crop((x - x % 2000, yh - yh % 2000, x - x % 2000 + 2000, yh - yh % 2000 + 2000))).sum() == 0 or \\\n",
    "           np.array(mnhc.crop((xw - xw % 2000, yh - yh % 2000, xw - xw % 2000 + 2000, yh - yh % 2000 + 2000))).sum() == 0:\n",
    "            nonvalides = nonvalides + 1\n",
    "            \n",
    "            continue\n",
    "\n",
    "        # Create a filename for the vignette\n",
    "        vname = \"35-2020-\"+position+\"-\"+str(x).zfill(4)+\"-\"+str(y).zfill(4)+\"-050M-\"\n",
    "\n",
    "        # Save the orthophoto and mask as vignettes\n",
    "        ortho.crop((x, y, x + IMAGE_SIZE, y + IMAGE_SIZE)).save(\"vignettes/inputs-ortho-256/\"+vname+\"ortho.jpg\")\n",
    "        v_mask = mask.crop((x, y, x + IMAGE_SIZE, y + IMAGE_SIZE))\n",
    "        v_mask.save(\"vignettes/annotations-256/\"+vname+\"mask.png\")\n",
    "\n",
    "print(position+\" : \"+str(nonvalides)+\" non valides\", flush=True)"
   ]
  },
  {
   "cell_type": "raw",
   "id": "237bfad0-23d8-4811-9012-7cbef2022ed6",
   "metadata": {},
   "source": [
    "mask.crop((x, y, x + IMAGE_SIZE, y + IMAGE_SIZE))"
   ]
  },
  {
   "cell_type": "raw",
   "id": "ec23515f-1dae-4a5f-b49c-435617363ea7",
   "metadata": {},
   "source": [
    "ortho.crop((x, y, x + IMAGE_SIZE, y + IMAGE_SIZE))"
   ]
  },
  {
   "cell_type": "raw",
   "id": "e2b4b774-9192-43fa-8d56-8b85db2fe9d4",
   "metadata": {},
   "source": [
    "x, y, x + IMAGE_SIZE, y + IMAGE_SIZE"
   ]
  },
  {
   "cell_type": "raw",
   "id": "5aefc9d7-d246-47ef-876d-6772935374eb",
   "metadata": {},
   "source": [
    "plt.imshow(np.array(mnhc.crop((x-256, y-256, x + IMAGE_SIZE + 256, y + IMAGE_SIZE + 256))), cmap=\"binary_r\")"
   ]
  },
  {
   "cell_type": "raw",
   "id": "0d8bf576-f8b8-4959-a411-c4e8b9c3040a",
   "metadata": {},
   "source": [
    "print(f\"\"\"\n",
    "x: {x}\n",
    "y: {y}\n",
    "xw: {xw}\n",
    "yh: {yh}\n",
    "\"\"\")"
   ]
  },
  {
   "cell_type": "raw",
   "id": "4b1db6a2-0bfb-41cb-a90e-387614a9a68b",
   "metadata": {},
   "source": [
    "print((x - x % 2000, y - y % 2000, x - x % 2000 + 2000, y - y % 2000 + 2000))\n",
    "plt.imshow(np.array(mnhc.crop(((1536, 0, 1791, 255)))))#mnhc.crop((x - x % 2000, y - y % 2000, x - x % 2000 + 2000, y - y % 2000 + 2000))))"
   ]
  },
  {
   "cell_type": "raw",
   "id": "945af689-5b26-4f4e-8121-fbda87d7bb3a",
   "metadata": {},
   "source": [
    "print((xw - xw % 2000, y - y % 2000, xw - xw % 2000 + 2000, y - y % 2000 + 2000))\n",
    "plt.imshow(np.array(mnhc.crop((xw - xw % 2000, y - y % 2000, xw - xw % 2000 + 2000, y - y % 2000 + 2000))))"
   ]
  },
  {
   "cell_type": "raw",
   "id": "1f3c42f2-e243-496c-acae-a5a1b91b71ab",
   "metadata": {},
   "source": [
    "print((x - x % 2000, yh - yh % 2000, x - x % 2000 + 2000, yh - yh % 2000 + 2000))\n",
    "plt.imshow(np.array(mnhc.crop((x - x % 2000, yh - yh % 2000, x - x % 2000 + 2000, yh - yh % 2000 + 2000))))"
   ]
  },
  {
   "cell_type": "raw",
   "id": "54b11f41-5c4d-4dfa-bb57-a25ef9a4a549",
   "metadata": {},
   "source": [
    "print((xw - xw % 2000, yh - yh % 2000, xw - xw % 2000 + 2000, yh - yh % 2000 + 2000))\n",
    "plt.imshow(np.array(mnhc.crop((xw - xw % 2000, yh - yh % 2000, xw - xw % 2000 + 2000, yh - yh % 2000 + 2000))))"
   ]
  },
  {
   "cell_type": "raw",
   "id": "4def2264-9c98-4562-ab4d-c010d3dc6fb9",
   "metadata": {},
   "source": [
    "def vignettes_from_ortho(ortho_rgb_file):\n",
    "    # position\n",
    "    dept = os.path.basename(ortho_rgb_file)[0:2]\n",
    "    rgb_x = ortho_rgb_file[rgb_position:rgb_position+3]\n",
    "    rgb_y = ortho_rgb_file[rgb_position+4:rgb_position+8]\n",
    "    mnhc_dir_dept = mnhc_dir+dept+'_2020/'\n",
    "    # images IRC et RGB\n",
    "    ortho_irc_file = path_IRC[dept] + '/' + dept + '-2020-0'+rgb_x+'-'+rgb_y+'-LA93-0M20-IRC-E080.jp2'\n",
    "    # ouverture\n",
    "    ortho_rgb = cv2.resize(np.asarray(Image.open(ortho_rgb_file)), (10000, 10000), interpolation=cv2.INTER_AREA)\n",
    "    ortho_irc = cv2.resize(np.asarray(Image.open(ortho_irc_file)), (10000, 10000), interpolation=cv2.INTER_AREA)\n",
    "    ndvi = np.divide(ortho_irc[:,:,0]-ortho_irc[:,:,1],ortho_irc[:,:,0]+ortho_irc[:,:,1], where =  (ortho_irc[:,:,0]+ortho_irc[:,:,1])!=0 )\n",
    "    ortho_irc = None\n",
    "\n",
    "    vignette_data = []\n",
    "    for mnhc_x in range(0,5):\n",
    "        for mnhc_y in range(0,5):\n",
    "            mnhc_file = mnhc_dir_dept+'Diff_MNS_CORREL_1-0_LAMB93_20FD'+dept+'25_'+str(int(int(rgb_x)+mnhc_x))+'_'+str(int(int(rgb_y)-mnhc_y-1))+'.tif'\n",
    "            print(mnhc_file)\n",
    "            if os.path.exists(mnhc_file):\n",
    "                # lecture mnhc + calcul masque\n",
    "                mnhc = np.asarray(Image.open(mnhc_file))\n",
    "                w,h=mnhc.shape\n",
    "                mask = np.logical_and(np.logical_and( mnhc>3. , np.logical_or(mnhc>5., std_convoluted(mnhc,N=10)>.5) ),ndvi[mnhc_x*w:(mnhc_x+1)*w,mnhc_y*h:(mnhc_y+1)*h]>0).astype('uint8')\n",
    "                for x in range(0,w-IMAGE_SIZE+1,IMAGE_SIZE):\n",
    "                    for y in range(0,h-IMAGE_SIZE+1,IMAGE_SIZE):\n",
    "                        print(x,y)\n",
    "                        crop_rgb = ortho_rgb[mnhc_y*h+y:mnhc_y*h+y+IMAGE_SIZE,mnhc_x*w+x:mnhc_x*w+x+IMAGE_SIZE,:]\n",
    "                        crop_mask = mask[y:y+IMAGE_SIZE,x:x+IMAGE_SIZE]\n",
    "                        print(crop_mask.dtype,crop_mask.shape)\n",
    "                        # filtre rgb\n",
    "                        # enregistrement\n",
    "                        pos = dept+'_'+str((int(rgb_x)+mnhc_x)*1000+x/2)+'_'+str((int(rgb_y)-mnhc_y)*1000+y/2)\n",
    "                        cv2.imwrite( rgb_vignettes_dir + 'rgb_' + pos + '.jpg', crop_rgb)\n",
    "                        cv2.imwrite(mask_vignettes_dir + 'mask_'+ pos + '.png', crop_mask)\n",
    "                        # caractéristiques image RGB : moyenne/ecart-type hors et dans masque, surface masque\n",
    "                        mask = np.stack((crop_mask,)*3, axis=-1)\n",
    "                        non_mask = np.logical_not(mask)\n",
    "                        res = [pos,crop_mask.sum()] + ...\n",
    "                               np.mean(crop_rgb,axis=(0,1),where = mask    ).tolist() + \n",
    "                               np.mean(crop_rgb,axis=(0,1),where = non_mask).tolist() + ...\n",
    "                               np.std( crop_rgb,axis=(0,1),where = mask    ).tolist() + ...\n",
    "                               np.std (crop_rgb,axis=(0,1),where = non_mask).tolist()\n",
    "                        vignette_data.append(res)\n",
    "    return pd.DataFrame(vignette_data,columns = ('file','wood_size','w_mean_R','w_mean_G','w_mean_B','nw_mean_R','nw_mean_G','nw_mean_B','w_std_R','w_std_G','w_std_B','nw_std_R','nw_std_G','nw_std_B'))    "
   ]
  },
  {
   "cell_type": "code",
   "execution_count": 60,
   "id": "b0036676-d6a9-424a-bbf3-367d54d42bed",
   "metadata": {},
   "outputs": [
    {
     "data": {
      "text/plain": [
       "'35-2006-0305-6780-LA93.tif'"
      ]
     },
     "execution_count": 60,
     "metadata": {},
     "output_type": "execute_result"
    }
   ],
   "source": [
    "orthophotos[4][-26:]"
   ]
  },
  {
   "cell_type": "code",
   "execution_count": 136,
   "id": "97316327-9857-4e0b-89e2-07dd64b88d68",
   "metadata": {},
   "outputs": [],
   "source": [
    "config = {\n",
    "    \"mnhc_path\":\"données/MNHC/\",\n",
    "    \"ortho_path\":\"données/orthophotos/2006_OK/rvb/\",\n",
    "    \"irc_path\":\"données/orthophotos/2006_OK/rvb/\",\n",
    "    'rgb_vignettes_path':'vignettes/rgb/',\n",
    "    'mask_vignettes_path':'vignettes/mask/',\n",
    "    'rgb_coordinates_pos':-17,\n",
    "    'rgb_name_pos':-26\n",
    "}\n",
    "\n",
    "path_to_orthophoto_rgb = config[\"ortho_path\"] + orthophotos[4][config['rgb_name_pos']:]\n",
    "path_to_orthophoto_irc = config[\"irc_path\"] + orthophotos[4][config['rgb_name_pos']:] # A Changer plus tard\n",
    "mnhc_tiff = config['mnhc_path'] + \"Diff_MNS_CORREL_1-0_LAMB93_20FD3525_\" + str(orthophotos[4][-17:-9]).replace('-', '_') + \".tif\"\n",
    "# position\n",
    "dept = os.path.basename(path_to_orthophoto_rgb)[:2]\n",
    "rgb_x = path_to_orthophoto_rgb[config['rgb_coordinates_pos']: config['rgb_coordinates_pos']+3]\n",
    "rgb_y = path_to_orthophoto_rgb[config['rgb_coordinates_pos']+4: config['rgb_coordinates_pos']+8]\n",
    "mnhc_dir_dept = config['mnhc_path']+dept+'_2020/'"
   ]
  },
  {
   "cell_type": "code",
   "execution_count": 137,
   "id": "44bbc57f-2e12-4db1-9b1b-4706223ec386",
   "metadata": {},
   "outputs": [
    {
     "data": {
      "text/plain": [
       "'données/orthophotos/2006_OK/rvb/35-2006-0305-6780-LA93.tif'"
      ]
     },
     "execution_count": 137,
     "metadata": {},
     "output_type": "execute_result"
    }
   ],
   "source": [
    "config[\"irc_path\"] + orthophotos[4][config['rgb_name_pos']:] "
   ]
  },
  {
   "cell_type": "code",
   "execution_count": 138,
   "id": "5ff8279b-79ea-42ec-bbac-2ab08a76c0fc",
   "metadata": {},
   "outputs": [],
   "source": [
    "# images IRC et RGB\n",
    "# images IRC et RGB\n",
    "ortho_irc_file = config[\"irc_path\"] + '/' + dept + '-2020-0'+rgb_x+'-'+rgb_y+'-LA93-0M20-IRC-E080.jp2'\n",
    "# ouverture\n",
    "ortho_rgb = cv2.resize(np.asarray(Image.open(path_to_orthophoto_rgb)), (10000, 10000), interpolation=cv2.INTER_AREA)\n",
    "ortho_irc = cv2.resize(np.asarray(Image.open(path_to_orthophoto_irc)), (10000, 10000), interpolation=cv2.INTER_AREA)\n",
    "ndvi = np.divide(ortho_irc[:,:,0]-ortho_irc[:,:,1],ortho_irc[:,:,0]+ortho_irc[:,:,1], where =  (ortho_irc[:,:,0]+ortho_irc[:,:,1])!=0 )\n",
    "ortho_irc = None    "
   ]
  },
  {
   "cell_type": "code",
   "execution_count": 139,
   "id": "f247ab85-76a3-4876-ae7e-20220a6f5f02",
   "metadata": {
    "scrolled": true
   },
   "outputs": [
    {
     "name": "stderr",
     "output_type": "stream",
     "text": [
      "  0%|                 | 0/5 [00:00<?, ?it/s]"
     ]
    },
    {
     "name": "stdout",
     "output_type": "stream",
     "text": [
      "pic 1: 0, 0\n",
      "données/MNHC/35_2020/Diff_MNS_CORREL_1-0_LAMB93_20FD3525_305_6780.tif\n"
     ]
    },
    {
     "name": "stderr",
     "output_type": "stream",
     "text": [
      " 20%|█▊       | 1/5 [00:08<00:34,  8.50s/it]"
     ]
    },
    {
     "name": "stdout",
     "output_type": "stream",
     "text": [
      "pic 2: 1, 0\n",
      "données/MNHC/35_2020/Diff_MNS_CORREL_1-0_LAMB93_20FD3525_306_6780.tif\n"
     ]
    },
    {
     "name": "stderr",
     "output_type": "stream",
     "text": [
      " 40%|███▌     | 2/5 [00:15<00:23,  7.67s/it]"
     ]
    },
    {
     "name": "stdout",
     "output_type": "stream",
     "text": [
      "pic 3: 2, 0\n",
      "données/MNHC/35_2020/Diff_MNS_CORREL_1-0_LAMB93_20FD3525_307_6780.tif\n"
     ]
    },
    {
     "name": "stderr",
     "output_type": "stream",
     "text": [
      " 60%|█████▍   | 3/5 [00:23<00:15,  7.70s/it]"
     ]
    },
    {
     "name": "stdout",
     "output_type": "stream",
     "text": [
      "pic 4: 3, 0\n",
      "données/MNHC/35_2020/Diff_MNS_CORREL_1-0_LAMB93_20FD3525_308_6780.tif\n"
     ]
    },
    {
     "name": "stderr",
     "output_type": "stream",
     "text": [
      " 80%|███████▏ | 4/5 [00:30<00:07,  7.67s/it]"
     ]
    },
    {
     "name": "stdout",
     "output_type": "stream",
     "text": [
      "pic 5: 4, 0\n",
      "données/MNHC/35_2020/Diff_MNS_CORREL_1-0_LAMB93_20FD3525_309_6780.tif\n"
     ]
    },
    {
     "name": "stderr",
     "output_type": "stream",
     "text": [
      "100%|█████████| 5/5 [00:38<00:00,  7.70s/it]\n"
     ]
    }
   ],
   "source": [
    "if not os.path.exists(config['rgb_vignettes_path'] + f'rgb_{rgb_x}_{rgb_y}/'):\n",
    "    os.makedirs(config['rgb_vignettes_path'] + f'rgb_{rgb_x}_{rgb_y}/')\n",
    "if not os.path.exists(config['mask_vignettes_path'] + f'mask_{rgb_x}_{rgb_y}/'):\n",
    "    os.makedirs(config['mask_vignettes_path'] + f'mask_{rgb_x}_{rgb_y}/')\n",
    "\n",
    "i = 0\n",
    "# vignette_data = []\n",
    "for mnhc_x in tqdm(range(0,5)):\n",
    "    for mnhc_y in range(0,5):\n",
    "        i+=1\n",
    "        \n",
    "        print(f'pic {i}: {mnhc_x}, {mnhc_y}')\n",
    "        mnhc_file = mnhc_dir_dept+'Diff_MNS_CORREL_1-0_LAMB93_20FD'+dept+'25_'+str(int(int(rgb_x)+mnhc_x))+'_'+str(int(int(rgb_y)-mnhc_y))+'.tif'\n",
    "        \n",
    "        if os.path.exists(mnhc_file):\n",
    "            print(mnhc_file)\n",
    "            mnhc = np.asarray(Image.open(mnhc_file))\n",
    "            w, h = mnhc.shape\n",
    "            mask = np.logical_and(np.logical_and(mnhc > 3., \n",
    "                                                 np.logical_or(mnhc > 5., \n",
    "                                                               std_convoluted(mnhc,N=10) > .5)\n",
    "                                                ),\n",
    "                                  ndvi[mnhc_x*w:(mnhc_x+1)*w, mnhc_y*h:(mnhc_y+1)*h] > 0) \\\n",
    "            .astype('uint8')\n",
    "\n",
    "            for x in range(0, w-IMAGE_SIZE+1, IMAGE_SIZE):\n",
    "                for y in range(0, h-IMAGE_SIZE+1, IMAGE_SIZE):\n",
    "                    # print(x, y)\n",
    "                    crop_rgb = ortho_rgb[mnhc_y*h+y: mnhc_y*h+y+IMAGE_SIZE, mnhc_x*w+x: mnhc_x*w+x+IMAGE_SIZE, :]\n",
    "                    crop_mask = mask[y:y+IMAGE_SIZE, x:x+IMAGE_SIZE]\n",
    "                    # print(crop_mask.dtype, crop_mask.shape)\n",
    "                    # filtre rgb\n",
    "                    # enregistrement\n",
    "                    pos = dept+'_'+str(int((int(rgb_x)+mnhc_x)*1000+x/2))+'_'+str(int((int(rgb_y)-mnhc_y)*1000+y/2))\n",
    "                    \n",
    "                    cv2.imwrite(config['rgb_vignettes_path'] + f'rgb_{rgb_x}_{rgb_y}/' + 'rgb_' + str(pos) + '.jpg', crop_rgb)\n",
    "                    cv2.imwrite(config['mask_vignettes_path'] + f'mask_{rgb_x}_{rgb_y}/' + 'mask_'+ str(pos) + '.png', crop_mask*255)\n",
    "                    \n",
    "                    # caractéristiques image RGB : moyenne/ecart-type hors et dans masque, surface masque\n",
    "                    # Does not work\n",
    "                    # mask = np.stack((crop_mask,)*3, axis=-1)\n",
    "                    # non_mask = np.logical_not(mask)\n",
    "                    # res = [pos,crop_mask.sum()] + \\\n",
    "                    #        np.mean(crop_rgb, axis=(0,1), where=mask).tolist() + \\\n",
    "                    #        np.mean(crop_rgb, axis=(0,1), where=non_mask).tolist() + \\\n",
    "                    #        np.std(crop_rgb, axis=(0,1), where=mask).tolist() + \\\n",
    "                    #        np.std(crop_rgb, axis=(0,1), where=non_mask).tolist()\n",
    "                    # vignette_data.append(res)\n",
    "            break\n",
    "                    \n",
    "# df = pd.DataFrame(vignette_data,columns = ('file','wood_size','w_mean_R','w_mean_G','w_mean_B','nw_mean_R','nw_mean_G','nw_mean_B','w_std_R','w_std_G','w_std_B','nw_std_R','nw_std_G','nw_std_B'))"
   ]
  },
  {
   "cell_type": "code",
   "execution_count": 116,
   "id": "19da78b9-9eda-4bd9-9e12-9f87dc6643c3",
   "metadata": {},
   "outputs": [
    {
     "data": {
      "text/plain": [
       "'vignettes/rgb/rgb_35_309768.0_6780768.0.jpg'"
      ]
     },
     "execution_count": 116,
     "metadata": {},
     "output_type": "execute_result"
    }
   ],
   "source": [
    "config['rgb_vignettes_path'] + 'rgb_' + str(pos) + '.jpg'"
   ]
  },
  {
   "cell_type": "code",
   "execution_count": 112,
   "id": "55572e0b-9f77-4504-8418-99433840f92c",
   "metadata": {},
   "outputs": [
    {
     "data": {
      "text/plain": [
       "'35_309768.0_6780768.0'"
      ]
     },
     "execution_count": 112,
     "metadata": {},
     "output_type": "execute_result"
    }
   ],
   "source": [
    "dept+'_'+str((int(rgb_x)+mnhc_x)*1000+x/2)+'_'+str((int(rgb_y)-mnhc_y)*1000+y/2)"
   ]
  },
  {
   "cell_type": "code",
   "execution_count": 127,
   "id": "109ac08f-12f1-453b-945a-2d0faf1365b0",
   "metadata": {},
   "outputs": [
    {
     "data": {
      "text/plain": [
       "2048"
      ]
     },
     "execution_count": 127,
     "metadata": {},
     "output_type": "execute_result"
    }
   ],
   "source": [
    "256*8"
   ]
  },
  {
   "cell_type": "code",
   "execution_count": 98,
   "id": "eafb3915-686b-4c36-be67-c7a1926ef0d5",
   "metadata": {},
   "outputs": [
    {
     "data": {
      "text/plain": [
       "array([74.40789795, 90.95449829, 64.05075073])"
      ]
     },
     "execution_count": 98,
     "metadata": {},
     "output_type": "execute_result"
    }
   ],
   "source": [
    "np.mean(crop_rgb, axis=(0,1))"
   ]
  },
  {
   "cell_type": "raw",
   "id": "a6b4a464-a403-4226-92b9-76d877b4e47b",
   "metadata": {},
   "source": [
    "plt.imshow(crop_rgb)"
   ]
  },
  {
   "cell_type": "raw",
   "id": "5726101f-da80-48b4-9a37-479f1c97d955",
   "metadata": {},
   "source": [
    "plt.imshow(crop_mask)"
   ]
  },
  {
   "cell_type": "code",
   "execution_count": null,
   "id": "ff829256-b3f2-41bd-9d42-bd5304c15263",
   "metadata": {},
   "outputs": [],
   "source": [
    "from PIL import Image\n",
    "from IPython.display import display\n",
    "import glob,os\n",
    "import numpy as np\n",
    "import matplotlib.pyplot as plt\n",
    "from osgeo import gdal\n",
    "from skimage.transform import resize, downscale_local_mean\n",
    "import scipy\n",
    "import cv2\n",
    "from tqdm import tqdm"
   ]
  },
  {
   "cell_type": "code",
   "execution_count": null,
   "id": "e9626c0d-7302-4f65-b406-b51951f359cb",
   "metadata": {},
   "outputs": [],
   "source": [
    "config = {\n",
    "    \"mnhc_path\":\"données/MNHC/\",\n",
    "    \"ortho_path\":\"données/BDORTHO/ORTHOHR_1-0_RVB-0M20_JP2-E080_LAMB93_D035_2020-01-01/ORTHOHR/1_DONNEES_LIVRAISON_2021-06-00121/OHR_RVB_0M20_JP2-E080_LAMB93_D35-2020/\",# \"données/orthophotos/2006_OK/rvb/\",\n",
    "    \"irc_path\":\"données/BDORTHO_IRC/ORTHOHR_1-0_IRC-0M20_JP2-E080_LAMB93_D035_2020-01-01/ORTHOHR_1-0_IRC-0M20_JP2-E080_LAMB93_D035_2020-01-01/ORTHOHR/1_DONNEES_LIVRAISON_2021-06-00110/OHR_IRC_0M20_JP2-E080_LAMB93_D35-2020/\",# \"données/orthophotos/2006_OK/rvb/\",\n",
    "    'rgb_vignettes_path':'vignettes/rgb/',\n",
    "    'mask_vignettes_path':'vignettes/mask/',\n",
    "    'rgb_coordinates_pos':-27,\n",
    "    'rgb_name_pos':-36,\n",
    "    'img_size':256\n",
    "}"
   ]
  },
  {
   "cell_type": "code",
   "execution_count": null,
   "id": "d075a408-955b-4cb7-a017-e434b0d8f0b3",
   "metadata": {},
   "outputs": [],
   "source": [
    "path_to_orthophoto_rgb = config['ortho_path'] + '35-2020-0305-6780-LA93-0M20-E080.jp2'"
   ]
  },
  {
   "cell_type": "code",
   "execution_count": null,
   "id": "23b28ec3-2960-42a3-9c96-40666517abfe",
   "metadata": {},
   "outputs": [],
   "source": [
    "config[\"irc_path\"] + path_to_orthophoto_rgb[config['rgb_name_pos']:]"
   ]
  },
  {
   "cell_type": "code",
   "execution_count": null,
   "id": "4e1153b2-6610-4056-8352-cc0a40ffcfa8",
   "metadata": {},
   "outputs": [],
   "source": [
    "path_to_orthophoto_rgb[config['rgb_coordinates_pos']+4: config['rgb_coordinates_pos']+8]"
   ]
  },
  {
   "cell_type": "code",
   "execution_count": null,
   "id": "4b72e63d-f36c-44e5-8b12-2ee7a08bb07d",
   "metadata": {},
   "outputs": [],
   "source": [
    "def std_convoluted(im, N):\n",
    "    \"\"\"\n",
    "    Calculate the standard deviation using a convolution operation.\n",
    "\n",
    "    Parameters:\n",
    "    - im (numpy.ndarray): Input image as a NumPy array.\n",
    "    - N (int): Radius of the convolution kernel.\n",
    "\n",
    "    Returns:\n",
    "    - numpy.ndarray: Standard deviation image.\n",
    "    \"\"\"\n",
    "    # Calculate squared image and initialize kernel\n",
    "    im2 = im**2\n",
    "    ones = np.ones(im.shape)\n",
    "    kernel = np.ones((2*N+1, 2*N+1))\n",
    "\n",
    "    # Convolve the image and squared image with the kernel\n",
    "    s = scipy.signal.convolve2d(im, kernel, mode=\"same\")\n",
    "    s2 = scipy.signal.convolve2d(im2, kernel, mode=\"same\")\n",
    "    ns = scipy.signal.convolve2d(ones, kernel, mode=\"same\")\n",
    "\n",
    "    # Calculate the standard deviation image\n",
    "    return np.sqrt((s2 - s**2 / ns) / ns)"
   ]
  },
  {
   "cell_type": "code",
   "execution_count": null,
   "id": "b4ae4b94-6def-4cf7-ad23-e676a4202f23",
   "metadata": {},
   "outputs": [],
   "source": [
    "def my_func(path_to_orthophoto_rgb):\n",
    "    \n",
    "    path_to_orthophoto_irc = config[\"irc_path\"] + path_to_orthophoto_rgb[config['rgb_name_pos']:] # A Changer plus tard\n",
    "    mnhc_tiff = config['mnhc_path'] + \"Diff_MNS_CORREL_1-0_LAMB93_20FD3525_\" + str(path_to_orthophoto_rgb[-17:-9]).replace('-', '_') + \".tif\"\n",
    "    \n",
    "    # position\n",
    "    dept = os.path.basename(path_to_orthophoto_rgb)[:2]\n",
    "    rgb_x = path_to_orthophoto_rgb[config['rgb_coordinates_pos']: config['rgb_coordinates_pos']+3]\n",
    "    rgb_y = path_to_orthophoto_rgb[config['rgb_coordinates_pos']+4: config['rgb_coordinates_pos']+8]\n",
    "    mnhc_dir_dept = config['mnhc_path']+dept+'_2020/'\n",
    "    \n",
    "    # images IRC et RGB\n",
    "    # ortho_irc_file = config[\"irc_path\"] + '/' + dept + '-2020-0'+rgb_x+'-'+rgb_y+'-LA93-0M20-IRC-E080.jp2'\n",
    "    # ouverture\n",
    "    ortho_rgb = cv2.resize(np.asarray(Image.open(path_to_orthophoto_rgb)), (10000, 10000), interpolation=cv2.INTER_AREA)\n",
    "    ortho_irc = cv2.resize(np.asarray(Image.open(path_to_orthophoto_irc)), (10000, 10000), interpolation=cv2.INTER_AREA)\n",
    "    ndvi = np.divide(ortho_irc[:,:,0]-ortho_irc[:,:,1],ortho_irc[:,:,0]+ortho_irc[:,:,1], where =  (ortho_irc[:,:,0]+ortho_irc[:,:,1])!=0 )\n",
    "    ortho_irc = None \n",
    "    \n",
    "    if not os.path.exists(config['rgb_vignettes_path'] + f'rgb_{rgb_x}_{rgb_y}/'):\n",
    "        os.makedirs(config['rgb_vignettes_path'] + f'rgb_{rgb_x}_{rgb_y}/')\n",
    "    if not os.path.exists(config['mask_vignettes_path'] + f'mask_{rgb_x}_{rgb_y}/'):\n",
    "        os.makedirs(config['mask_vignettes_path'] + f'mask_{rgb_x}_{rgb_y}/')\n",
    "    \n",
    "    # vignette_data = []\n",
    "    for mnhc_x in tqdm(range(0,5)):\n",
    "        for mnhc_y in range(0,5):\n",
    "            \n",
    "            mnhc_file = mnhc_dir_dept+'Diff_MNS_CORREL_1-0_LAMB93_20FD'+dept+'25_'+str(int(int(rgb_x)+mnhc_x))+'_'+str(int(int(rgb_y)-mnhc_y))+'.tif'\n",
    "            \n",
    "            if os.path.exists(mnhc_file):\n",
    "                print(mnhc_file)\n",
    "                mnhc = np.asarray(Image.open(mnhc_file))\n",
    "                w, h = mnhc.shape\n",
    "                mask = np.logical_and(np.logical_and(mnhc > 3., \n",
    "                                                     np.logical_or(mnhc > 5., \n",
    "                                                                   std_convoluted(mnhc,N=10) > .5)\n",
    "                                                    ),\n",
    "                                      ndvi[mnhc_x*w:(mnhc_x+1)*w, mnhc_y*h:(mnhc_y+1)*h] > 0) \\\n",
    "                .astype('uint8')\n",
    "                \n",
    "                for x in range(0, w-config['img_size']+1, config['img_size']):\n",
    "                    for y in range(0, h-config['img_size']+1, config['img_size']):\n",
    "                        # print(x, y)\n",
    "                        crop_rgb = ortho_rgb[mnhc_y*h+y: mnhc_y*h+y+config['img_size'], mnhc_x*w+x: mnhc_x*w+x+config['img_size'], :]\n",
    "                        crop_mask = mask[y:y+config['img_size'], x:x+config['img_size']]\n",
    "                        # print(crop_mask.dtype, crop_mask.shape)\n",
    "                        # filtre rgb\n",
    "                        # enregistrement\n",
    "                        pos = dept+'_'+str(int((int(rgb_x)+mnhc_x)*1000+x/2))+'_'+str(int((int(rgb_y)-mnhc_y)*1000+y/2))\n",
    "                        \n",
    "                        cv2.imwrite(config['rgb_vignettes_path'] + f'rgb_{rgb_x}_{rgb_y}/' + 'rgb_' + str(pos) + '.jpg', crop_rgb)\n",
    "                        cv2.imwrite(config['mask_vignettes_path'] + f'mask_{rgb_x}_{rgb_y}/' + 'mask_'+ str(pos) + '.png', crop_mask*255)\n",
    "                \n",
    "                # Si besoin de plus d'images, commenter le break\n",
    "                break"
   ]
  },
  {
   "cell_type": "code",
   "execution_count": null,
   "id": "f9f48073-f46d-4223-8594-cfb03a57e7d0",
   "metadata": {},
   "outputs": [],
   "source": [
    "path_to_orthophoto_rgb = 'données/orthophotos/2006_OK/rvb/35-2006-0310-6780-LA93.tif'\n",
    "\n",
    "my_func(path_to_orthophoto_rgb)"
   ]
  }
 ],
 "metadata": {
  "kernelspec": {
   "display_name": "Python 3 (ipykernel)",
   "language": "python",
   "name": "python3"
  },
  "language_info": {
   "codemirror_mode": {
    "name": "ipython",
    "version": 3
   },
   "file_extension": ".py",
   "mimetype": "text/x-python",
   "name": "python",
   "nbconvert_exporter": "python",
   "pygments_lexer": "ipython3",
   "version": "3.11.5"
  }
 },
 "nbformat": 4,
 "nbformat_minor": 5
}
