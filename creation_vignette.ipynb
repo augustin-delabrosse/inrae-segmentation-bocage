{
 "cells": [
  {
   "cell_type": "raw",
   "id": "5f2f4cc2-0fc5-4bcf-a144-bef7f2cd5759",
   "metadata": {},
   "source": [
    "from PIL import Image\n",
    "from IPython.display import display\n",
    "import glob,os\n",
    "import numpy as np\n",
    "import matplotlib.pyplot as plt\n",
    "from osgeo import gdal\n",
    "from skimage.transform import resize, downscale_local_mean\n",
    "import scipy\n",
    "import cv2\n",
    "from tqdm import tqdm"
   ]
  },
  {
   "cell_type": "raw",
   "id": "553056a8-cccd-4afc-b685-f064f22419c0",
   "metadata": {},
   "source": [
    "mnhc_path = \"données/MNHC/35_2020/\" # \"/Users/pmeurice/Documents/Projets/IGN-DSB/ML/data/inputs-ortho-256/\"\n",
    "ortho_path = \"données/orthophotos/2006_OK/rvb/\"\n",
    "\n",
    "res_path = \"/données/vignettes/\""
   ]
  },
  {
   "cell_type": "raw",
   "id": "0ef2d184-adc0-4732-ba93-1d6266b0a9c1",
   "metadata": {},
   "source": [
    "orthophotos = glob.glob(ortho_path+\"*.tif\")"
   ]
  },
  {
   "cell_type": "raw",
   "id": "452b7d98-3042-494b-be4e-290f9bc4569a",
   "metadata": {},
   "source": [
    "len(orthophotos)"
   ]
  },
  {
   "cell_type": "raw",
   "id": "e867731b-9df9-4e76-a7fd-15962867fb31",
   "metadata": {},
   "source": [
    "orthophotos[4]"
   ]
  },
  {
   "cell_type": "raw",
   "id": "7ecf8a8a-c645-4d26-9758-db97a73e116d",
   "metadata": {
    "scrolled": true
   },
   "source": [
    "tif_image = Image.open(orthophotos[4])\n",
    "# jp2_image_bis = Image.open(\"/Volumes/LaCie SSD/Orthos_35/1993/35-1993-0320-6742-LA93.TIF\")\n",
    "# Display the JP2 image directly in the Jupyter Notebook/Lab\n",
    "# display(tif_image.resize((500,500), resample=Image.Resampling.BICUBIC))"
   ]
  },
  {
   "cell_type": "raw",
   "id": "c99a5460-a9a2-4977-9522-93c550b772ae",
   "metadata": {},
   "source": [
    "display(tif_image.crop((0, 0, 2000, 2000)))"
   ]
  },
  {
   "cell_type": "raw",
   "id": "66af8cf3-892b-4dab-aecc-643ad1e70dc7",
   "metadata": {},
   "source": [
    "mnhc = glob.glob(mnhc_path+\"*.tif\")"
   ]
  },
  {
   "cell_type": "raw",
   "id": "92dbf47b-538a-4f53-9e86-fea406e96056",
   "metadata": {},
   "source": [
    "len(mnhc)"
   ]
  },
  {
   "cell_type": "raw",
   "id": "9a7417aa-5c64-43a1-97a5-d437af2091e8",
   "metadata": {},
   "source": [
    "mnhc[:5]"
   ]
  },
  {
   "cell_type": "raw",
   "id": "dc8a2afe-e6bd-4e64-be9e-ac005f0f1bcb",
   "metadata": {},
   "source": [
    "import tifffile as tiff\n",
    "import matplotlib.pyplot as plt\n",
    "\n",
    "# Open the TIFF image\n",
    "tif_image = tiff.imread('données/MNHC/35_2020\\\\Diff_MNS_CORREL_1-0_LAMB93_20FD3525_305_6780.tif')\n",
    "\n",
    "# Display the image using Matplotlib\n",
    "plt.imshow(tif_image, cmap=\"binary_r\")  # You can specify the colormap if needed\n",
    "plt.axis('off')  # Turn off the axis labels and ticks\n",
    "plt.show()"
   ]
  },
  {
   "cell_type": "raw",
   "id": "5b518222-2347-40e4-8058-16b5c4b7ee43",
   "metadata": {},
   "source": [
    "mnhc_path + \"Diff_MNS_CORREL_1-0_LAMB93_20FD3525_\" + str(orthophotos[4][-17:-9]).replace('-', '_') + \".tif\""
   ]
  },
  {
   "cell_type": "raw",
   "id": "e3fe99ff-40cf-44d8-b239-264cb212f2fd",
   "metadata": {},
   "source": [
    "def std_convoluted(im, N):\n",
    "    \"\"\"\n",
    "    Calculate the standard deviation using a convolution operation.\n",
    "\n",
    "    Parameters:\n",
    "    - im (numpy.ndarray): Input image as a NumPy array.\n",
    "    - N (int): Radius of the convolution kernel.\n",
    "\n",
    "    Returns:\n",
    "    - numpy.ndarray: Standard deviation image.\n",
    "    \"\"\"\n",
    "    # Calculate squared image and initialize kernel\n",
    "    im2 = im**2\n",
    "    ones = np.ones(im.shape)\n",
    "    kernel = np.ones((2*N+1, 2*N+1))\n",
    "\n",
    "    # Convolve the image and squared image with the kernel\n",
    "    s = scipy.signal.convolve2d(im, kernel, mode=\"same\")\n",
    "    s2 = scipy.signal.convolve2d(im2, kernel, mode=\"same\")\n",
    "    ns = scipy.signal.convolve2d(ones, kernel, mode=\"same\")\n",
    "\n",
    "    # Calculate the standard deviation image\n",
    "    return np.sqrt((s2 - s**2 / ns) / ns)"
   ]
  },
  {
   "cell_type": "raw",
   "id": "818398ee-5800-444d-8f85-794407e0a3bb",
   "metadata": {},
   "source": [
    "path_to_orthophoto = orthophotos[4]\n",
    "IMAGE_SIZE = 256\n",
    "\n",
    "# Extract position information from the orthophoto path\n",
    "position = path_to_orthophoto[-17:-9] # CHANGEMENT orthophoto[-28:-19]\n",
    "print(position, flush=True)\n",
    "\n",
    "# Open the orthophoto and MNHC images\n",
    "ortho = Image.open(path_to_orthophoto)\n",
    "mnhc = Image.open(mnhc_path + \"Diff_MNS_CORREL_1-0_LAMB93_20FD3525_\" + path_to_orthophoto[-17:-9].replace('-', '_') + \".tif\")\n",
    "width, height = mnhc.size\n",
    "\n",
    "# Resize the orthophoto to match the size of MNHC\n",
    "ortho = ortho.resize(mnhc.size, resample=Image.Resampling.BICUBIC)\n",
    "o = np.array(ortho)\n",
    "\n",
    "# Calculate NDVI (Normalized Difference Vegetation Index)\n",
    "ndvi = np.divide(o[:,:,0]-o[:,:,1], o[:,:,0]+o[:,:,1], where=(o[:,:,0]+o[:,:,1]) != 0)\n",
    "\n",
    "npmnhc = np.array(mnhc)\n",
    "\n",
    "# Calculate standard deviation of the MNHC using the provided function\n",
    "std = std_convoluted(npmnhc, N=10)\n",
    "\n",
    "# Create a mask based on specified conditions\n",
    "mask = Image.fromarray(np.logical_and(\n",
    "    np.logical_and(npmnhc > 3., # (npmnhc > 3. pour ne garder que les valeurs de hauteur strictement supérieures à 3 mètres afin de limiter les erreurs liées à l’imprécision du MNS\n",
    "                   np.logical_or(npmnhc > 5., std > .5)), \n",
    "    ndvi > 0 # cad végétation\n",
    "))"
   ]
  },
  {
   "cell_type": "raw",
   "id": "95e2083d-8949-4959-a5ca-bf6a8723296a",
   "metadata": {},
   "source": [
    "path_to_orthophoto = orthophotos[4]\n",
    "IMAGE_SIZE = 256\n",
    "\n",
    "# Extract position information from the orthophoto path\n",
    "position = path_to_orthophoto[-17:-9] # CHANGEMENT orthophoto[-28:-19]\n",
    "print(position, flush=True)\n",
    "\n",
    "# Open the orthophoto and MNHC images\n",
    "ortho = Image.open(path_to_orthophoto)\n",
    "mnhc = Image.open(mnhc_path + \"Diff_MNS_CORREL_1-0_LAMB93_20FD3525_\" + path_to_orthophoto[-17:-9].replace('-', '_') + \".tif\")\n",
    "width, height = mnhc.size\n",
    "\n",
    "# Resize the orthophoto to match the size of MNHC\n",
    "ortho = ortho.resize(mnhc.size, resample=Image.Resampling.BICUBIC)\n",
    "o = np.array(ortho)\n",
    "\n",
    "# Calculate NDVI (Normalized Difference Vegetation Index)\n",
    "ndvi = np.divide(o[:,:,0]-o[:,:,1], o[:,:,0]+o[:,:,1], where=(o[:,:,0]+o[:,:,1]) != 0)\n",
    "\n",
    "npmnhc = np.array(mnhc)\n",
    "\n",
    "# Calculate standard deviation of the MNHC using the provided function\n",
    "std = std_convoluted(npmnhc, N=10)\n",
    "\n",
    "# Create a mask based on specified conditions\n",
    "mask = Image.fromarray(np.logical_and(\n",
    "    np.logical_and(npmnhc > 3., # (npmnhc > 3. pour ne garder que les valeurs de hauteur strictement supérieures à 3 mètres afin de limiter les erreurs liées à l’imprécision du MNS\n",
    "                   np.logical_or(npmnhc > 5., std > .5)), \n",
    "    ndvi > 0 # cad végétation\n",
    "))"
   ]
  },
  {
   "cell_type": "raw",
   "id": "af0db7d9-17eb-4314-a013-4662ea6e051a",
   "metadata": {},
   "source": [
    "plt.imshow(std)\n",
    "plt.axis('off');"
   ]
  },
  {
   "cell_type": "raw",
   "id": "f6659ad9-f9f1-4027-b2f3-13d5efc6da00",
   "metadata": {},
   "source": [
    "plt.imshow(np.array(mask)*1)\n",
    "plt.axis('off');"
   ]
  },
  {
   "cell_type": "raw",
   "id": "107ece7e-b097-4faa-adc8-12097fdd4e81",
   "metadata": {},
   "source": [
    "plt.imshow(ndvi)\n",
    "plt.axis('off');"
   ]
  },
  {
   "cell_type": "raw",
   "id": "e00d4c55-91b3-4078-bd48-335c01a45494",
   "metadata": {},
   "source": [
    "nonvalides = 0\n",
    "i = 0\n",
    "for x in range(0, width - IMAGE_SIZE, IMAGE_SIZE): #(0, width - IMAGE_SIZE, IMAGE_SIZE)\n",
    "    for y in range(0, height - IMAGE_SIZE, IMAGE_SIZE): #(0, height - IMAGE_SIZE, IMAGE_SIZE)\n",
    "\n",
    "        # i+=1\n",
    "        # y = 0\n",
    "        # Test if MNHC is valid\n",
    "        xw = x + IMAGE_SIZE - 1\n",
    "        yh = y + IMAGE_SIZE - 1\n",
    "        # print(i)\n",
    "        # print((x, y, xw, yh))\n",
    "        # print((x - x % 2000, y - y % 2000, x - x % 2000 + 2000, y - y % 2000 + 2000))\n",
    "        # print((xw - xw % 2000, yh - yh % 2000, xw - xw % 2000 + 2000, yh - yh % 2000 + 2000))\n",
    "        # print((x - x % 2000, yh - yh % 2000, x - x % 2000 + 2000, yh - yh % 2000 + 2000))\n",
    "        # print((xw - xw % 2000, y - y % 2000, xw - xw % 2000 + 2000, y - y % 2000 + 2000))\n",
    "        # plt.imshow(np.array(mnhc.crop((x - x % 2000, y - y % 2000, x - x % 2000 + 2000, y - y % 2000 + 2000))))\n",
    "        # print('')\n",
    "        \n",
    "        if np.array(mnhc.crop((x - x % 2000, y - y % 2000, x - x % 2000 + 2000, y - y % 2000 + 2000))).sum() == 0 or \\\n",
    "           np.array(mnhc.crop((xw - xw % 2000, y - y % 2000, xw - xw % 2000 + 2000, y - y % 2000 + 2000))).sum() == 0 or \\\n",
    "           np.array(mnhc.crop((x - x % 2000, yh - yh % 2000, x - x % 2000 + 2000, yh - yh % 2000 + 2000))).sum() == 0 or \\\n",
    "           np.array(mnhc.crop((xw - xw % 2000, yh - yh % 2000, xw - xw % 2000 + 2000, yh - yh % 2000 + 2000))).sum() == 0:\n",
    "            nonvalides = nonvalides + 1\n",
    "            \n",
    "            continue\n",
    "\n",
    "        # Create a filename for the vignette\n",
    "        vname = \"35-2020-\"+position+\"-\"+str(x).zfill(4)+\"-\"+str(y).zfill(4)+\"-050M-\"\n",
    "\n",
    "        # Save the orthophoto and mask as vignettes\n",
    "        ortho.crop((x, y, x + IMAGE_SIZE, y + IMAGE_SIZE)).save(\"vignettes/inputs-ortho-256/\"+vname+\"ortho.jpg\")\n",
    "        v_mask = mask.crop((x, y, x + IMAGE_SIZE, y + IMAGE_SIZE))\n",
    "        v_mask.save(\"vignettes/annotations-256/\"+vname+\"mask.png\")\n",
    "\n",
    "print(position+\" : \"+str(nonvalides)+\" non valides\", flush=True)"
   ]
  },
  {
   "cell_type": "raw",
   "id": "3e6df33b-5219-4828-b38b-7423ee9089f4",
   "metadata": {
    "scrolled": true
   },
   "source": [
    "nonvalides = 0\n",
    "i = 0\n",
    "for x in range(0, width - IMAGE_SIZE, IMAGE_SIZE): #(0, width - IMAGE_SIZE, IMAGE_SIZE)\n",
    "    for y in range(0, height - IMAGE_SIZE, IMAGE_SIZE): #(0, height - IMAGE_SIZE, IMAGE_SIZE)\n",
    "\n",
    "        # i+=1\n",
    "        # y = 0\n",
    "        # Test if MNHC is valid\n",
    "        xw = x + IMAGE_SIZE - 1\n",
    "        yh = y + IMAGE_SIZE - 1\n",
    "        # print(i)\n",
    "        # print((x, y, xw, yh))\n",
    "        # print((x - x % 2000, y - y % 2000, x - x % 2000 + 2000, y - y % 2000 + 2000))\n",
    "        # print((xw - xw % 2000, yh - yh % 2000, xw - xw % 2000 + 2000, yh - yh % 2000 + 2000))\n",
    "        # print((x - x % 2000, yh - yh % 2000, x - x % 2000 + 2000, yh - yh % 2000 + 2000))\n",
    "        # print((xw - xw % 2000, y - y % 2000, xw - xw % 2000 + 2000, y - y % 2000 + 2000))\n",
    "        # plt.imshow(np.array(mnhc.crop((x - x % 2000, y - y % 2000, x - x % 2000 + 2000, y - y % 2000 + 2000))))\n",
    "        # print('')\n",
    "        \n",
    "        if np.array(mnhc.crop((x - x % 2000, y - y % 2000, x - x % 2000 + 2000, y - y % 2000 + 2000))).sum() == 0 or \\\n",
    "           np.array(mnhc.crop((xw - xw % 2000, y - y % 2000, xw - xw % 2000 + 2000, y - y % 2000 + 2000))).sum() == 0 or \\\n",
    "           np.array(mnhc.crop((x - x % 2000, yh - yh % 2000, x - x % 2000 + 2000, yh - yh % 2000 + 2000))).sum() == 0 or \\\n",
    "           np.array(mnhc.crop((xw - xw % 2000, yh - yh % 2000, xw - xw % 2000 + 2000, yh - yh % 2000 + 2000))).sum() == 0:\n",
    "            nonvalides = nonvalides + 1\n",
    "            \n",
    "            continue\n",
    "\n",
    "        # Create a filename for the vignette\n",
    "        vname = \"35-2020-\"+position+\"-\"+str(x).zfill(4)+\"-\"+str(y).zfill(4)+\"-050M-\"\n",
    "\n",
    "        # Save the orthophoto and mask as vignettes\n",
    "        ortho.crop((x, y, x + IMAGE_SIZE, y + IMAGE_SIZE)).save(\"vignettes/inputs-ortho-256/\"+vname+\"ortho.jpg\")\n",
    "        v_mask = mask.crop((x, y, x + IMAGE_SIZE, y + IMAGE_SIZE))\n",
    "        v_mask.save(\"vignettes/annotations-256/\"+vname+\"mask.png\")\n",
    "\n",
    "print(position+\" : \"+str(nonvalides)+\" non valides\", flush=True)"
   ]
  },
  {
   "cell_type": "raw",
   "id": "237bfad0-23d8-4811-9012-7cbef2022ed6",
   "metadata": {},
   "source": [
    "mask.crop((x, y, x + IMAGE_SIZE, y + IMAGE_SIZE))"
   ]
  },
  {
   "cell_type": "raw",
   "id": "ec23515f-1dae-4a5f-b49c-435617363ea7",
   "metadata": {},
   "source": [
    "ortho.crop((x, y, x + IMAGE_SIZE, y + IMAGE_SIZE))"
   ]
  },
  {
   "cell_type": "raw",
   "id": "e2b4b774-9192-43fa-8d56-8b85db2fe9d4",
   "metadata": {},
   "source": [
    "x, y, x + IMAGE_SIZE, y + IMAGE_SIZE"
   ]
  },
  {
   "cell_type": "raw",
   "id": "5aefc9d7-d246-47ef-876d-6772935374eb",
   "metadata": {},
   "source": [
    "plt.imshow(np.array(mnhc.crop((x-256, y-256, x + IMAGE_SIZE + 256, y + IMAGE_SIZE + 256))), cmap=\"binary_r\")"
   ]
  },
  {
   "cell_type": "raw",
   "id": "0d8bf576-f8b8-4959-a411-c4e8b9c3040a",
   "metadata": {},
   "source": [
    "print(f\"\"\"\n",
    "x: {x}\n",
    "y: {y}\n",
    "xw: {xw}\n",
    "yh: {yh}\n",
    "\"\"\")"
   ]
  },
  {
   "cell_type": "raw",
   "id": "4b1db6a2-0bfb-41cb-a90e-387614a9a68b",
   "metadata": {},
   "source": [
    "print((x - x % 2000, y - y % 2000, x - x % 2000 + 2000, y - y % 2000 + 2000))\n",
    "plt.imshow(np.array(mnhc.crop(((1536, 0, 1791, 255)))))#mnhc.crop((x - x % 2000, y - y % 2000, x - x % 2000 + 2000, y - y % 2000 + 2000))))"
   ]
  },
  {
   "cell_type": "raw",
   "id": "945af689-5b26-4f4e-8121-fbda87d7bb3a",
   "metadata": {},
   "source": [
    "print((xw - xw % 2000, y - y % 2000, xw - xw % 2000 + 2000, y - y % 2000 + 2000))\n",
    "plt.imshow(np.array(mnhc.crop((xw - xw % 2000, y - y % 2000, xw - xw % 2000 + 2000, y - y % 2000 + 2000))))"
   ]
  },
  {
   "cell_type": "raw",
   "id": "1f3c42f2-e243-496c-acae-a5a1b91b71ab",
   "metadata": {},
   "source": [
    "print((x - x % 2000, yh - yh % 2000, x - x % 2000 + 2000, yh - yh % 2000 + 2000))\n",
    "plt.imshow(np.array(mnhc.crop((x - x % 2000, yh - yh % 2000, x - x % 2000 + 2000, yh - yh % 2000 + 2000))))"
   ]
  },
  {
   "cell_type": "raw",
   "id": "54b11f41-5c4d-4dfa-bb57-a25ef9a4a549",
   "metadata": {},
   "source": [
    "print((xw - xw % 2000, yh - yh % 2000, xw - xw % 2000 + 2000, yh - yh % 2000 + 2000))\n",
    "plt.imshow(np.array(mnhc.crop((xw - xw % 2000, yh - yh % 2000, xw - xw % 2000 + 2000, yh - yh % 2000 + 2000))))"
   ]
  },
  {
   "cell_type": "raw",
   "id": "4def2264-9c98-4562-ab4d-c010d3dc6fb9",
   "metadata": {},
   "source": [
    "def vignettes_from_ortho(ortho_rgb_file):\n",
    "    # position\n",
    "    dept = os.path.basename(ortho_rgb_file)[0:2]\n",
    "    rgb_x = ortho_rgb_file[rgb_position:rgb_position+3]\n",
    "    rgb_y = ortho_rgb_file[rgb_position+4:rgb_position+8]\n",
    "    mnhc_dir_dept = mnhc_dir+dept+'_2020/'\n",
    "    # images IRC et RGB\n",
    "    ortho_irc_file = path_IRC[dept] + '/' + dept + '-2020-0'+rgb_x+'-'+rgb_y+'-LA93-0M20-IRC-E080.jp2'\n",
    "    # ouverture\n",
    "    ortho_rgb = cv2.resize(np.asarray(Image.open(ortho_rgb_file)), (10000, 10000), interpolation=cv2.INTER_AREA)\n",
    "    ortho_irc = cv2.resize(np.asarray(Image.open(ortho_irc_file)), (10000, 10000), interpolation=cv2.INTER_AREA)\n",
    "    ndvi = np.divide(ortho_irc[:,:,0]-ortho_irc[:,:,1],ortho_irc[:,:,0]+ortho_irc[:,:,1], where =  (ortho_irc[:,:,0]+ortho_irc[:,:,1])!=0 )\n",
    "    ortho_irc = None\n",
    "\n",
    "    vignette_data = []\n",
    "    for mnhc_x in range(0,5):\n",
    "        for mnhc_y in range(0,5):\n",
    "            mnhc_file = mnhc_dir_dept+'Diff_MNS_CORREL_1-0_LAMB93_20FD'+dept+'25_'+str(int(int(rgb_x)+mnhc_x))+'_'+str(int(int(rgb_y)-mnhc_y-1))+'.tif'\n",
    "            print(mnhc_file)\n",
    "            if os.path.exists(mnhc_file):\n",
    "                # lecture mnhc + calcul masque\n",
    "                mnhc = np.asarray(Image.open(mnhc_file))\n",
    "                w,h=mnhc.shape\n",
    "                mask = np.logical_and(np.logical_and( mnhc>3. , np.logical_or(mnhc>5., std_convoluted(mnhc,N=10)>.5) ),ndvi[mnhc_x*w:(mnhc_x+1)*w,mnhc_y*h:(mnhc_y+1)*h]>0).astype('uint8')\n",
    "                for x in range(0,w-IMAGE_SIZE+1,IMAGE_SIZE):\n",
    "                    for y in range(0,h-IMAGE_SIZE+1,IMAGE_SIZE):\n",
    "                        print(x,y)\n",
    "                        crop_rgb = ortho_rgb[mnhc_y*h+y:mnhc_y*h+y+IMAGE_SIZE,mnhc_x*w+x:mnhc_x*w+x+IMAGE_SIZE,:]\n",
    "                        crop_mask = mask[y:y+IMAGE_SIZE,x:x+IMAGE_SIZE]\n",
    "                        print(crop_mask.dtype,crop_mask.shape)\n",
    "                        # filtre rgb\n",
    "                        # enregistrement\n",
    "                        pos = dept+'_'+str((int(rgb_x)+mnhc_x)*1000+x/2)+'_'+str((int(rgb_y)-mnhc_y)*1000+y/2)\n",
    "                        cv2.imwrite( rgb_vignettes_dir + 'rgb_' + pos + '.jpg', crop_rgb)\n",
    "                        cv2.imwrite(mask_vignettes_dir + 'mask_'+ pos + '.png', crop_mask)\n",
    "                        # caractéristiques image RGB : moyenne/ecart-type hors et dans masque, surface masque\n",
    "                        mask = np.stack((crop_mask,)*3, axis=-1)\n",
    "                        non_mask = np.logical_not(mask)\n",
    "                        res = [pos,crop_mask.sum()] + ...\n",
    "                               np.mean(crop_rgb,axis=(0,1),where = mask    ).tolist() + \n",
    "                               np.mean(crop_rgb,axis=(0,1),where = non_mask).tolist() + ...\n",
    "                               np.std( crop_rgb,axis=(0,1),where = mask    ).tolist() + ...\n",
    "                               np.std (crop_rgb,axis=(0,1),where = non_mask).tolist()\n",
    "                        vignette_data.append(res)\n",
    "    return pd.DataFrame(vignette_data,columns = ('file','wood_size','w_mean_R','w_mean_G','w_mean_B','nw_mean_R','nw_mean_G','nw_mean_B','w_std_R','w_std_G','w_std_B','nw_std_R','nw_std_G','nw_std_B'))    "
   ]
  },
  {
   "cell_type": "code",
   "execution_count": 60,
   "id": "b0036676-d6a9-424a-bbf3-367d54d42bed",
   "metadata": {},
   "outputs": [
    {
     "data": {
      "text/plain": [
       "'35-2006-0305-6780-LA93.tif'"
      ]
     },
     "execution_count": 60,
     "metadata": {},
     "output_type": "execute_result"
    }
   ],
   "source": [
    "orthophotos[4][-26:]"
   ]
  },
  {
   "cell_type": "raw",
   "id": "e14c9a7e-4697-4f24-80c2-32397b90bd6c",
   "metadata": {},
   "source": [
    "config = {\n",
    "    \"mnhc_path\":\"données/MNHC/\",\n",
    "    \"ortho_path\":\"données/orthophotos/2006_OK/rvb/\",\n",
    "    \"irc_path\":\"données/orthophotos/2006_OK/rvb/\",\n",
    "    'rgb_vignettes_path':'vignettes/rgb/',\n",
    "    'mask_vignettes_path':'vignettes/mask/',\n",
    "    'rgb_coordinates_pos':-17,\n",
    "    'rgb_name_pos':-26\n",
    "}\n",
    "\n",
    "path_to_orthophoto_rgb = config[\"ortho_path\"] + orthophotos[4][config['rgb_name_pos']:]\n",
    "path_to_orthophoto_irc = config[\"irc_path\"] + orthophotos[4][config['rgb_name_pos']:] # A Changer plus tard\n",
    "mnhc_tiff = config['mnhc_path'] + \"Diff_MNS_CORREL_1-0_LAMB93_20FD3525_\" + str(orthophotos[4][-17:-9]).replace('-', '_') + \".tif\"\n",
    "# position\n",
    "dept = os.path.basename(path_to_orthophoto_rgb)[:2]\n",
    "rgb_x = path_to_orthophoto_rgb[config['rgb_coordinates_pos']: config['rgb_coordinates_pos']+3]\n",
    "rgb_y = path_to_orthophoto_rgb[config['rgb_coordinates_pos']+4: config['rgb_coordinates_pos']+8]\n",
    "mnhc_dir_dept = config['mnhc_path']+dept+'_2020/'"
   ]
  },
  {
   "cell_type": "raw",
   "id": "733b6f15-0818-4954-89fe-b6e35056a57f",
   "metadata": {},
   "source": [
    "config[\"irc_path\"] + orthophotos[4][config['rgb_name_pos']:] "
   ]
  },
  {
   "cell_type": "raw",
   "id": "c040943e-b4e6-4176-aadf-89eac0d31c75",
   "metadata": {},
   "source": [
    "# images IRC et RGB\n",
    "# images IRC et RGB\n",
    "ortho_irc_file = config[\"irc_path\"] + '/' + dept + '-2020-0'+rgb_x+'-'+rgb_y+'-LA93-0M20-IRC-E080.jp2'\n",
    "# ouverture\n",
    "ortho_rgb = cv2.resize(np.asarray(Image.open(path_to_orthophoto_rgb)), (10000, 10000), interpolation=cv2.INTER_AREA)\n",
    "ortho_irc = cv2.resize(np.asarray(Image.open(path_to_orthophoto_irc)), (10000, 10000), interpolation=cv2.INTER_AREA)\n",
    "ndvi = np.divide(ortho_irc[:,:,0]-ortho_irc[:,:,1],ortho_irc[:,:,0]+ortho_irc[:,:,1], where =  (ortho_irc[:,:,0]+ortho_irc[:,:,1])!=0 )\n",
    "ortho_irc = None    "
   ]
  },
  {
   "cell_type": "raw",
   "id": "2c421254-3850-4632-b37b-ea31ebcdbc90",
   "metadata": {},
   "source": [
    "path_to_orthophoto_rgb"
   ]
  },
  {
   "cell_type": "raw",
   "id": "df0122ec-40d8-4094-a0dd-b91b4249c549",
   "metadata": {},
   "source": [
    "Image.MAX_IMAGE_PIXELS = None\n",
    "\n",
    "rgb_name = os.path.basename(path_to_orthophoto_rgb)\n",
    "dept = rgb_name[:2]\n",
    "year = rgb_name[3:7]\n",
    "path_to_orthophoto_irc = config[\"irc_path\"][dept][year] + rgb_name[:config['irc_pos']] + '-IRC' + rgb_name[config['irc_pos']:]# config[\"irc_path\"] + path_to_orthophoto_rgb[config['rgb_name_pos']:] # A Changer plus tard\n",
    "# mnhc_tiff = config['mnhc_path'] + \"Diff_MNS_CORREL_1-0_LAMB93_20FD3525_\" + str(path_to_orthophoto_rgb[config['rgb_coordinates_pos']:config['rgb_coordinates_pos']+8]).replace('-', '_') + \".tif\"\n",
    "\n",
    "# position\n",
    "rgb_x = path_to_orthophoto_rgb[config['rgb_coordinates_pos']: config['rgb_coordinates_pos']+3]\n",
    "rgb_y = path_to_orthophoto_rgb[config['rgb_coordinates_pos']+4: config['rgb_coordinates_pos']+8]\n",
    "mnhc_dir_dept = config['mnhc_path']+dept+'_'+year+'/'\n",
    "\n",
    "# images IRC et RGB\n",
    "# ortho_irc_file = config[\"irc_path\"] + '/' + dept + '-2020-0'+rgb_x+'-'+rgb_y+'-LA93-0M20-IRC-E080.jp2'\n",
    "# ouverture\n",
    "ortho_rgb = cv2.resize(np.asarray(Image.open(path_to_orthophoto_rgb)), (10000, 10000), interpolation=cv2.INTER_AREA)\n",
    "ortho_irc = cv2.resize(np.asarray(Image.open(path_to_orthophoto_irc)), (10000, 10000), interpolation=cv2.INTER_AREA) \n",
    "ndvi = np.divide(ortho_irc[:,:,0]-ortho_irc[:,:,1],ortho_irc[:,:,0]+ortho_irc[:,:,1], where=(ortho_irc[:,:,0]+ortho_irc[:,:,1])!=0 )\n",
    "ortho_irc = None \n",
    "\n",
    "if not os.path.exists(config['rgb_vignettes_path'] + f'rgb_{rgb_x}_{rgb_y}/'):\n",
    "    os.makedirs(config['rgb_vignettes_path'] + f'rgb_{rgb_x}_{rgb_y}/')\n",
    "if not os.path.exists(config['mask_vignettes_path'] + f'mask_{rgb_x}_{rgb_y}/'):\n",
    "    os.makedirs(config['mask_vignettes_path'] + f'mask_{rgb_x}_{rgb_y}/')"
   ]
  },
  {
   "cell_type": "raw",
   "id": "c7e3dd9c-6e40-477d-b11e-1defeabb1752",
   "metadata": {},
   "source": [
    "np.logical_and(np.logical_and(mnhc > 3., \n",
    "                                                 np.logical_or(mnhc > 5., \n",
    "                                                               std_convoluted(mnhc,N=10) > .5)\n",
    "                                                ),\n",
    "                                  ndvi[mnhc_x*w:(mnhc_x+1)*w, mnhc_y*h:(mnhc_y+1)*h] > 0) \\\n",
    "            .astype('uint8')"
   ]
  },
  {
   "cell_type": "raw",
   "id": "258e1f41-70cd-40c9-8bad-5320f169ff87",
   "metadata": {
    "scrolled": true
   },
   "source": [
    "\n",
    "\n",
    "vignette_data = []\n",
    "for mnhc_x in tqdm(range(0,5)):\n",
    "    for mnhc_y in range(0,5):\n",
    "        \n",
    "        mnhc_file = mnhc_dir_dept+'Diff_MNS_CORREL_1-0_LAMB93_20FD'+dept+'25_'+str(int(int(rgb_x)+mnhc_x))+'_'+str(int(int(rgb_y)-mnhc_y))+'.tif'\n",
    "        \n",
    "        if os.path.exists(mnhc_file):\n",
    "            print(mnhc_file)\n",
    "            mnhc = np.asarray(Image.open(mnhc_file))\n",
    "            w, h = mnhc.shape\n",
    "            mask = np.logical_and(np.logical_and(mnhc > 3., \n",
    "                                                 np.logical_or(mnhc > 5., \n",
    "                                                               std_convoluted(mnhc,N=10) > .5)\n",
    "                                                ),\n",
    "                                  ndvi[mnhc_x*w:(mnhc_x+1)*w, mnhc_y*h:(mnhc_y+1)*h] > 0) \\\n",
    "            .astype('uint8')\n",
    "\n",
    "            \n",
    "            \n",
    "            for x in range(0, w-config['img_size']+1, config['img_size']):\n",
    "                for y in range(0, h-config['img_size']+1, config['img_size']):\n",
    "                    # print(x, y)\n",
    "                    crop_rgb = ortho_rgb[mnhc_y*h+y: mnhc_y*h+y+config['img_size'], mnhc_x*w+x: mnhc_x*w+x+config['img_size'], :]\n",
    "                    crop_mask = mask[y:y+config['img_size'], x:x+config['img_size']]\n",
    "                    # print(crop_mask.dtype, crop_mask.shape)\n",
    "                    print(crop_mask)\n",
    "                    if crop_mask.tolist() == []:\n",
    "                        print('pass')\n",
    "                        continue\n",
    "                    # filtre rgb\n",
    "                    # enregistrement\n",
    "                    pos = dept+'_'+str(int((int(rgb_x)+mnhc_x)*1000+x/2))+'_'+str(int((int(rgb_y)-mnhc_y)*1000+y/2))\n",
    "                    \n",
    "                    cv2.imwrite(config['rgb_vignettes_path'] + f'rgb_{rgb_x}_{rgb_y}/' + 'rgb_' + str(pos) + '.jpg', crop_rgb)\n",
    "                    cv2.imwrite(config['mask_vignettes_path'] + f'mask_{rgb_x}_{rgb_y}/' + 'mask_'+ str(pos) + '.png', crop_mask*255)\n",
    "\n",
    "                   # caractéristiques image RGB : moyenne/ecart-type hors et dans masque, surface masque\n",
    "                    # Does not work\n",
    "                    my_mask = np.stack((crop_mask,)*3, axis=-1)\n",
    "                    non_mask = np.logical_not(my_mask)\n",
    "                    res = [pos,crop_mask.sum()] + \\\n",
    "                           np.mean(crop_rgb, axis=(0,1), where=my_mask.astype(bool)).tolist() + \\\n",
    "                           np.mean(crop_rgb, axis=(0,1), where=non_mask.astype(bool)).tolist() + \\\n",
    "                           np.std(crop_rgb, axis=(0,1), where=my_mask.astype(bool)).tolist() + \\\n",
    "                           np.std(crop_rgb, axis=(0,1), where=non_mask.astype(bool)).tolist()\n",
    "                    vignette_data.append(res)\n",
    "        break\n",
    "                \n",
    "df = pd.DataFrame(vignette_data,columns = ('file','wood_size','w_mean_R','w_mean_G','w_mean_B','nw_mean_R','nw_mean_G','nw_mean_B','w_std_R','w_std_G','w_std_B','nw_std_R','nw_std_G','nw_std_B'))"
   ]
  },
  {
   "cell_type": "raw",
   "id": "4aba07de-3ea0-45ad-8cee-1de9182c2230",
   "metadata": {},
   "source": [
    "crop_mask == []"
   ]
  },
  {
   "cell_type": "raw",
   "id": "9a5e2a66-132f-43df-8a5e-0891c7abb8c6",
   "metadata": {},
   "source": [
    "np.mean(crop_rgb, axis=(0,1), where=mask.astype(bool)).tolist()"
   ]
  },
  {
   "cell_type": "raw",
   "id": "51e4ac63-8b8d-49ab-8249-bf73975c222c",
   "metadata": {},
   "source": [
    "crop_rgb.shape"
   ]
  },
  {
   "cell_type": "raw",
   "id": "890a9232-e433-4c68-8bbe-5040ed6b5d8e",
   "metadata": {},
   "source": [
    "config['rgb_vignettes_path'] + 'rgb_' + str(pos) + '.jpg'"
   ]
  },
  {
   "cell_type": "raw",
   "id": "df2ca387-b6bd-4886-9363-95d0b9691eba",
   "metadata": {},
   "source": [
    "dept+'_'+str((int(rgb_x)+mnhc_x)*1000+x/2)+'_'+str((int(rgb_y)-mnhc_y)*1000+y/2)"
   ]
  },
  {
   "cell_type": "raw",
   "id": "a0a1009a-6e4a-4ee8-bfa0-e0a6c490e406",
   "metadata": {},
   "source": [
    "256*8"
   ]
  },
  {
   "cell_type": "raw",
   "id": "37c63445-dfec-4b65-8309-66b19887f057",
   "metadata": {},
   "source": [
    "np.mean(crop_rgb, axis=(0,1))"
   ]
  },
  {
   "cell_type": "raw",
   "id": "a6b4a464-a403-4226-92b9-76d877b4e47b",
   "metadata": {},
   "source": [
    "plt.imshow(crop_rgb)"
   ]
  },
  {
   "cell_type": "raw",
   "id": "5726101f-da80-48b4-9a37-479f1c97d955",
   "metadata": {},
   "source": [
    "plt.imshow(crop_mask)"
   ]
  },
  {
   "cell_type": "code",
   "execution_count": 1,
   "id": "ff829256-b3f2-41bd-9d42-bd5304c15263",
   "metadata": {},
   "outputs": [],
   "source": [
    "import pandas as pd\n",
    "from PIL import Image\n",
    "from IPython.display import display\n",
    "import glob,os\n",
    "import numpy as np\n",
    "import matplotlib.pyplot as plt\n",
    "from osgeo import gdal\n",
    "from skimage.transform import resize, downscale_local_mean\n",
    "import scipy\n",
    "import cv2\n",
    "from tqdm import tqdm\n",
    "from time import time"
   ]
  },
  {
   "cell_type": "code",
   "execution_count": 2,
   "id": "e9626c0d-7302-4f65-b406-b51951f359cb",
   "metadata": {},
   "outputs": [],
   "source": [
    "ortho_path = {\n",
    "    '35': {\n",
    "        '2020': \"donnees/BDORTHO/ORTHOHR_1-0_RVB-0M20_JP2-E080_LAMB93_D035_2020-01-01/ORTHOHR/1_DONNEES_LIVRAISON_2021-06-00121/OHR_RVB_0M20_JP2-E080_LAMB93_D35-2020/\",\n",
    "        '2017': \"donnees/BDORTHO/BDORTHO_2-0_RVB-0M50_JP2-E080_LAMB93_D035_2017-01-01/BDORTHO/1_DONNEES_LIVRAISON_2019-01-00118/BDO_RVB_0M50_JP2-E080_LAMB93_D35-2017/\",\n",
    "        '2012': \"donnees/BDORTHO/BDORTHO_2-0_RVB-0M50_JP2-E080_LAMB93_D035_2012-01-01/BDORTHO/1_DONNEES_LIVRAISON_2015-02-00365/BDO_RVB_0M50_JP2-E080_LAMB93_D35-2012/\"\n",
    "    },\n",
    "    '49': {\n",
    "        '2020': \"donnees/BDORTHO/ORTHOHR_1-0_RVB-0M20_JP2-E080_LAMB93_D049_2020-01-01/ORTHOHR/1_DONNEES_LIVRAISON_2020-12-00085/OHR_RVB_0M20_JP2-E080_LAMB93_D49-2020/\",\n",
    "    }\n",
    "}\n",
    "\n",
    "irc_path = {\n",
    "    '35': {\n",
    "        '2020': \"donnees/BDORTHO_IRC/ORTHOHR_1-0_IRC-0M20_JP2-E080_LAMB93_D035_2020-01-01/ORTHOHR/1_DONNEES_LIVRAISON_2021-06-00110/OHR_IRC_0M20_JP2-E080_LAB93_D35-2020/\",\n",
    "    },\n",
    "    '49': {\n",
    "        '2020': \"donnees/BDORTHO_IRC/ORTHOHR_1-0_IRC-0M20_JP2-E080_LAMB93_D049_2020-01-01/ORTHOHR/1_DONNEES_LIVRAISON_2020-12-00132/OHR_IRC_0M20_JP2-E080_LAMB93_D49-2020/\",\n",
    "    }\n",
    "}\n",
    "\n",
    "config = {\n",
    "    \"mnhc_path\":\"donnees/MNHC/\",\n",
    "    \"ortho_path\": ortho_path, # \"données/BDORTHO/ORTHOHR_1-0_RVB-0M20_JP2-E080_LAMB93_D035_2020-01-01/ORTHOHR/1_DONNEES_LIVRAISON_2021-06-00121/OHR_RVB_0M20_JP2-E080_LAMB93_D35-2020/\",# \"données/orthophotos/2006_OK/rvb/\",\n",
    "    \"irc_path\": irc_path, # \"données/BDORTHO_IRC/ORTHOHR_1-0_IRC-0M20_JP2-E080_LAMB93_D035_2020-01-01/ORTHOHR_1-0_IRC-0M20_JP2-E080_LAMB93_D035_2020-01-01/ORTHOHR/1_DONNEES_LIVRAISON_2021-06-00110/OHR_IRC_0M20_JP2-E080_LAMB93_D35-2020/\",# \"données/orthophotos/2006_OK/rvb/\",\n",
    "    'rgb_vignettes_path':'vignettes/rgb/',\n",
    "    'mask_vignettes_path':'vignettes/mask/',\n",
    "    'rgb_coordinates_pos':-27,\n",
    "    'rgb_name_pos':-36,\n",
    "    'irc_pos': -9,\n",
    "    'img_size':256\n",
    "}"
   ]
  },
  {
   "cell_type": "code",
   "execution_count": 17,
   "id": "7cbeefb7-fdd1-4b78-95a2-1c6a75d64b2f",
   "metadata": {},
   "outputs": [],
   "source": [
    "import json\n",
    "with open(\"config.json\", \"w\") as outfile:\n",
    "    json.dump(config, outfile)"
   ]
  },
  {
   "cell_type": "code",
   "execution_count": 18,
   "id": "d09f88cf-4bb8-4a28-a209-1fb1a402f392",
   "metadata": {},
   "outputs": [],
   "source": [
    "with open('config.json') as f_in:\n",
    "    config_2 = json.load(f_in)"
   ]
  },
  {
   "cell_type": "code",
   "execution_count": 3,
   "id": "d075a408-955b-4cb7-a017-e434b0d8f0b3",
   "metadata": {},
   "outputs": [],
   "source": [
    "path_to_orthophoto_rgb = config['ortho_path']['35']['2020'] + '35-2020-0305-6780-LA93-0M20-E080.jp2'"
   ]
  },
  {
   "cell_type": "raw",
   "id": "388fd696-08fd-4294-8995-321e0315b763",
   "metadata": {},
   "source": [
    "config[\"irc_path\"] + path_to_orthophoto_rgb[config['rgb_name_pos']:]"
   ]
  },
  {
   "cell_type": "raw",
   "id": "9420c463-42cc-49d0-bb90-57464e2dae2d",
   "metadata": {},
   "source": [
    "path_to_orthophoto_rgb[config['rgb_coordinates_pos']+4: config['rgb_coordinates_pos']+8]"
   ]
  },
  {
   "cell_type": "code",
   "execution_count": 4,
   "id": "4b72e63d-f36c-44e5-8b12-2ee7a08bb07d",
   "metadata": {},
   "outputs": [],
   "source": [
    "def std_convoluted(im, N):\n",
    "    \"\"\"\n",
    "    Calculate the standard deviation using a convolution operation.\n",
    "\n",
    "    Parameters:\n",
    "    - im (numpy.ndarray): Input image as a NumPy array.\n",
    "    - N (int): Radius of the convolution kernel.\n",
    "\n",
    "    Returns:\n",
    "    - numpy.ndarray: Standard deviation image.\n",
    "    \"\"\"\n",
    "    # Calculate squared image and initialize kernel\n",
    "    im2 = im**2\n",
    "    ones = np.ones(im.shape)\n",
    "    kernel = np.ones((2*N+1, 2*N+1))\n",
    "\n",
    "    # Convolve the image and squared image with the kernel\n",
    "    s = scipy.signal.convolve2d(im, kernel, mode=\"same\")\n",
    "    s2 = scipy.signal.convolve2d(im2, kernel, mode=\"same\")\n",
    "    ns = scipy.signal.convolve2d(ones, kernel, mode=\"same\")\n",
    "\n",
    "    # Calculate the standard deviation image\n",
    "    return np.sqrt((s2 - s**2 / ns) / ns)"
   ]
  },
  {
   "cell_type": "code",
   "execution_count": 5,
   "id": "a22447e1-064d-4731-ab92-38a7c87f0317",
   "metadata": {},
   "outputs": [
    {
     "data": {
      "text/plain": [
       "'305-6780'"
      ]
     },
     "execution_count": 5,
     "metadata": {},
     "output_type": "execute_result"
    }
   ],
   "source": [
    "path_to_orthophoto_rgb[config['rgb_coordinates_pos']:config['rgb_coordinates_pos']+8]"
   ]
  },
  {
   "cell_type": "code",
   "execution_count": 6,
   "id": "7a6db1d1-0a7f-48d3-ac7a-defed8fa562a",
   "metadata": {},
   "outputs": [
    {
     "data": {
      "text/plain": [
       "'35'"
      ]
     },
     "execution_count": 6,
     "metadata": {},
     "output_type": "execute_result"
    }
   ],
   "source": [
    "os.path.basename(path_to_orthophoto_rgb[config['rgb_name_pos']:])[:2]"
   ]
  },
  {
   "cell_type": "code",
   "execution_count": 7,
   "id": "d02cabe0-dde3-470b-8f28-cbfcc151243e",
   "metadata": {},
   "outputs": [
    {
     "data": {
      "text/plain": [
       "'2020'"
      ]
     },
     "execution_count": 7,
     "metadata": {},
     "output_type": "execute_result"
    }
   ],
   "source": [
    "os.path.basename(path_to_orthophoto_rgb)[3:7]"
   ]
  },
  {
   "cell_type": "code",
   "execution_count": 13,
   "id": "b4ae4b94-6def-4cf7-ad23-e676a4202f23",
   "metadata": {},
   "outputs": [],
   "source": [
    "def my_func(path_to_orthophoto_rgb):\n",
    "    \n",
    "    Image.MAX_IMAGE_PIXELS = None\n",
    "    \n",
    "    rgb_name = os.path.basename(path_to_orthophoto_rgb)\n",
    "    dept = rgb_name[:2]\n",
    "    year = rgb_name[3:7]\n",
    "    path_to_orthophoto_irc = config[\"irc_path\"][dept][year] + rgb_name[:config['irc_pos']] + '-IRC' + rgb_name[config['irc_pos']:]# config[\"irc_path\"] + path_to_orthophoto_rgb[config['rgb_name_pos']:] # A Changer plus tard\n",
    "    # mnhc_tiff = config['mnhc_path'] + \"Diff_MNS_CORREL_1-0_LAMB93_20FD3525_\" + str(path_to_orthophoto_rgb[config['rgb_coordinates_pos']:config['rgb_coordinates_pos']+8]).replace('-', '_') + \".tif\"\n",
    "    \n",
    "    # position\n",
    "    rgb_x = path_to_orthophoto_rgb[config['rgb_coordinates_pos']: config['rgb_coordinates_pos']+3]\n",
    "    rgb_y = path_to_orthophoto_rgb[config['rgb_coordinates_pos']+4: config['rgb_coordinates_pos']+8]\n",
    "    mnhc_dir_dept = config['mnhc_path']+dept+'_'+year+'/'\n",
    "    \n",
    "    # images IRC et RGB\n",
    "    # ortho_irc_file = config[\"irc_path\"] + '/' + dept + '-2020-0'+rgb_x+'-'+rgb_y+'-LA93-0M20-IRC-E080.jp2'\n",
    "    # ouverture\n",
    "    ortho_rgb = cv2.resize(np.asarray(Image.open(path_to_orthophoto_rgb)), (10000, 10000), interpolation=cv2.INTER_AREA)\n",
    "    ortho_irc = cv2.resize(np.asarray(Image.open(path_to_orthophoto_irc)), (10000, 10000), interpolation=cv2.INTER_AREA) \n",
    "    ndvi = np.divide(ortho_irc[:,:,0]-ortho_irc[:,:,1],ortho_irc[:,:,0]+ortho_irc[:,:,1], where=(ortho_irc[:,:,0]+ortho_irc[:,:,1])!=0 )\n",
    "    ortho_irc = None \n",
    "    \n",
    "    if not os.path.exists(config['rgb_vignettes_path'] + f'rgb_{rgb_x}_{rgb_y}/'):\n",
    "        os.makedirs(config['rgb_vignettes_path'] + f'rgb_{rgb_x}_{rgb_y}/')\n",
    "    if not os.path.exists(config['mask_vignettes_path'] + f'mask_{rgb_x}_{rgb_y}/'):\n",
    "        os.makedirs(config['mask_vignettes_path'] + f'mask_{rgb_x}_{rgb_y}/')\n",
    "\n",
    "    # i = 0\n",
    "    vignette_data = []\n",
    "    for mnhc_x in tqdm(range(0,5)):\n",
    "        for mnhc_y in range(0,5):\n",
    "            mnhc_file = mnhc_dir_dept+'Diff_MNS_CORREL_1-0_LAMB93_20FD'+dept+'25_'+str(int(int(rgb_x)+mnhc_x))+'_'+str(int(int(rgb_y)-mnhc_y))+'.tif'\n",
    "            \n",
    "            if os.path.exists(mnhc_file):\n",
    "                # print(mnhc_file)\n",
    "                mnhc = np.asarray(Image.open(mnhc_file))\n",
    "                w, h = mnhc.shape\n",
    "                mask = np.logical_and(np.logical_and(mnhc > 3., \n",
    "                                                     np.logical_or(mnhc > 5., \n",
    "                                                                   std_convoluted(mnhc,N=10) > .5)\n",
    "                                                    ),\n",
    "                                      ndvi[mnhc_x*w:(mnhc_x+1)*w, mnhc_y*h:(mnhc_y+1)*h] > 0) \\\n",
    "                .astype('uint8')\n",
    "\n",
    "                \n",
    "                for x in range(0, w-config['img_size']+1, config['img_size']):\n",
    "                    for y in range(0, h-config['img_size']+1, config['img_size']):\n",
    "                        # print(x, y)\n",
    "                        crop_rgb = ortho_rgb[mnhc_y*h+y: mnhc_y*h+y+config['img_size'], mnhc_x*w+x: mnhc_x*w+x+config['img_size'], :]\n",
    "                        crop_mask = mask[y:y+config['img_size'], x:x+config['img_size']]\n",
    "\n",
    "                        # filtre rgb\n",
    "                        # enregistrement\n",
    "                        pos = dept+'_'+str(int((int(rgb_x)+mnhc_x)*1000+x/2))+'_'+str(int((int(rgb_y)-mnhc_y)*1000+y/2))\n",
    "                        \n",
    "                        cv2.imwrite(config['rgb_vignettes_path'] + f'rgb_{rgb_x}_{rgb_y}/' + 'rgb_' + str(pos) + '.jpg', crop_rgb)\n",
    "                        cv2.imwrite(config['mask_vignettes_path'] + f'mask_{rgb_x}_{rgb_y}/' + 'mask_'+ str(pos) + '.png', crop_mask)\n",
    "\n",
    "                        # Calculate characteristics of the RGB crop and add to vignette_data\n",
    "                        mask_2 = np.stack((crop_mask,)*3, axis=-1)\n",
    "                        non_mask = np.logical_not(mask_2)\n",
    "                        res = [pos, crop_mask.sum()] + \\\n",
    "                        np.mean(crop_rgb, axis=(0, 1), where=mask_2.astype(bool)).tolist() + \\\n",
    "                        np.mean(crop_rgb, axis=(0, 1), where=non_mask.astype(bool)).tolist() + \\\n",
    "                        np.std(crop_rgb, axis=(0, 1), where=mask_2.astype(bool)).tolist() + \\\n",
    "                        np.std(crop_rgb, axis=(0, 1), where=non_mask.astype(bool)).tolist()\n",
    "                        vignette_data.append(res)\n",
    "                \n",
    "                # Si besoin de plus d'images, commenter le break\n",
    "                break\n",
    "    \n",
    "    # Convert the vignette data to a Pandas DataFrame and return\n",
    "    return pd.DataFrame(vignette_data, columns=('file', 'wood_size', 'w_mean_R', 'w_mean_G', 'w_mean_B', 'nw_mean_R', 'nw_mean_G', 'nw_mean_B', 'w_std_R', 'w_std_G', 'w_std_B', 'nw_std_R', 'nw_std_G', 'nw_std_B'))\n",
    "                "
   ]
  },
  {
   "cell_type": "code",
   "execution_count": 9,
   "id": "9f7a62e9-83c3-4f99-a87f-3830bf5a36ee",
   "metadata": {
    "scrolled": true
   },
   "outputs": [],
   "source": [
    "rgb_name = os.path.basename(path_to_orthophoto_rgb)\n",
    "dept = rgb_name[:2]\n",
    "year = rgb_name[3:7]\n",
    "path_to_orthophoto_irc = config[\"irc_path\"][dept][year] + rgb_name[:config['irc_pos']] + '-IRC' + rgb_name[config['irc_pos']:]"
   ]
  },
  {
   "cell_type": "code",
   "execution_count": 10,
   "id": "c4b04e38-092f-436d-9092-89d812b98467",
   "metadata": {},
   "outputs": [
    {
     "data": {
      "text/plain": [
       "'donnees/BDORTHO_IRC/ORTHOHR_1-0_IRC-0M20_JP2-E080_LAMB93_D035_2020-01-01/ORTHOHR/1_DONNEES_LIVRAISON_2021-06-00110/OHR_IRC_0M20_JP2-E080_LAB93_D35-2020/35-2020-0305-6780-LA93-0M20-IRC-E080.jp2'"
      ]
     },
     "execution_count": 10,
     "metadata": {},
     "output_type": "execute_result"
    }
   ],
   "source": [
    "path_to_orthophoto_irc"
   ]
  },
  {
   "cell_type": "code",
   "execution_count": 11,
   "id": "b8f40708-437d-4e62-aa2f-ace615c64a7e",
   "metadata": {},
   "outputs": [],
   "source": [
    "path_to_orthophoto_rgb = 'donnees/BDORTHO/ORTHOHR_1-0_RVB-0M20_JP2-E080_LAMB93_D035_2020-01-01/ORTHOHR/1_DONNEES_LIVRAISON_2021-06-00121/OHR_RVB_0M20_JP2-E080_LAMB93_D35-2020/35-2020-0315-6785-LA93-0M20-E080.jp2'\n"
   ]
  },
  {
   "cell_type": "code",
   "execution_count": 14,
   "id": "f9f48073-f46d-4223-8594-cfb03a57e7d0",
   "metadata": {
    "scrolled": true
   },
   "outputs": [
    {
     "name": "stderr",
     "output_type": "stream",
     "text": [
      "  0%|                                    | 0/5 [00:00<?, ?it/s]C:\\Users\\adelabrosse\\AppData\\Local\\Temp\\ipykernel_14160\\4112585707.py:23: RuntimeWarning: invalid value encountered in sqrt\n",
      "  return np.sqrt((s2 - s**2 / ns) / ns)\n",
      "C:\\Users\\adelabrosse\\.conda\\envs\\inrae_seg_env\\Lib\\site-packages\\numpy\\core\\fromnumeric.py:3464: RuntimeWarning: Mean of empty slice.\n",
      "  return _methods._mean(a, axis=axis, dtype=dtype,\n",
      "C:\\Users\\adelabrosse\\.conda\\envs\\inrae_seg_env\\Lib\\site-packages\\numpy\\core\\_methods.py:184: RuntimeWarning: invalid value encountered in divide\n",
      "  ret = um.true_divide(\n",
      "C:\\Users\\adelabrosse\\.conda\\envs\\inrae_seg_env\\Lib\\site-packages\\numpy\\core\\_methods.py:269: RuntimeWarning: Degrees of freedom <= 0 for slice\n",
      "  ret = _var(a, axis=axis, dtype=dtype, out=out, ddof=ddof,\n",
      "C:\\Users\\adelabrosse\\.conda\\envs\\inrae_seg_env\\Lib\\site-packages\\numpy\\core\\_methods.py:226: RuntimeWarning: invalid value encountered in divide\n",
      "  arrmean = um.true_divide(arrmean, div, out=arrmean,\n",
      "C:\\Users\\adelabrosse\\.conda\\envs\\inrae_seg_env\\Lib\\site-packages\\numpy\\core\\_methods.py:258: RuntimeWarning: invalid value encountered in divide\n",
      "  ret = um.true_divide(\n",
      "100%|████████████████████████████| 5/5 [00:38<00:00,  7.74s/it]"
     ]
    },
    {
     "name": "stdout",
     "output_type": "stream",
     "text": [
      "vignette creation done in 99.48 sec\n"
     ]
    },
    {
     "name": "stderr",
     "output_type": "stream",
     "text": [
      "\n"
     ]
    }
   ],
   "source": [
    "start = time()\n",
    "df = my_func(path_to_orthophoto_rgb)\n",
    "print(f'vignette creation done in {round(time()-start, 2)} sec')"
   ]
  },
  {
   "cell_type": "code",
   "execution_count": 15,
   "id": "49f34bd6-3d8f-4b91-a2e1-148a14b68889",
   "metadata": {},
   "outputs": [
    {
     "data": {
      "text/html": [
       "<div>\n",
       "<style scoped>\n",
       "    .dataframe tbody tr th:only-of-type {\n",
       "        vertical-align: middle;\n",
       "    }\n",
       "\n",
       "    .dataframe tbody tr th {\n",
       "        vertical-align: top;\n",
       "    }\n",
       "\n",
       "    .dataframe thead th {\n",
       "        text-align: right;\n",
       "    }\n",
       "</style>\n",
       "<table border=\"1\" class=\"dataframe\">\n",
       "  <thead>\n",
       "    <tr style=\"text-align: right;\">\n",
       "      <th></th>\n",
       "      <th>file</th>\n",
       "      <th>wood_size</th>\n",
       "      <th>w_mean_R</th>\n",
       "      <th>w_mean_G</th>\n",
       "      <th>w_mean_B</th>\n",
       "      <th>nw_mean_R</th>\n",
       "      <th>nw_mean_G</th>\n",
       "      <th>nw_mean_B</th>\n",
       "      <th>w_std_R</th>\n",
       "      <th>w_std_G</th>\n",
       "      <th>w_std_B</th>\n",
       "      <th>nw_std_R</th>\n",
       "      <th>nw_std_G</th>\n",
       "      <th>nw_std_B</th>\n",
       "    </tr>\n",
       "  </thead>\n",
       "  <tbody>\n",
       "    <tr>\n",
       "      <th>0</th>\n",
       "      <td>35_315000_6785000</td>\n",
       "      <td>28418</td>\n",
       "      <td>62.454536</td>\n",
       "      <td>74.516117</td>\n",
       "      <td>61.784151</td>\n",
       "      <td>96.457218</td>\n",
       "      <td>100.838569</td>\n",
       "      <td>82.293146</td>\n",
       "      <td>22.259598</td>\n",
       "      <td>20.490851</td>\n",
       "      <td>14.232360</td>\n",
       "      <td>34.414154</td>\n",
       "      <td>24.696099</td>\n",
       "      <td>21.754726</td>\n",
       "    </tr>\n",
       "    <tr>\n",
       "      <th>1</th>\n",
       "      <td>35_315000_6785128</td>\n",
       "      <td>56284</td>\n",
       "      <td>58.530097</td>\n",
       "      <td>71.008795</td>\n",
       "      <td>60.042072</td>\n",
       "      <td>65.166450</td>\n",
       "      <td>79.047341</td>\n",
       "      <td>62.710981</td>\n",
       "      <td>14.477308</td>\n",
       "      <td>14.373316</td>\n",
       "      <td>10.929631</td>\n",
       "      <td>17.805755</td>\n",
       "      <td>16.476592</td>\n",
       "      <td>8.682647</td>\n",
       "    </tr>\n",
       "    <tr>\n",
       "      <th>2</th>\n",
       "      <td>35_315000_6785256</td>\n",
       "      <td>53197</td>\n",
       "      <td>54.981352</td>\n",
       "      <td>67.623325</td>\n",
       "      <td>57.975318</td>\n",
       "      <td>80.077154</td>\n",
       "      <td>95.023746</td>\n",
       "      <td>70.671286</td>\n",
       "      <td>15.330876</td>\n",
       "      <td>14.844511</td>\n",
       "      <td>10.309024</td>\n",
       "      <td>24.818022</td>\n",
       "      <td>16.590431</td>\n",
       "      <td>11.900248</td>\n",
       "    </tr>\n",
       "    <tr>\n",
       "      <th>3</th>\n",
       "      <td>35_315000_6785384</td>\n",
       "      <td>3306</td>\n",
       "      <td>63.640048</td>\n",
       "      <td>77.572595</td>\n",
       "      <td>63.716273</td>\n",
       "      <td>71.548739</td>\n",
       "      <td>86.755439</td>\n",
       "      <td>68.333826</td>\n",
       "      <td>15.756308</td>\n",
       "      <td>15.431827</td>\n",
       "      <td>10.135857</td>\n",
       "      <td>17.137923</td>\n",
       "      <td>11.890340</td>\n",
       "      <td>9.841731</td>\n",
       "    </tr>\n",
       "    <tr>\n",
       "      <th>4</th>\n",
       "      <td>35_315000_6785512</td>\n",
       "      <td>4786</td>\n",
       "      <td>70.954450</td>\n",
       "      <td>79.942123</td>\n",
       "      <td>67.543460</td>\n",
       "      <td>72.280444</td>\n",
       "      <td>86.703605</td>\n",
       "      <td>70.042486</td>\n",
       "      <td>26.773477</td>\n",
       "      <td>22.605508</td>\n",
       "      <td>14.803557</td>\n",
       "      <td>22.078805</td>\n",
       "      <td>17.454904</td>\n",
       "      <td>17.383212</td>\n",
       "    </tr>\n",
       "    <tr>\n",
       "      <th>...</th>\n",
       "      <td>...</td>\n",
       "      <td>...</td>\n",
       "      <td>...</td>\n",
       "      <td>...</td>\n",
       "      <td>...</td>\n",
       "      <td>...</td>\n",
       "      <td>...</td>\n",
       "      <td>...</td>\n",
       "      <td>...</td>\n",
       "      <td>...</td>\n",
       "      <td>...</td>\n",
       "      <td>...</td>\n",
       "      <td>...</td>\n",
       "      <td>...</td>\n",
       "    </tr>\n",
       "    <tr>\n",
       "      <th>240</th>\n",
       "      <td>35_319768_6785256</td>\n",
       "      <td>65355</td>\n",
       "      <td>59.548634</td>\n",
       "      <td>71.635973</td>\n",
       "      <td>59.422722</td>\n",
       "      <td>73.408840</td>\n",
       "      <td>81.944751</td>\n",
       "      <td>67.972376</td>\n",
       "      <td>23.720431</td>\n",
       "      <td>24.311894</td>\n",
       "      <td>16.988984</td>\n",
       "      <td>33.602301</td>\n",
       "      <td>27.223390</td>\n",
       "      <td>24.034835</td>\n",
       "    </tr>\n",
       "    <tr>\n",
       "      <th>241</th>\n",
       "      <td>35_319768_6785384</td>\n",
       "      <td>65389</td>\n",
       "      <td>54.157182</td>\n",
       "      <td>65.779275</td>\n",
       "      <td>56.057349</td>\n",
       "      <td>75.802721</td>\n",
       "      <td>78.306122</td>\n",
       "      <td>66.619048</td>\n",
       "      <td>21.904906</td>\n",
       "      <td>22.374061</td>\n",
       "      <td>15.370922</td>\n",
       "      <td>39.698976</td>\n",
       "      <td>28.058154</td>\n",
       "      <td>23.664990</td>\n",
       "    </tr>\n",
       "    <tr>\n",
       "      <th>242</th>\n",
       "      <td>35_319768_6785512</td>\n",
       "      <td>65385</td>\n",
       "      <td>55.616426</td>\n",
       "      <td>65.503617</td>\n",
       "      <td>57.106691</td>\n",
       "      <td>54.913907</td>\n",
       "      <td>64.761589</td>\n",
       "      <td>56.423841</td>\n",
       "      <td>21.300550</td>\n",
       "      <td>21.502283</td>\n",
       "      <td>15.460915</td>\n",
       "      <td>20.161579</td>\n",
       "      <td>20.894154</td>\n",
       "      <td>14.736735</td>\n",
       "    </tr>\n",
       "    <tr>\n",
       "      <th>243</th>\n",
       "      <td>35_319768_6785640</td>\n",
       "      <td>65380</td>\n",
       "      <td>55.216060</td>\n",
       "      <td>65.139018</td>\n",
       "      <td>56.848792</td>\n",
       "      <td>60.141026</td>\n",
       "      <td>68.352564</td>\n",
       "      <td>61.576923</td>\n",
       "      <td>22.157005</td>\n",
       "      <td>22.225672</td>\n",
       "      <td>16.028925</td>\n",
       "      <td>28.380078</td>\n",
       "      <td>24.885585</td>\n",
       "      <td>21.855011</td>\n",
       "    </tr>\n",
       "    <tr>\n",
       "      <th>244</th>\n",
       "      <td>35_319768_6785768</td>\n",
       "      <td>30131</td>\n",
       "      <td>63.719060</td>\n",
       "      <td>75.033520</td>\n",
       "      <td>61.979821</td>\n",
       "      <td>109.833413</td>\n",
       "      <td>115.737918</td>\n",
       "      <td>89.172744</td>\n",
       "      <td>28.650465</td>\n",
       "      <td>26.636247</td>\n",
       "      <td>18.630199</td>\n",
       "      <td>27.654517</td>\n",
       "      <td>21.849896</td>\n",
       "      <td>18.474595</td>\n",
       "    </tr>\n",
       "  </tbody>\n",
       "</table>\n",
       "<p>245 rows × 14 columns</p>\n",
       "</div>"
      ],
      "text/plain": [
       "                  file  wood_size   w_mean_R   w_mean_G   w_mean_B  \\\n",
       "0    35_315000_6785000      28418  62.454536  74.516117  61.784151   \n",
       "1    35_315000_6785128      56284  58.530097  71.008795  60.042072   \n",
       "2    35_315000_6785256      53197  54.981352  67.623325  57.975318   \n",
       "3    35_315000_6785384       3306  63.640048  77.572595  63.716273   \n",
       "4    35_315000_6785512       4786  70.954450  79.942123  67.543460   \n",
       "..                 ...        ...        ...        ...        ...   \n",
       "240  35_319768_6785256      65355  59.548634  71.635973  59.422722   \n",
       "241  35_319768_6785384      65389  54.157182  65.779275  56.057349   \n",
       "242  35_319768_6785512      65385  55.616426  65.503617  57.106691   \n",
       "243  35_319768_6785640      65380  55.216060  65.139018  56.848792   \n",
       "244  35_319768_6785768      30131  63.719060  75.033520  61.979821   \n",
       "\n",
       "      nw_mean_R   nw_mean_G  nw_mean_B    w_std_R    w_std_G    w_std_B  \\\n",
       "0     96.457218  100.838569  82.293146  22.259598  20.490851  14.232360   \n",
       "1     65.166450   79.047341  62.710981  14.477308  14.373316  10.929631   \n",
       "2     80.077154   95.023746  70.671286  15.330876  14.844511  10.309024   \n",
       "3     71.548739   86.755439  68.333826  15.756308  15.431827  10.135857   \n",
       "4     72.280444   86.703605  70.042486  26.773477  22.605508  14.803557   \n",
       "..          ...         ...        ...        ...        ...        ...   \n",
       "240   73.408840   81.944751  67.972376  23.720431  24.311894  16.988984   \n",
       "241   75.802721   78.306122  66.619048  21.904906  22.374061  15.370922   \n",
       "242   54.913907   64.761589  56.423841  21.300550  21.502283  15.460915   \n",
       "243   60.141026   68.352564  61.576923  22.157005  22.225672  16.028925   \n",
       "244  109.833413  115.737918  89.172744  28.650465  26.636247  18.630199   \n",
       "\n",
       "      nw_std_R   nw_std_G   nw_std_B  \n",
       "0    34.414154  24.696099  21.754726  \n",
       "1    17.805755  16.476592   8.682647  \n",
       "2    24.818022  16.590431  11.900248  \n",
       "3    17.137923  11.890340   9.841731  \n",
       "4    22.078805  17.454904  17.383212  \n",
       "..         ...        ...        ...  \n",
       "240  33.602301  27.223390  24.034835  \n",
       "241  39.698976  28.058154  23.664990  \n",
       "242  20.161579  20.894154  14.736735  \n",
       "243  28.380078  24.885585  21.855011  \n",
       "244  27.654517  21.849896  18.474595  \n",
       "\n",
       "[245 rows x 14 columns]"
      ]
     },
     "execution_count": 15,
     "metadata": {},
     "output_type": "execute_result"
    }
   ],
   "source": [
    "df"
   ]
  },
  {
   "cell_type": "code",
   "execution_count": 16,
   "id": "ea4276d4-c17b-4cf4-80a3-98cb695698e3",
   "metadata": {},
   "outputs": [
    {
     "name": "stderr",
     "output_type": "stream",
     "text": [
      "C:\\Users\\adelabrosse\\.conda\\envs\\inrae_seg_env\\Lib\\site-packages\\tqdm\\auto.py:21: TqdmWarning: IProgress not found. Please update jupyter and ipywidgets. See https://ipywidgets.readthedocs.io/en/stable/user_install.html\n",
      "  from .autonotebook import tqdm as notebook_tqdm\n",
      "Feature: file                                | | [  7%]   00:00C:\\Users\\adelabrosse\\.conda\\envs\\inrae_seg_env\\Lib\\site-packages\\sweetviz\\from_profiling_pandas.py:65: FutureWarning: is_categorical_dtype is deprecated and will be removed in a future version. Use isinstance(dtype, CategoricalDtype) instead\n",
      "  if pd.api.types.is_categorical_dtype(keys):\n",
      "Done! Use 'show' commands to display/save.   |█| [100%]   00:00\n"
     ]
    },
    {
     "name": "stdout",
     "output_type": "stream",
     "text": [
      "Report SWEETVIZ_REPORT.html was generated! NOTEBOOK/COLAB USERS: the web browser MAY not pop up, regardless, the report IS saved in your notebook/colab files.\n"
     ]
    }
   ],
   "source": [
    "import sweetviz as sv\n",
    "\n",
    "my_report = sv.analyze(df)\n",
    "my_report.show_html()"
   ]
  },
  {
   "cell_type": "code",
   "execution_count": 39,
   "id": "4520fe6e-b2de-49f4-a5e9-2e7639ea437b",
   "metadata": {},
   "outputs": [
    {
     "name": "stdout",
     "output_type": "stream",
     "text": [
      "img opening done in 63.39 sec\n"
     ]
    }
   ],
   "source": [
    "mask = np.stack((crop_mask, )*3, axis=-1)\n",
    "non_mask = np.logical_not(mask)\n",
    "res = [pos, crop_mask.sum()] + \\  # ??? Add computed values here\n",
    "       np.mean(crop_rgb, axis=(0, 1), where=mask).tolist() + \\\n",
    "       np.mean(crop_rgb, axis=(0, 1), where=non_mask).tolist() + \\\n",
    "       np.std(crop_rgb, axis=(0, 1), where=mask).tolist() + \\\n",
    "       np.std(crop_rgb, axis=(0, 1), where=non_mask).tolist()\n",
    "\n"
   ]
  }
 ],
 "metadata": {
  "kernelspec": {
   "display_name": "Python 3 (ipykernel)",
   "language": "python",
   "name": "python3"
  },
  "language_info": {
   "codemirror_mode": {
    "name": "ipython",
    "version": 3
   },
   "file_extension": ".py",
   "mimetype": "text/x-python",
   "name": "python",
   "nbconvert_exporter": "python",
   "pygments_lexer": "ipython3",
   "version": "3.11.5"
  }
 },
 "nbformat": 4,
 "nbformat_minor": 5
}
