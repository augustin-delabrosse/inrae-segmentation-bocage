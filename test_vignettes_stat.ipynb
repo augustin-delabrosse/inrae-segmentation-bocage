{
 "cells": [
  {
   "cell_type": "code",
   "execution_count": 1,
   "id": "db8b7c26-d370-4af2-a0d3-6e59a6dfae46",
   "metadata": {},
   "outputs": [],
   "source": [
    "import pandas as pd\n",
    "import numpy as np\n",
    "import cv2\n",
    "import os\n",
    "import matplotlib.pyplot as plt\n",
    "from tqdm import tqdm\n",
    "\n",
    "from utils import get_file_paths\n",
    "from vignette_creation import convolution\n",
    "\n",
    "import json\n",
    "with open('config.json') as f_in:\n",
    "    config = json.load(f_in)"
   ]
  },
  {
   "cell_type": "code",
   "execution_count": 2,
   "id": "63b42a2a-3b7f-4eec-bc5a-ba3457149796",
   "metadata": {},
   "outputs": [],
   "source": [
    "rgb_imgs, masks = get_file_paths()"
   ]
  },
  {
   "cell_type": "code",
   "execution_count": 15,
   "id": "42c7916c-5984-41f7-8710-5da33acf67c3",
   "metadata": {},
   "outputs": [],
   "source": [
    "df = pd.DataFrame(columns=config['stat_vignettes_col'])"
   ]
  },
  {
   "cell_type": "raw",
   "id": "b8bcad5a-a688-4b71-a0a0-852ec51dcbbb",
   "metadata": {},
   "source": [
    "os.path.basename(rgb_imgs[0])[4:6]"
   ]
  },
  {
   "cell_type": "raw",
   "id": "db7ccff8-705c-4314-a5b0-e20c90cf0aeb",
   "metadata": {
    "tags": []
   },
   "source": [
    "plt.imshow(crop_rgb)"
   ]
  },
  {
   "cell_type": "raw",
   "id": "76b8d730-c4eb-43a3-b289-34ba076c9934",
   "metadata": {},
   "source": [
    "plt.imshow(crop_mask[:,:,2])"
   ]
  },
  {
   "cell_type": "raw",
   "id": "2b1a7958-f418-4ecd-884d-5da048e1e9ba",
   "metadata": {
    "jupyter": {
     "outputs_hidden": true
    },
    "tags": []
   },
   "source": [
    "np.mean(crop_rgb, axis=(0, 1), where=mask_2.astype(bool))"
   ]
  },
  {
   "cell_type": "code",
   "execution_count": 16,
   "id": "ae20f763-1873-45be-9a10-166e6f9f9602",
   "metadata": {},
   "outputs": [
    {
     "name": "stderr",
     "output_type": "stream",
     "text": [
      "46584it [1:21:46,  9.49it/s]\n"
     ]
    }
   ],
   "source": [
    "for idx, img in tqdm(enumerate(rgb_imgs)):\n",
    "    crop_rgb = cv2.imread(img)\n",
    "    crop_mask = cv2.imread(masks[idx])[:,:,0]\n",
    "\n",
    "    rgb_name = os.path.basename(img)\n",
    "    dept = rgb_name[4:6]\n",
    "\n",
    "    # Calculate characteristics of the RGB crop and add to the DataFrame\n",
    "    mask_2 = np.stack((crop_mask,)*3, axis=-1)\n",
    "    non_mask = np.logical_not(mask_2)\n",
    "    non_crop_mask = np.logical_not(crop_mask)\n",
    "    \n",
    "    res = [dept, rgb_name, crop_mask.sum()] + \\\n",
    "    np.mean(crop_rgb, axis=(0, 1), where=mask_2.astype(bool)).tolist() + \\\n",
    "    np.mean(crop_rgb, axis=(0, 1), where=non_mask.astype(bool)).tolist() + \\\n",
    "    np.std(crop_rgb, axis=(0, 1), where=mask_2.astype(bool)).tolist() + \\\n",
    "    np.std(crop_rgb, axis=(0, 1), where=non_mask.astype(bool)).tolist() + \\\n",
    "    [np.mean(convolution(crop_rgb[:, :, 0], N=3), where=crop_mask.astype(bool)), np.mean(convolution(crop_rgb[:, :, 1], N=3), where=crop_mask.astype(bool)), np.mean(convolution(crop_rgb[:, :, 2], N=3), where=crop_mask.astype(bool))] + \\\n",
    "    [np.mean(convolution(crop_rgb[:, :, 0], N=3), where=non_crop_mask.astype(bool)), np.mean(convolution(crop_rgb[:, :, 1], N=3), where=non_crop_mask.astype(bool)), np.mean(convolution(crop_rgb[:, :, 2], N=3), where=non_crop_mask.astype(bool))] + \\\n",
    "    [np.std(convolution(crop_rgb[:, :, 0], N=3), where=crop_mask.astype(bool)), np.std(convolution(crop_rgb[:, :, 1], N=3), where=crop_mask.astype(bool)), np.std(convolution(crop_rgb[:, :, 2], N=3), where=crop_mask.astype(bool))] + \\\n",
    "    [np.std(convolution(crop_rgb[:, :, 0], N=3), where=non_crop_mask.astype(bool)), np.std(convolution(crop_rgb[:, :, 1], N=3), where=non_crop_mask.astype(bool)), np.std(convolution(crop_rgb[:, :, 2], N=3), where=non_crop_mask.astype(bool))] \n",
    "    # vignette_data.append(res)\n",
    "\n",
    "    # Append the list to the DataFrame\n",
    "    df.loc[len(df) + len(set(range(df.index[-1]))-set(df.index))\n",
    "    if len(df.index) > 0\n",
    "    else 0] = res"
   ]
  },
  {
   "cell_type": "code",
   "execution_count": 19,
   "id": "1566b970-4250-4ea0-9540-fc353d0e4c84",
   "metadata": {},
   "outputs": [],
   "source": [
    "df.to_csv('vignettes/stat_vignettes_bis.csv')"
   ]
  },
  {
   "cell_type": "code",
   "execution_count": null,
   "id": "54195b3c-ea70-4ca4-b59d-082709522897",
   "metadata": {},
   "outputs": [],
   "source": []
  }
 ],
 "metadata": {
  "kernelspec": {
   "display_name": "Python 3 (ipykernel)",
   "language": "python",
   "name": "python3"
  },
  "language_info": {
   "codemirror_mode": {
    "name": "ipython",
    "version": 3
   },
   "file_extension": ".py",
   "mimetype": "text/x-python",
   "name": "python",
   "nbconvert_exporter": "python",
   "pygments_lexer": "ipython3",
   "version": "3.11.5"
  }
 },
 "nbformat": 4,
 "nbformat_minor": 5
}
