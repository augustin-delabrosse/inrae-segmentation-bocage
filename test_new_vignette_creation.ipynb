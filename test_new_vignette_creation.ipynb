{
 "cells": [
  {
   "cell_type": "raw",
   "id": "1d6f70f6-a30a-491d-81e5-2d574cc6df48",
   "metadata": {},
   "source": [
    "import py7zr\n",
    "with py7zr.SevenZipFile('donnees/BDTOPO/BDTOPO_3-0_TOUSTHEMES_SHP_LAMB93_D049_2020-06-15.7z', mode='r') as z:\n",
    "    z.extractall()\n"
   ]
  },
  {
   "cell_type": "raw",
   "id": "72c47829-5651-4050-8167-c06aee938345",
   "metadata": {
    "jupyter": {
     "source_hidden": true
    },
    "tags": []
   },
   "source": [
    "import pandas as pd\n",
    "import geopandas as gpd\n",
    "import numpy as np\n",
    "import rasterio\n",
    "from rasterio.features import geometry_mask\n",
    "import skimage.transform as st\n",
    "\n",
    "from PIL import Image\n",
    "import os\n",
    "import scipy\n",
    "import cv2\n",
    "\n",
    "from tqdm import tqdm\n",
    "from time import time\n",
    "import json \n",
    "\n",
    "import warnings\n",
    "warnings.simplefilter(\"ignore\")\n",
    "\n",
    "with open('config.json') as f_in:\n",
    "    config = json.load(f_in)"
   ]
  },
  {
   "cell_type": "raw",
   "id": "f785e8ef-e82c-40c2-9f7b-7c15fc8a369c",
   "metadata": {
    "jupyter": {
     "source_hidden": true
    },
    "tags": []
   },
   "source": [
    "def std_convoluted(im, N):\n",
    "    \"\"\"\n",
    "    Calculate the standard deviation using a convolution operation.\n",
    "\n",
    "    Parameters:\n",
    "    - im (numpy.ndarray): Input image as a NumPy array.\n",
    "    - N (int): Radius of the convolution kernel.\n",
    "\n",
    "    Returns:\n",
    "    - numpy.ndarray: Standard deviation image.\n",
    "    \"\"\"\n",
    "    # Calculate squared image and initialize kernel\n",
    "    im2 = im**2\n",
    "    ones = np.ones(im.shape)\n",
    "    kernel = np.ones((2*N+1, 2*N+1))\n",
    "\n",
    "    # Convolve the image and squared image with the kernel\n",
    "    s = scipy.signal.convolve2d(im, kernel, mode=\"same\")\n",
    "    s2 = scipy.signal.convolve2d(im2, kernel, mode=\"same\")\n",
    "    ns = scipy.signal.convolve2d(ones, kernel, mode=\"same\")\n",
    "\n",
    "    # Calculate the standard deviation image\n",
    "    return np.sqrt((s2 - s**2 / ns) / ns)\n",
    "\n",
    "def convolution(im, N):\n",
    "    # Calculate squared image and initialize kernel\n",
    "    kernel = np.ones((2*N+1, 2*N+1))\n",
    "    # Convolve the image and squared image with the kernel\n",
    "    s = scipy.signal.convolve2d(im, kernel, mode=\"same\")\n",
    "    return s\n",
    "\n",
    "\n",
    "def vignette_and_mask_creation_func(path_to_orthophoto_rgb, geodataframe):\n",
    "    \"\"\"\n",
    "    Create and save vignettes and masks from the RGB and IRC orthophotos.\n",
    "\n",
    "    Parameters:\n",
    "    - path_to_orthophoto_rgb (str): Path to the orthophoto RGB image.\n",
    "\n",
    "    Returns:\n",
    "    - pd.DataFrame: DataFrame containing stats about the vignettes.\n",
    "    \"\"\"\n",
    "    Image.MAX_IMAGE_PIXELS = None\n",
    "    \n",
    "    rgb_name = os.path.basename(path_to_orthophoto_rgb)\n",
    "    dept = rgb_name[:2]\n",
    "    year = rgb_name[3:7]\n",
    "    path_to_orthophoto_irc = config[\"irc_path\"][dept][year] + rgb_name[:config['irc_pos']] + '-IRC' + rgb_name[config['irc_pos']:]\n",
    "\n",
    "    # print(dept, year, rgb_name, path_to_orthophoto_irc)\n",
    "    \n",
    "    # Extract coordinates from RGB orthophoto path\n",
    "    rgb_x = path_to_orthophoto_rgb[config['rgb_coordinates_pos']: config['rgb_coordinates_pos']+3]\n",
    "    rgb_y = path_to_orthophoto_rgb[config['rgb_coordinates_pos']+4: config['rgb_coordinates_pos']+8]\n",
    "    mnhc_dir_dept = config['mnhc_path']+dept+'_'+year+'/'\n",
    "    \n",
    "    # Open and resize IRC and RGB images\n",
    "    ortho_rgb = np.asarray(Image.open(path_to_orthophoto_rgb))\n",
    "    ortho_irc = np.asarray(Image.open(path_to_orthophoto_irc))\n",
    "    \n",
    "    with rasterio.open(path_to_orthophoto_rgb) as src:\n",
    "        # aerial_image = src.read()\n",
    "        aerial_transform = src.transform\n",
    "    \n",
    "    # Create a mask with the same dimensions as the orthophoto\n",
    "    buildings = geometry_mask(gdf.geometry, transform=aerial_transform, invert=True, out_shape=ortho_rgb.shape[:-1])\n",
    "    \n",
    "    ortho_rgb = cv2.resize(ortho_rgb, (10000, 10000), interpolation=cv2.INTER_AREA)\n",
    "    ortho_irc = cv2.resize(ortho_irc, (10000, 10000), interpolation=cv2.INTER_AREA) \n",
    "    ndvi = np.divide(ortho_irc[:,:,0]-ortho_irc[:,:,1],ortho_irc[:,:,0]+ortho_irc[:,:,1], where=(ortho_irc[:,:,0]+ortho_irc[:,:,1])!=0)\n",
    "    ortho_irc = None \n",
    "    buildings = st.resize(buildings.astype(int), (10000, 10000), order=0, preserve_range=True, anti_aliasing=False)\n",
    "    \n",
    "\n",
    "    # Create output directories if they don't exist\n",
    "    if not os.path.exists(config['rgb_vignettes_path'] + f'{dept}/' + f'rgb_{rgb_x}_{rgb_y}/'):\n",
    "        os.makedirs(config['rgb_vignettes_path'] + f'{dept}/' + f'rgb_{rgb_x}_{rgb_y}/')\n",
    "    if not os.path.exists(config['mask_vignettes_path'] + f'{dept}/' + f'mask_{rgb_x}_{rgb_y}/'):\n",
    "        os.makedirs(config['mask_vignettes_path'] + f'{dept}/' + f'mask_{rgb_x}_{rgb_y}/')\n",
    "\n",
    "    # Read existing DataFrame or create a new one\n",
    "    if os.path.exists(config['stat_vignettes_path']):\n",
    "        df = pd.read_csv(config['stat_vignettes_path'], index_col=\"Unnamed: 0\")\n",
    "    else:\n",
    "        df = pd.DataFrame(columns=config['stat_vignettes_col'])\n",
    "\n",
    "    for mnhc_x in tqdm(range(0,5)):\n",
    "        for mnhc_y in range(0,5):\n",
    "            if dept == '35':\n",
    "                mnhc_file = mnhc_dir_dept+'Diff_MNS_CORREL_1-0_LAMB93_20FD'+dept+'25_'+str(int(int(rgb_x)+mnhc_x))+'_'+str(int(int(rgb_y)-mnhc_y))+'.tif'\n",
    "            else:\n",
    "                mnhc_file = mnhc_dir_dept+'Diff_MNS_CORREL_1-0_LAMB93_20FD'+dept+'25_'+str(int(int(rgb_x)+mnhc_x))+'_'+str(int(int(rgb_y)-(mnhc_y+1)))+'.tif'\n",
    "            \n",
    "            if os.path.exists(mnhc_file):\n",
    "                # print(mnhc_file)\n",
    "                mnhc = np.asarray(Image.open(mnhc_file))\n",
    "                w, h = mnhc.shape\n",
    "                std_conv_mnhc = std_convoluted(mnhc,N=10)\n",
    "                if dept == '35':\n",
    "                    mask = np.logical_and(np.logical_and(mnhc > 3., \n",
    "                                                         np.logical_or(mnhc > 5., \n",
    "                                                                       std_conv_mnhc > .5)\n",
    "                                                        ),\n",
    "                                          np.logical_and(ndvi[mnhc_x*w:(mnhc_x+1)*w, mnhc_y*h:(mnhc_y+1)*h] > 0,\n",
    "                                                         buildings[mnhc_x*w:(mnhc_x+1)*w, mnhc_y*h:(mnhc_y+1)*h] == 0\n",
    "                                                        ) \\\n",
    "                                         ).astype('uint8')\n",
    "                else:\n",
    "                    mask = np.logical_and(np.logical_and(mnhc > 3., \n",
    "                                                         np.logical_or(mnhc > 5., \n",
    "                                                                       std_conv_mnhc > .5)\n",
    "                                                        ),\n",
    "                                          np.logical_and(ndvi[mnhc_y*h:(mnhc_y+1)*h, mnhc_x*w:(mnhc_x+1)*w] > 0,\n",
    "                                                         buildings[mnhc_y*h:(mnhc_y+1)*h, mnhc_x*w:(mnhc_x+1)*w] == 0\n",
    "                                                        ) \\\n",
    "                                         ).astype('uint8')\n",
    "                # mnhc_y*h:(mnhc_y+1)*h, mnhc_x*w:(mnhc_x+1)*w\n",
    "                \n",
    "                for x in range(0, w-(config['img_size']+config['border']*2)+1, config['img_size']+config['border']*2):\n",
    "                    for y in range(0, h-(config['img_size']+config['border']*2)+1, config['img_size']+config['border']*2):\n",
    "                        \n",
    "                        crop_rgb = ortho_rgb[mnhc_y*h+y: mnhc_y*h+y+config['img_size']+config['border']*2, mnhc_x*w+x: mnhc_x*w+x+config['img_size']+config['border']*2, :]\n",
    "                        crop_mask = mask[y:y+config['img_size']+config['border']*2, x:x+config['img_size']+config['border']*2]\n",
    "\n",
    "                        pos = dept+'_'+str(int((int(rgb_x)+mnhc_x)*1000+x/2))+'_'+str(int((int(rgb_y)-mnhc_y)*1000+y/2))\n",
    "                        \n",
    "                        cv2.imwrite(config['rgb_vignettes_path'] + f'{dept}/' + f'rgb_{rgb_x}_{rgb_y}/' + 'rgb_' + str(pos) + '.jpg', crop_rgb)\n",
    "                        cv2.imwrite(config['mask_vignettes_path'] + f'{dept}/' + f'mask_{rgb_x}_{rgb_y}/' + 'mask_'+ str(pos) + '.png', crop_mask*255)\n",
    "\n",
    "                        # Calculate characteristics of the RGB crop and add to the DataFrame\n",
    "                        mask_2 = np.stack((crop_mask,)*3, axis=-1)\n",
    "                        non_mask = np.logical_not(mask_2)\n",
    "                        non_crop_mask = np.logical_not(crop_mask)\n",
    "                        res = [dept, pos, crop_mask.sum()] + \\\n",
    "                        np.mean(crop_rgb, axis=(0, 1), where=mask_2.astype(bool)).tolist() + \\\n",
    "                        np.mean(crop_rgb, axis=(0, 1), where=non_mask.astype(bool)).tolist() + \\\n",
    "                        np.std(crop_rgb, axis=(0, 1), where=mask_2.astype(bool)).tolist() + \\\n",
    "                        np.std(crop_rgb, axis=(0, 1), where=non_mask.astype(bool)).tolist() + \\\n",
    "                        [np.mean(convolution(crop_rgb[:, :, 0], N=3), where=crop_mask.astype(bool)), np.mean(convolution(crop_rgb[:, :, 1], N=3), where=crop_mask.astype(bool)), np.mean(convolution(crop_rgb[:, :, 2], N=3), where=crop_mask.astype(bool))] + \\\n",
    "                        [np.mean(convolution(crop_rgb[:, :, 0], N=3), where=non_crop_mask.astype(bool)), np.mean(convolution(crop_rgb[:, :, 1], N=3), where=non_crop_mask.astype(bool)), np.mean(convolution(crop_rgb[:, :, 2], N=3), where=non_crop_mask.astype(bool))] + \\\n",
    "                        [np.std(convolution(crop_rgb[:, :, 0], N=3), where=crop_mask.astype(bool)), np.std(convolution(crop_rgb[:, :, 1], N=3), where=crop_mask.astype(bool)), np.std(convolution(crop_rgb[:, :, 2], N=3), where=crop_mask.astype(bool))] + \\\n",
    "                        [np.std(convolution(crop_rgb[:, :, 0], N=3), where=non_crop_mask.astype(bool)), np.std(convolution(crop_rgb[:, :, 1], N=3), where=non_crop_mask.astype(bool)), np.std(convolution(crop_rgb[:, :, 2], N=3), where=non_crop_mask.astype(bool))] \n",
    "                        # vignette_data.append(res)\n",
    "                        \n",
    "                        # Append the list to the DataFrame\n",
    "                        df.loc[len(df) + len(set(range(df.index[-1]))-set(df.index))\n",
    "                        if len(df.index) > 0\n",
    "                        else 0] = res\n",
    "                \n",
    "                # If more images are needed, comment the break\n",
    "                break\n",
    "                \n",
    "    # Drop duplicates and save the DataFrame to a CSV file\n",
    "    df.drop_duplicates(subset='file').to_csv(config['stat_vignettes_path'])\n",
    "    \n",
    "    return df\n"
   ]
  },
  {
   "cell_type": "code",
   "execution_count": 15,
   "id": "b4d59c41-033d-4deb-8af7-233c45bd2a09",
   "metadata": {},
   "outputs": [],
   "source": [
    "from vignette_creation import vignette_and_mask_creation_func\n",
    "\n",
    "import glob\n",
    "import pandas as pd\n",
    "import geopandas as gpd\n",
    "import matplotlib.pyplot as plt\n",
    "\n",
    "import os\n",
    "from time import time\n",
    "import json\n",
    "\n",
    "import warnings\n",
    "warnings.simplefilter(\"ignore\")\n",
    "\n",
    "with open('config.json') as f_in:\n",
    "    config = json.load(f_in)"
   ]
  },
  {
   "cell_type": "raw",
   "id": "39f496d7-d15d-4303-83a5-8439d7e9f8de",
   "metadata": {},
   "source": [
    "config"
   ]
  },
  {
   "cell_type": "raw",
   "id": "67949734-624a-4bff-980d-03cb83e7ca62",
   "metadata": {},
   "source": [
    "config['topo_path'] = {\n",
    "    '61': \"donnees/BDTOPO/BDTOPO_3-0_TOUSTHEMES_SHP_LAMB93_D061_2020-06-15/BDTOPO/1_DONNEES_LIVRAISON_2020-06-00047/BDT_3-0_SHP_LAMB93_D061-ED2020-06-15/BATI/BATIMENT.shp\",\n",
    "    '49': \"donnees/BDTOPO/BDTOPO_3-0_TOUSTHEMES_SHP_LAMB93_D049_2020-06-15/BDTOPO/1_DONNEES_LIVRAISON_2020-06-00047/BDT_3-0_SHP_LAMB93_D049-ED2020-06-15/BATI/BATIMENT.shp\",\n",
    "    '14': \"donnees/BDTOPO/BDTOPO_3-0_TOUSTHEMES_SHP_LAMB93_D014_2020-06-15/BDTOPO/1_DONNEES_LIVRAISON_2020-06-00047/BDT_3-0_SHP_LAMB93_D014-ED2020-06-15/BATI/BATIMENT.shp\"\n",
    "                      }"
   ]
  },
  {
   "cell_type": "raw",
   "id": "5ff57a10-daaa-4d6a-a9ef-2ac55f258fb4",
   "metadata": {},
   "source": [
    "with open('config.json', 'w') as f_in:\n",
    "    json.dump(config, f_in)"
   ]
  },
  {
   "cell_type": "code",
   "execution_count": 35,
   "id": "f86f83ca-8838-4201-8d62-6262d89bdfb8",
   "metadata": {},
   "outputs": [],
   "source": [
    "orthophotos_61 = glob.glob(config['ortho_path']['61']['2020']+\"/*.jp2\")\n",
    "orthophotos_49 = glob.glob(config['ortho_path']['49']['2020']+\"/*.jp2\")\n",
    "orthophotos_14 = glob.glob(config['ortho_path']['14']['2020']+\"/*.jp2\")"
   ]
  },
  {
   "cell_type": "code",
   "execution_count": 36,
   "id": "5a750d1b-f953-494c-9547-a0bb0d44c5e7",
   "metadata": {},
   "outputs": [],
   "source": [
    "orthophotos_14 = orthophotos_14[6:20]# +list(pd.Series(orthophotos_14)[pd.Series(orthophotos_14).apply(lambda x:x[-len('390-6870-LA93-0M20-E080.jp2'):-len('390-6870-LA93-0M20-E080.jp2')+3]).astype(int) >= 490][30:60].values)"
   ]
  },
  {
   "cell_type": "code",
   "execution_count": 37,
   "id": "d70be54b-709d-4377-a7f9-ce8b7b2f93c5",
   "metadata": {},
   "outputs": [],
   "source": [
    "orthophotos_61 = pd.Series(orthophotos_61)[pd.Series(orthophotos_61).apply(lambda x:x[-len('390-6870-LA93-0M20-E080.jp2'):-len('390-6870-LA93-0M20-E080.jp2')+3]).astype(int) >= 490][60:70].values"
   ]
  },
  {
   "cell_type": "code",
   "execution_count": 38,
   "id": "8090a9bb-da85-490c-b0e7-51da9daa276a",
   "metadata": {},
   "outputs": [],
   "source": [
    "orthophotos_49 = orthophotos_49[60:70]"
   ]
  },
  {
   "cell_type": "code",
   "execution_count": 39,
   "id": "afb21ff0-9a0e-4998-b018-8a90cff02a38",
   "metadata": {},
   "outputs": [
    {
     "data": {
      "text/plain": [
       "10"
      ]
     },
     "execution_count": 39,
     "metadata": {},
     "output_type": "execute_result"
    }
   ],
   "source": [
    "len(orthophotos_61)"
   ]
  },
  {
   "cell_type": "raw",
   "id": "2f787ce3-716a-46f6-b06a-962f4b0b10b6",
   "metadata": {},
   "source": [
    "path_to_orthophoto_rgb = orthophotos_61[0]"
   ]
  },
  {
   "cell_type": "raw",
   "id": "0dada64c-9770-497c-aa67-dd85e1340b1a",
   "metadata": {},
   "source": [
    "config['topo_path']['49']"
   ]
  },
  {
   "cell_type": "code",
   "execution_count": 11,
   "id": "6baa6dbf-5ccc-4447-bb78-aeb2b63e2d16",
   "metadata": {},
   "outputs": [
    {
     "name": "stdout",
     "output_type": "stream",
     "text": [
      "350.73\n"
     ]
    }
   ],
   "source": [
    "# Load all Shapefiles in the folder\n",
    "start = time()\n",
    "gdf_49 = gpd.read_file(config['topo_path']['49'])\n",
    "gdf_49 = gdf_49.buffer(3)\n",
    "print(round(time()-start, 2))"
   ]
  },
  {
   "cell_type": "code",
   "execution_count": 7,
   "id": "138d2d16-1983-4098-9766-d61e4520c1f8",
   "metadata": {},
   "outputs": [
    {
     "name": "stdout",
     "output_type": "stream",
     "text": [
      "299.83\n"
     ]
    }
   ],
   "source": [
    "# Load all Shapefiles in the folder\n",
    "start = time()\n",
    "gdf_14 = gpd.read_file(config['topo_path']['14'])\n",
    "gdf_14 = gdf_14.buffer(3)\n",
    "print(round(time()-start, 2))"
   ]
  },
  {
   "cell_type": "code",
   "execution_count": 12,
   "id": "509a840f-73b6-4f13-81b9-230e1388410d",
   "metadata": {},
   "outputs": [
    {
     "name": "stdout",
     "output_type": "stream",
     "text": [
      "177.42\n"
     ]
    }
   ],
   "source": [
    "# Load all Shapefiles in the folder\n",
    "start = time()\n",
    "gdf_61 = gpd.read_file(config['topo_path']['61'])\n",
    "gdf_61 = gdf_61.buffer(3)\n",
    "print(round(time()-start, 2))"
   ]
  },
  {
   "cell_type": "raw",
   "id": "40a7ca7e-c57c-4f11-a5b8-f94885e775d9",
   "metadata": {},
   "source": [
    "import os\n",
    "os.path.basename(orthophotos_14[0])[:2]"
   ]
  },
  {
   "cell_type": "code",
   "execution_count": 41,
   "id": "f715c210-8b47-4330-a1d9-e117a56a06ce",
   "metadata": {
    "scrolled": true
   },
   "outputs": [
    {
     "name": "stdout",
     "output_type": "stream",
     "text": [
      "donnees/BDORTHO/ORTHOHR_1-0_RVB-0M20_JP2-E080_LAMB93_D049_2020-01-01/ORTHOHR/1_DONNEES_LIVRAISON_2020-12-00085/OHR_RVB_0M20_JP2-E080_LAMB93_D49-2020\\49-2020-0395-6730-LA93-0M20-E080.jp2\n",
      "49\n"
     ]
    },
    {
     "name": "stderr",
     "output_type": "stream",
     "text": [
      "100%|█████████████████████████████████████████████████████████████████████████████████████████████████| 5/5 [01:19<00:00, 16.00s/it]\n"
     ]
    },
    {
     "name": "stdout",
     "output_type": "stream",
     "text": [
      "donnees/BDORTHO/ORTHOHR_1-0_RVB-0M20_JP2-E080_LAMB93_D049_2020-01-01/ORTHOHR/1_DONNEES_LIVRAISON_2020-12-00085/OHR_RVB_0M20_JP2-E080_LAMB93_D49-2020\\49-2020-0395-6735-LA93-0M20-E080.jp2\n",
      "49\n"
     ]
    },
    {
     "name": "stderr",
     "output_type": "stream",
     "text": [
      "100%|█████████████████████████████████████████████████████████████████████████████████████████████████| 5/5 [01:19<00:00, 15.99s/it]\n"
     ]
    },
    {
     "name": "stdout",
     "output_type": "stream",
     "text": [
      "donnees/BDORTHO/ORTHOHR_1-0_RVB-0M20_JP2-E080_LAMB93_D049_2020-01-01/ORTHOHR/1_DONNEES_LIVRAISON_2020-12-00085/OHR_RVB_0M20_JP2-E080_LAMB93_D49-2020\\49-2020-0395-6740-LA93-0M20-E080.jp2\n",
      "49\n"
     ]
    },
    {
     "name": "stderr",
     "output_type": "stream",
     "text": [
      "100%|█████████████████████████████████████████████████████████████████████████████████████████████████| 5/5 [01:20<00:00, 16.07s/it]\n"
     ]
    },
    {
     "name": "stdout",
     "output_type": "stream",
     "text": [
      "donnees/BDORTHO/ORTHOHR_1-0_RVB-0M20_JP2-E080_LAMB93_D049_2020-01-01/ORTHOHR/1_DONNEES_LIVRAISON_2020-12-00085/OHR_RVB_0M20_JP2-E080_LAMB93_D49-2020\\49-2020-0395-6745-LA93-0M20-E080.jp2\n",
      "49\n"
     ]
    },
    {
     "name": "stderr",
     "output_type": "stream",
     "text": [
      "100%|█████████████████████████████████████████████████████████████████████████████████████████████████| 5/5 [01:24<00:00, 16.99s/it]\n"
     ]
    },
    {
     "name": "stdout",
     "output_type": "stream",
     "text": [
      "donnees/BDORTHO/ORTHOHR_1-0_RVB-0M20_JP2-E080_LAMB93_D049_2020-01-01/ORTHOHR/1_DONNEES_LIVRAISON_2020-12-00085/OHR_RVB_0M20_JP2-E080_LAMB93_D49-2020\\49-2020-0395-6750-LA93-0M20-E080.jp2\n",
      "49\n"
     ]
    },
    {
     "name": "stderr",
     "output_type": "stream",
     "text": [
      "100%|█████████████████████████████████████████████████████████████████████████████████████████████████| 5/5 [01:19<00:00, 15.93s/it]\n"
     ]
    },
    {
     "name": "stdout",
     "output_type": "stream",
     "text": [
      "donnees/BDORTHO/ORTHOHR_1-0_RVB-0M20_JP2-E080_LAMB93_D049_2020-01-01/ORTHOHR/1_DONNEES_LIVRAISON_2020-12-00085/OHR_RVB_0M20_JP2-E080_LAMB93_D49-2020\\49-2020-0400-6660-LA93-0M20-E080.jp2\n",
      "49\n"
     ]
    },
    {
     "name": "stderr",
     "output_type": "stream",
     "text": [
      "100%|███████████████████████████████████████████████████████████████████████████████████████████████| 5/5 [00:00<00:00, 3734.25it/s]\n"
     ]
    },
    {
     "name": "stdout",
     "output_type": "stream",
     "text": [
      "donnees/BDORTHO/ORTHOHR_1-0_RVB-0M20_JP2-E080_LAMB93_D049_2020-01-01/ORTHOHR/1_DONNEES_LIVRAISON_2020-12-00085/OHR_RVB_0M20_JP2-E080_LAMB93_D49-2020\\49-2020-0400-6665-LA93-0M20-E080.jp2\n",
      "49\n"
     ]
    },
    {
     "name": "stderr",
     "output_type": "stream",
     "text": [
      "100%|█████████████████████████████████████████████████████████████████████████████████████████████████| 5/5 [01:20<00:00, 16.15s/it]\n"
     ]
    },
    {
     "name": "stdout",
     "output_type": "stream",
     "text": [
      "donnees/BDORTHO/ORTHOHR_1-0_RVB-0M20_JP2-E080_LAMB93_D049_2020-01-01/ORTHOHR/1_DONNEES_LIVRAISON_2020-12-00085/OHR_RVB_0M20_JP2-E080_LAMB93_D49-2020\\49-2020-0400-6670-LA93-0M20-E080.jp2\n",
      "49\n"
     ]
    },
    {
     "name": "stderr",
     "output_type": "stream",
     "text": [
      "100%|█████████████████████████████████████████████████████████████████████████████████████████████████| 5/5 [01:18<00:00, 15.64s/it]\n"
     ]
    },
    {
     "name": "stdout",
     "output_type": "stream",
     "text": [
      "donnees/BDORTHO/ORTHOHR_1-0_RVB-0M20_JP2-E080_LAMB93_D049_2020-01-01/ORTHOHR/1_DONNEES_LIVRAISON_2020-12-00085/OHR_RVB_0M20_JP2-E080_LAMB93_D49-2020\\49-2020-0400-6675-LA93-0M20-E080.jp2\n",
      "49\n"
     ]
    },
    {
     "name": "stderr",
     "output_type": "stream",
     "text": [
      "100%|█████████████████████████████████████████████████████████████████████████████████████████████████| 5/5 [01:17<00:00, 15.52s/it]\n"
     ]
    },
    {
     "name": "stdout",
     "output_type": "stream",
     "text": [
      "donnees/BDORTHO/ORTHOHR_1-0_RVB-0M20_JP2-E080_LAMB93_D049_2020-01-01/ORTHOHR/1_DONNEES_LIVRAISON_2020-12-00085/OHR_RVB_0M20_JP2-E080_LAMB93_D49-2020\\49-2020-0400-6680-LA93-0M20-E080.jp2\n",
      "49\n"
     ]
    },
    {
     "name": "stderr",
     "output_type": "stream",
     "text": [
      "100%|█████████████████████████████████████████████████████████████████████████████████████████████████| 5/5 [01:18<00:00, 15.72s/it]\n"
     ]
    },
    {
     "name": "stdout",
     "output_type": "stream",
     "text": [
      "donnees/BDORTHO/ORTHOHR_1-0_RVB-0M20_JP2-E080_LAMB93_D061_2020-01-01/ORTHOHR/1_DONNEES_LIVRAISON_2020-08-00241/OHR_RVB_0M20_JP2-E080_LAMB93_D61-2020\\61-2020-0510-6830-LA93-0M20-E080.jp2\n",
      "61\n"
     ]
    },
    {
     "name": "stderr",
     "output_type": "stream",
     "text": [
      "100%|█████████████████████████████████████████████████████████████████████████████████████████████████| 5/5 [01:19<00:00, 15.98s/it]\n"
     ]
    },
    {
     "name": "stdout",
     "output_type": "stream",
     "text": [
      "donnees/BDORTHO/ORTHOHR_1-0_RVB-0M20_JP2-E080_LAMB93_D061_2020-01-01/ORTHOHR/1_DONNEES_LIVRAISON_2020-08-00241/OHR_RVB_0M20_JP2-E080_LAMB93_D61-2020\\61-2020-0510-6835-LA93-0M20-E080.jp2\n",
      "61\n"
     ]
    },
    {
     "name": "stderr",
     "output_type": "stream",
     "text": [
      "100%|█████████████████████████████████████████████████████████████████████████████████████████████████| 5/5 [01:17<00:00, 15.60s/it]\n"
     ]
    },
    {
     "name": "stdout",
     "output_type": "stream",
     "text": [
      "donnees/BDORTHO/ORTHOHR_1-0_RVB-0M20_JP2-E080_LAMB93_D061_2020-01-01/ORTHOHR/1_DONNEES_LIVRAISON_2020-08-00241/OHR_RVB_0M20_JP2-E080_LAMB93_D61-2020\\61-2020-0510-6840-LA93-0M20-E080.jp2\n",
      "61\n"
     ]
    },
    {
     "name": "stderr",
     "output_type": "stream",
     "text": [
      "100%|█████████████████████████████████████████████████████████████████████████████████████████████████| 5/5 [01:22<00:00, 16.54s/it]\n"
     ]
    },
    {
     "name": "stdout",
     "output_type": "stream",
     "text": [
      "donnees/BDORTHO/ORTHOHR_1-0_RVB-0M20_JP2-E080_LAMB93_D061_2020-01-01/ORTHOHR/1_DONNEES_LIVRAISON_2020-08-00241/OHR_RVB_0M20_JP2-E080_LAMB93_D61-2020\\61-2020-0510-6845-LA93-0M20-E080.jp2\n",
      "61\n"
     ]
    },
    {
     "name": "stderr",
     "output_type": "stream",
     "text": [
      "100%|█████████████████████████████████████████████████████████████████████████████████████████████████| 5/5 [01:19<00:00, 15.92s/it]\n"
     ]
    },
    {
     "name": "stdout",
     "output_type": "stream",
     "text": [
      "donnees/BDORTHO/ORTHOHR_1-0_RVB-0M20_JP2-E080_LAMB93_D061_2020-01-01/ORTHOHR/1_DONNEES_LIVRAISON_2020-08-00241/OHR_RVB_0M20_JP2-E080_LAMB93_D61-2020\\61-2020-0510-6850-LA93-0M20-E080.jp2\n",
      "61\n"
     ]
    },
    {
     "name": "stderr",
     "output_type": "stream",
     "text": [
      "100%|█████████████████████████████████████████████████████████████████████████████████████████████████| 5/5 [01:18<00:00, 15.62s/it]\n"
     ]
    },
    {
     "name": "stdout",
     "output_type": "stream",
     "text": [
      "donnees/BDORTHO/ORTHOHR_1-0_RVB-0M20_JP2-E080_LAMB93_D061_2020-01-01/ORTHOHR/1_DONNEES_LIVRAISON_2020-08-00241/OHR_RVB_0M20_JP2-E080_LAMB93_D61-2020\\61-2020-0510-6855-LA93-0M20-E080.jp2\n",
      "61\n"
     ]
    },
    {
     "name": "stderr",
     "output_type": "stream",
     "text": [
      "100%|█████████████████████████████████████████████████████████████████████████████████████████████████| 5/5 [01:19<00:00, 15.99s/it]\n"
     ]
    },
    {
     "name": "stdout",
     "output_type": "stream",
     "text": [
      "donnees/BDORTHO/ORTHOHR_1-0_RVB-0M20_JP2-E080_LAMB93_D061_2020-01-01/ORTHOHR/1_DONNEES_LIVRAISON_2020-08-00241/OHR_RVB_0M20_JP2-E080_LAMB93_D61-2020\\61-2020-0510-6860-LA93-0M20-E080.jp2\n",
      "61\n"
     ]
    },
    {
     "name": "stderr",
     "output_type": "stream",
     "text": [
      "100%|█████████████████████████████████████████████████████████████████████████████████████████████████| 5/5 [01:20<00:00, 16.18s/it]\n"
     ]
    },
    {
     "name": "stdout",
     "output_type": "stream",
     "text": [
      "donnees/BDORTHO/ORTHOHR_1-0_RVB-0M20_JP2-E080_LAMB93_D061_2020-01-01/ORTHOHR/1_DONNEES_LIVRAISON_2020-08-00241/OHR_RVB_0M20_JP2-E080_LAMB93_D61-2020\\61-2020-0510-6865-LA93-0M20-E080.jp2\n",
      "61\n"
     ]
    },
    {
     "name": "stderr",
     "output_type": "stream",
     "text": [
      "100%|█████████████████████████████████████████████████████████████████████████████████████████████████| 5/5 [01:19<00:00, 15.96s/it]\n"
     ]
    },
    {
     "name": "stdout",
     "output_type": "stream",
     "text": [
      "donnees/BDORTHO/ORTHOHR_1-0_RVB-0M20_JP2-E080_LAMB93_D061_2020-01-01/ORTHOHR/1_DONNEES_LIVRAISON_2020-08-00241/OHR_RVB_0M20_JP2-E080_LAMB93_D61-2020\\61-2020-0510-6870-LA93-0M20-E080.jp2\n",
      "61\n"
     ]
    },
    {
     "name": "stderr",
     "output_type": "stream",
     "text": [
      "100%|█████████████████████████████████████████████████████████████████████████████████████████████████| 5/5 [01:18<00:00, 15.79s/it]\n"
     ]
    },
    {
     "name": "stdout",
     "output_type": "stream",
     "text": [
      "donnees/BDORTHO/ORTHOHR_1-0_RVB-0M20_JP2-E080_LAMB93_D061_2020-01-01/ORTHOHR/1_DONNEES_LIVRAISON_2020-08-00241/OHR_RVB_0M20_JP2-E080_LAMB93_D61-2020\\61-2020-0510-6875-LA93-0M20-E080.jp2\n",
      "61\n"
     ]
    },
    {
     "name": "stderr",
     "output_type": "stream",
     "text": [
      "100%|█████████████████████████████████████████████████████████████████████████████████████████████████| 5/5 [00:32<00:00,  6.45s/it]\n"
     ]
    },
    {
     "name": "stdout",
     "output_type": "stream",
     "text": [
      "vignette creation done in 5910.26 sec\n"
     ]
    }
   ],
   "source": [
    "start = time()\n",
    "for ortho_path in orthophotos_49 + list(orthophotos_61) : # list(orthophotos_14) + list(orthophotos_61) + orthophotos_49\n",
    "    print(ortho_path)\n",
    "    if os.path.basename(ortho_path)[:2] == '14':\n",
    "        print('14')\n",
    "        gdf = gdf_14.copy() \n",
    "    elif os.path.basename(ortho_path)[:2] == '61':\n",
    "        print('61')\n",
    "        gdf = gdf_61.copy()\n",
    "    else:\n",
    "        print('49')\n",
    "        gdf = gdf_49.copy()\n",
    "    df = vignette_and_mask_creation_func(ortho_path, gdf)\n",
    "print(f'vignette creation done in {round(time()-start, 2)} sec')"
   ]
  },
  {
   "cell_type": "raw",
   "id": "44c140d7-a043-4639-b2cd-96d96f73313e",
   "metadata": {},
   "source": [
    "plt.imshow(crop_rgb)"
   ]
  },
  {
   "cell_type": "raw",
   "id": "74355da4-f0da-44f1-b771-b9210ffc9de8",
   "metadata": {},
   "source": [
    "plt.imshow(crop_mask)"
   ]
  }
 ],
 "metadata": {
  "kernelspec": {
   "display_name": "Python 3 (ipykernel)",
   "language": "python",
   "name": "python3"
  },
  "language_info": {
   "codemirror_mode": {
    "name": "ipython",
    "version": 3
   },
   "file_extension": ".py",
   "mimetype": "text/x-python",
   "name": "python",
   "nbconvert_exporter": "python",
   "pygments_lexer": "ipython3",
   "version": "3.11.5"
  }
 },
 "nbformat": 4,
 "nbformat_minor": 5
}
