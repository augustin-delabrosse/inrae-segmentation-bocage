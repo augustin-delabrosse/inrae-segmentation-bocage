{
 "cells": [
  {
   "cell_type": "code",
   "execution_count": 10,
   "id": "438775bd-fc9b-421b-9c0c-b47d478d4f99",
   "metadata": {},
   "outputs": [],
   "source": [
    "from pipeline_creation import get_file_paths\n",
    "import cv2\n",
    "from tqdm import tqdm\n",
    "import numpy as np\n",
    "import matplotlib.pyplot as plt"
   ]
  },
  {
   "cell_type": "code",
   "execution_count": 2,
   "id": "734ab9df-da32-4fb2-b529-adeb6cb26fc6",
   "metadata": {},
   "outputs": [],
   "source": [
    "a, b = get_file_paths()"
   ]
  },
  {
   "cell_type": "code",
   "execution_count": 6,
   "id": "0a6a729a-4a30-4b72-9941-5ccc8d873ed5",
   "metadata": {},
   "outputs": [
    {
     "name": "stderr",
     "output_type": "stream",
     "text": [
      "100%|█████████████████████| 1404/1404 [00:03<00:00, 388.52it/s]\n"
     ]
    }
   ],
   "source": [
    "my_list = []\n",
    "masks = []\n",
    "for i in tqdm(b):\n",
    "    mask = cv2.imread(i)\n",
    "    masks.append(mask)\n",
    "    my_list.append((mask[:,:,0]/255.).sum()/(288**2))"
   ]
  },
  {
   "cell_type": "code",
   "execution_count": 4,
   "id": "b6445508-95a7-4e91-9b89-84fd7e1426ff",
   "metadata": {},
   "outputs": [
    {
     "data": {
      "text/plain": [
       "0.3520869588186091"
      ]
     },
     "execution_count": 4,
     "metadata": {},
     "output_type": "execute_result"
    }
   ],
   "source": [
    "np.mean(my_list)"
   ]
  },
  {
   "cell_type": "raw",
   "id": "0fb3abdd-9098-4983-b4c3-c00359c1d04d",
   "metadata": {},
   "source": [
    "plt.imshow(mask)"
   ]
  },
  {
   "cell_type": "code",
   "execution_count": 21,
   "id": "1a39d6ad-e25c-440a-932c-2da1fc8531c3",
   "metadata": {},
   "outputs": [
    {
     "data": {
      "text/plain": [
       "13.570240162037036"
      ]
     },
     "execution_count": 21,
     "metadata": {},
     "output_type": "execute_result"
    }
   ],
   "source": [
    "np.sum(mask[:,:,0])/288**2"
   ]
  },
  {
   "cell_type": "code",
   "execution_count": null,
   "id": "f3c6e9d1-9cde-49e8-8026-bc6a9912a8cc",
   "metadata": {},
   "outputs": [],
   "source": []
  }
 ],
 "metadata": {
  "kernelspec": {
   "display_name": "Python 3 (ipykernel)",
   "language": "python",
   "name": "python3"
  },
  "language_info": {
   "codemirror_mode": {
    "name": "ipython",
    "version": 3
   },
   "file_extension": ".py",
   "mimetype": "text/x-python",
   "name": "python",
   "nbconvert_exporter": "python",
   "pygments_lexer": "ipython3",
   "version": "3.11.5"
  }
 },
 "nbformat": 4,
 "nbformat_minor": 5
}
