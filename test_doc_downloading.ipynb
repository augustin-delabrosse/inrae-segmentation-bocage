{
 "cells": [
  {
   "cell_type": "code",
   "execution_count": 30,
   "id": "4834e283-0105-4055-8b79-0c1dfc4822a7",
   "metadata": {},
   "outputs": [],
   "source": [
    "import requests\n",
    "import py7zr\n",
    "\n",
    "from time import time\n",
    "from tqdm import tqdm"
   ]
  },
  {
   "cell_type": "markdown",
   "id": "d751a346-f0b1-44ec-9d98-a269f30dd3e3",
   "metadata": {},
   "source": [
    "# Download BDORTHO"
   ]
  },
  {
   "cell_type": "raw",
   "id": "7e756a2b-cde5-4b7f-97a0-16c6c19b5bba",
   "metadata": {},
   "source": [
    "\"https://wxs.ign.fr/pkz8762095c7qmx39tv6ebto/telechargement/prepackage/ORTHOHR-JP2_PACK_D035_2020-01-01$ORTHOHR_1-0_RVB-0M20_JP2-E080_LAMB93_D035_2020-01-01/file/ORTHOHR_1-0_RVB-0M20_JP2-E080_LAMB93_D035_2020-01-01.7z.001\""
   ]
  },
  {
   "cell_type": "code",
   "execution_count": 2,
   "id": "7599b08d-1096-4276-b788-59725eddd800",
   "metadata": {},
   "outputs": [],
   "source": [
    "base_url = \"https://wxs.ign.fr/pkz8762095c7qmx39tv6ebto/telechargement/prepackage/\""
   ]
  },
  {
   "cell_type": "code",
   "execution_count": 3,
   "id": "6331da4a-2496-4be7-97fe-098b7a98f8f1",
   "metadata": {},
   "outputs": [],
   "source": [
    "year = 2014\n",
    "dept = 35\n",
    "IRC = False\n",
    "res = 20\n",
    "idx = 2\n",
    "idx = str(idx).zfill(3)"
   ]
  },
  {
   "cell_type": "raw",
   "id": "0fdf41e4-755a-44a0-b24a-0c069cefb003",
   "metadata": {},
   "source": [
    "url = base_url + f\"ORTHOHR-JP2_PACK_D0{dept}_{year}-01-01$ORTHOHR_1-0_RVB-0M{res}_JP2-E080_LAMB93_D0{dept}_{year}-01-01/file/ORTHOHR_1-0_RVB-0M{res}_JP2-E080_LAMB93_D0{dept}_{year}-01-01.7z.{idx}\""
   ]
  },
  {
   "cell_type": "raw",
   "id": "45cda368-64e0-4f10-956e-5c238241f65e",
   "metadata": {},
   "source": [
    "url"
   ]
  },
  {
   "cell_type": "code",
   "execution_count": 13,
   "id": "74429ab9-0fb1-4cfa-b9b5-88aed40218ba",
   "metadata": {
    "collapsed": true,
    "jupyter": {
     "outputs_hidden": true
    },
    "tags": []
   },
   "outputs": [
    {
     "name": "stdout",
     "output_type": "stream",
     "text": [
      "50\n",
      "OK\n",
      "response: 403\n",
      "Failed to download the file. HTTP status code: 403\n",
      "20\n",
      "OK\n",
      "response: 200\n",
      "File downloaded as donnees/BDORTHO/ORTHOHR_1-0_RVB-0M20_JP2-E080_LAMB93_D035_2014-01-01.7z.002 in 7708.75 sec\n"
     ]
    },
    {
     "ename": "Bad7zFile",
     "evalue": "not a 7z file",
     "output_type": "error",
     "traceback": [
      "\u001b[1;31m---------------------------------------------------------------------------\u001b[0m",
      "\u001b[1;31mBad7zFile\u001b[0m                                 Traceback (most recent call last)",
      "Cell \u001b[1;32mIn[13], line 24\u001b[0m\n\u001b[0;32m     22\u001b[0m start_2 \u001b[38;5;241m=\u001b[39m time()\n\u001b[0;32m     23\u001b[0m \u001b[38;5;66;03m# Unzip the file using py7zr\u001b[39;00m\n\u001b[1;32m---> 24\u001b[0m \u001b[38;5;28;01mwith\u001b[39;00m \u001b[43mpy7zr\u001b[49m\u001b[38;5;241;43m.\u001b[39;49m\u001b[43mSevenZipFile\u001b[49m\u001b[43m(\u001b[49m\u001b[43mlocal_filename\u001b[49m\u001b[43m,\u001b[49m\u001b[43m \u001b[49m\u001b[43mmode\u001b[49m\u001b[38;5;241;43m=\u001b[39;49m\u001b[38;5;124;43m\"\u001b[39;49m\u001b[38;5;124;43mr\u001b[39;49m\u001b[38;5;124;43m\"\u001b[39;49m\u001b[43m)\u001b[49m \u001b[38;5;28;01mas\u001b[39;00m z:\n\u001b[0;32m     25\u001b[0m     z\u001b[38;5;241m.\u001b[39mextractall()\n\u001b[0;32m     26\u001b[0m \u001b[38;5;28mprint\u001b[39m(\u001b[38;5;124mf\u001b[39m\u001b[38;5;124m\"\u001b[39m\u001b[38;5;124mFile \u001b[39m\u001b[38;5;132;01m{\u001b[39;00mlocal_filename\u001b[38;5;132;01m}\u001b[39;00m\u001b[38;5;124m has been successfully extracted in \u001b[39m\u001b[38;5;132;01m{\u001b[39;00m\u001b[38;5;28mround\u001b[39m(time()\u001b[38;5;241m-\u001b[39mstart_2,\u001b[38;5;250m \u001b[39m\u001b[38;5;241m2\u001b[39m)\u001b[38;5;132;01m}\u001b[39;00m\u001b[38;5;124m sec.\u001b[39m\u001b[38;5;124m\"\u001b[39m)\n",
      "File \u001b[1;32m~\\.conda\\envs\\inrae_seg_env\\Lib\\site-packages\\py7zr\\py7zr.py:407\u001b[0m, in \u001b[0;36mSevenZipFile.__init__\u001b[1;34m(self, file, mode, filters, dereference, password, header_encryption, blocksize, mp)\u001b[0m\n\u001b[0;32m    405\u001b[0m \u001b[38;5;28;01mexcept\u001b[39;00m \u001b[38;5;167;01mException\u001b[39;00m \u001b[38;5;28;01mas\u001b[39;00m e:\n\u001b[0;32m    406\u001b[0m     \u001b[38;5;28mself\u001b[39m\u001b[38;5;241m.\u001b[39m_fpclose()\n\u001b[1;32m--> 407\u001b[0m     \u001b[38;5;28;01mraise\u001b[39;00m e\n\u001b[0;32m    408\u001b[0m \u001b[38;5;28mself\u001b[39m\u001b[38;5;241m.\u001b[39m_dict: Dict[\u001b[38;5;28mstr\u001b[39m, IO[Any]] \u001b[38;5;241m=\u001b[39m {}\n\u001b[0;32m    409\u001b[0m \u001b[38;5;28mself\u001b[39m\u001b[38;5;241m.\u001b[39mdereference \u001b[38;5;241m=\u001b[39m dereference\n",
      "File \u001b[1;32m~\\.conda\\envs\\inrae_seg_env\\Lib\\site-packages\\py7zr\\py7zr.py:393\u001b[0m, in \u001b[0;36mSevenZipFile.__init__\u001b[1;34m(self, file, mode, filters, dereference, password, header_encryption, blocksize, mp)\u001b[0m\n\u001b[0;32m    391\u001b[0m \u001b[38;5;28;01mtry\u001b[39;00m:\n\u001b[0;32m    392\u001b[0m     \u001b[38;5;28;01mif\u001b[39;00m mode \u001b[38;5;241m==\u001b[39m \u001b[38;5;124m\"\u001b[39m\u001b[38;5;124mr\u001b[39m\u001b[38;5;124m\"\u001b[39m:\n\u001b[1;32m--> 393\u001b[0m         \u001b[38;5;28;43mself\u001b[39;49m\u001b[38;5;241;43m.\u001b[39;49m\u001b[43m_real_get_contents\u001b[49m\u001b[43m(\u001b[49m\u001b[43mpassword\u001b[49m\u001b[43m)\u001b[49m\n\u001b[0;32m    394\u001b[0m         \u001b[38;5;28mself\u001b[39m\u001b[38;5;241m.\u001b[39mfp\u001b[38;5;241m.\u001b[39mseek(\u001b[38;5;28mself\u001b[39m\u001b[38;5;241m.\u001b[39mafterheader)  \u001b[38;5;66;03m# seek into start of payload and prepare worker to extract\u001b[39;00m\n\u001b[0;32m    395\u001b[0m         \u001b[38;5;28mself\u001b[39m\u001b[38;5;241m.\u001b[39mworker \u001b[38;5;241m=\u001b[39m Worker(\u001b[38;5;28mself\u001b[39m\u001b[38;5;241m.\u001b[39mfiles, \u001b[38;5;28mself\u001b[39m\u001b[38;5;241m.\u001b[39mafterheader, \u001b[38;5;28mself\u001b[39m\u001b[38;5;241m.\u001b[39mheader, \u001b[38;5;28mself\u001b[39m\u001b[38;5;241m.\u001b[39mmp)\n",
      "File \u001b[1;32m~\\.conda\\envs\\inrae_seg_env\\Lib\\site-packages\\py7zr\\py7zr.py:427\u001b[0m, in \u001b[0;36mSevenZipFile._real_get_contents\u001b[1;34m(self, password)\u001b[0m\n\u001b[0;32m    425\u001b[0m \u001b[38;5;28;01mdef\u001b[39;00m \u001b[38;5;21m_real_get_contents\u001b[39m(\u001b[38;5;28mself\u001b[39m, password) \u001b[38;5;241m-\u001b[39m\u001b[38;5;241m>\u001b[39m \u001b[38;5;28;01mNone\u001b[39;00m:\n\u001b[0;32m    426\u001b[0m     \u001b[38;5;28;01mif\u001b[39;00m \u001b[38;5;129;01mnot\u001b[39;00m \u001b[38;5;28mself\u001b[39m\u001b[38;5;241m.\u001b[39m_check_7zfile(\u001b[38;5;28mself\u001b[39m\u001b[38;5;241m.\u001b[39mfp):\n\u001b[1;32m--> 427\u001b[0m         \u001b[38;5;28;01mraise\u001b[39;00m Bad7zFile(\u001b[38;5;124m\"\u001b[39m\u001b[38;5;124mnot a 7z file\u001b[39m\u001b[38;5;124m\"\u001b[39m)\n\u001b[0;32m    428\u001b[0m     \u001b[38;5;28mself\u001b[39m\u001b[38;5;241m.\u001b[39msig_header \u001b[38;5;241m=\u001b[39m SignatureHeader\u001b[38;5;241m.\u001b[39mretrieve(\u001b[38;5;28mself\u001b[39m\u001b[38;5;241m.\u001b[39mfp)\n\u001b[0;32m    429\u001b[0m     \u001b[38;5;28mself\u001b[39m\u001b[38;5;241m.\u001b[39mafterheader: \u001b[38;5;28mint\u001b[39m \u001b[38;5;241m=\u001b[39m \u001b[38;5;28mself\u001b[39m\u001b[38;5;241m.\u001b[39mfp\u001b[38;5;241m.\u001b[39mtell()\n",
      "\u001b[1;31mBad7zFile\u001b[0m: not a 7z file"
     ]
    }
   ],
   "source": [
    "# Define the URL of the 7z file\n",
    "# url = \"https://wxs.ign.fr/pkz8762095c7qmx39tv6ebto/telechargement/inspire/BDORTHO-JP2-IRC_PACK_D035_2014-01-01$BDORTHO_2-0_IRC-0M50_JP2-E080_LAMB93_D035_2014-01-01/file/BDORTHO_2-0_IRC-0M50_JP2-E080_LAMB93_D035_2014-01-01.7z.001\"\n",
    "\n",
    "# Define the local filename for the downloaded file\n",
    "# local_filename = \"donnees/BDORTHO/BDORTHO_2-0_IRC-0M50_JP2-E080_LAMB93_D035_2014-01-01.7z\"\n",
    "\n",
    "# Download the file\n",
    "for res in [50, 20]:\n",
    "    print(res)\n",
    "    # try:\n",
    "    print('OK')\n",
    "    url = base_url + f\"ORTHOHR-JP2_PACK_D0{dept}_{year}-01-01$ORTHOHR_1-0_RVB-0M{res}_JP2-E080_LAMB93_D0{dept}_{year}-01-01/file/ORTHOHR_1-0_RVB-0M{res}_JP2-E080_LAMB93_D0{dept}_{year}-01-01.7z.{idx}\"\n",
    "    local_filename = f\"donnees/BDORTHO/ORTHOHR_1-0_RVB-0M{res}_JP2-E080_LAMB93_D0{dept}_{year}-01-01.7z.{idx}\"\n",
    "    start = time()\n",
    "    response = requests.get(url)\n",
    "    print(f'response: {response.status_code}')\n",
    "    if response.status_code == 200:\n",
    "        with open(local_filename, \"wb\") as file:\n",
    "            file.write(response.content)\n",
    "        print(f\"File downloaded as {local_filename} in {round(time()-start, 2)} sec\")\n",
    "\n",
    "        start_2 = time()\n",
    "        # Unzip the file using py7zr\n",
    "        with py7zr.SevenZipFile(local_filename, mode=\"r\") as z:\n",
    "            z.extractall()\n",
    "        print(f\"File {local_filename} has been successfully extracted in {round(time()-start_2, 2)} sec.\")\n",
    "        break\n",
    "    else:\n",
    "        print(f\"Failed to download the file. HTTP status code: {response.status_code}\")\n",
    "    # except:\n",
    "    #     print('Echec')\n",
    "    #     continue\n"
   ]
  },
  {
   "cell_type": "code",
   "execution_count": 26,
   "id": "abab1bcb-6c60-4fc4-8ea9-baa94e31d25e",
   "metadata": {},
   "outputs": [],
   "source": [
    "local_filename = f\"donnees/BDORTHO/ORTHOHR_1-0_RVB-0M20_JP2-E080_LAMB93_D035_2014-01-01\""
   ]
  },
  {
   "cell_type": "code",
   "execution_count": 27,
   "id": "ae70daa7-b7f9-4777-bf63-fa27777be786",
   "metadata": {},
   "outputs": [
    {
     "ename": "FileNotFoundError",
     "evalue": "[Errno 2] No such file or directory: 'donnees/BDORTHO/ORTHOHR_1-0_RVB-0M20_JP2-E080_LAMB93_D035_2014-01-01'",
     "output_type": "error",
     "traceback": [
      "\u001b[1;31m---------------------------------------------------------------------------\u001b[0m",
      "\u001b[1;31mFileNotFoundError\u001b[0m                         Traceback (most recent call last)",
      "Cell \u001b[1;32mIn[27], line 2\u001b[0m\n\u001b[0;32m      1\u001b[0m start_2 \u001b[38;5;241m=\u001b[39m time()\n\u001b[1;32m----> 2\u001b[0m \u001b[38;5;28;01mwith\u001b[39;00m \u001b[43mpy7zr\u001b[49m\u001b[38;5;241;43m.\u001b[39;49m\u001b[43mSevenZipFile\u001b[49m\u001b[43m(\u001b[49m\u001b[43mlocal_filename\u001b[49m\u001b[43m,\u001b[49m\u001b[43m \u001b[49m\u001b[43mmode\u001b[49m\u001b[38;5;241;43m=\u001b[39;49m\u001b[38;5;124;43m\"\u001b[39;49m\u001b[38;5;124;43mr\u001b[39;49m\u001b[38;5;124;43m\"\u001b[39;49m\u001b[43m)\u001b[49m \u001b[38;5;28;01mas\u001b[39;00m z:\n\u001b[0;32m      3\u001b[0m     z\u001b[38;5;241m.\u001b[39mextractall()\n\u001b[0;32m      4\u001b[0m \u001b[38;5;28mprint\u001b[39m(\u001b[38;5;124mf\u001b[39m\u001b[38;5;124m\"\u001b[39m\u001b[38;5;124mFile \u001b[39m\u001b[38;5;132;01m{\u001b[39;00mlocal_filename\u001b[38;5;132;01m}\u001b[39;00m\u001b[38;5;124m has been successfully extracted in \u001b[39m\u001b[38;5;132;01m{\u001b[39;00m\u001b[38;5;28mround\u001b[39m(time()\u001b[38;5;241m-\u001b[39mstart_2,\u001b[38;5;250m \u001b[39m\u001b[38;5;241m2\u001b[39m)\u001b[38;5;132;01m}\u001b[39;00m\u001b[38;5;124m sec.\u001b[39m\u001b[38;5;124m\"\u001b[39m)\n",
      "File \u001b[1;32m~\\.conda\\envs\\inrae_seg_env\\Lib\\site-packages\\py7zr\\py7zr.py:352\u001b[0m, in \u001b[0;36mSevenZipFile.__init__\u001b[1;34m(self, file, mode, filters, dereference, password, header_encryption, blocksize, mp)\u001b[0m\n\u001b[0;32m    350\u001b[0m \u001b[38;5;28mself\u001b[39m\u001b[38;5;241m.\u001b[39mfilename: \u001b[38;5;28mstr\u001b[39m \u001b[38;5;241m=\u001b[39m file\n\u001b[0;32m    351\u001b[0m \u001b[38;5;28;01mif\u001b[39;00m mode \u001b[38;5;241m==\u001b[39m \u001b[38;5;124m\"\u001b[39m\u001b[38;5;124mr\u001b[39m\u001b[38;5;124m\"\u001b[39m:\n\u001b[1;32m--> 352\u001b[0m     \u001b[38;5;28mself\u001b[39m\u001b[38;5;241m.\u001b[39mfp \u001b[38;5;241m=\u001b[39m \u001b[38;5;28mopen\u001b[39m(file, \u001b[38;5;124m\"\u001b[39m\u001b[38;5;124mrb\u001b[39m\u001b[38;5;124m\"\u001b[39m)\n\u001b[0;32m    353\u001b[0m \u001b[38;5;28;01melif\u001b[39;00m mode \u001b[38;5;241m==\u001b[39m \u001b[38;5;124m\"\u001b[39m\u001b[38;5;124mw\u001b[39m\u001b[38;5;124m\"\u001b[39m:\n\u001b[0;32m    354\u001b[0m     \u001b[38;5;28mself\u001b[39m\u001b[38;5;241m.\u001b[39mfp \u001b[38;5;241m=\u001b[39m \u001b[38;5;28mopen\u001b[39m(file, \u001b[38;5;124m\"\u001b[39m\u001b[38;5;124mw+b\u001b[39m\u001b[38;5;124m\"\u001b[39m)\n",
      "\u001b[1;31mFileNotFoundError\u001b[0m: [Errno 2] No such file or directory: 'donnees/BDORTHO/ORTHOHR_1-0_RVB-0M20_JP2-E080_LAMB93_D035_2014-01-01'"
     ]
    }
   ],
   "source": [
    "start_2 = time()\n",
    "with py7zr.SevenZipFile(local_filename, mode=\"r\") as z:\n",
    "    z.extractall()\n",
    "print(f\"File {local_filename} has been successfully extracted in {round(time()-start_2, 2)} sec.\")"
   ]
  },
  {
   "cell_type": "code",
   "execution_count": 31,
   "id": "29c1266a-f052-4e55-a975-a855175d6d4d",
   "metadata": {
    "collapsed": true,
    "jupyter": {
     "outputs_hidden": true
    },
    "tags": []
   },
   "outputs": [
    {
     "name": "stderr",
     "output_type": "stream",
     "text": [
      "100%|████████████████████████████████████████████████████████████████████████████████████| 2/2 [00:25<00:00, 12.51s/it]\n"
     ]
    },
    {
     "ename": "Bad7zFile",
     "evalue": "invalid header data",
     "output_type": "error",
     "traceback": [
      "\u001b[1;31m---------------------------------------------------------------------------\u001b[0m",
      "\u001b[1;31mBad7zFile\u001b[0m                                 Traceback (most recent call last)",
      "Cell \u001b[1;32mIn[31], line 7\u001b[0m\n\u001b[0;32m      5\u001b[0m         \u001b[38;5;28;01mwith\u001b[39;00m \u001b[38;5;28mopen\u001b[39m(fname, \u001b[38;5;124m'\u001b[39m\u001b[38;5;124mrb\u001b[39m\u001b[38;5;124m'\u001b[39m) \u001b[38;5;28;01mas\u001b[39;00m infile:        \u001b[38;5;66;03m# open in binary mode also\u001b[39;00m\n\u001b[0;32m      6\u001b[0m             outfile\u001b[38;5;241m.\u001b[39mwrite(infile\u001b[38;5;241m.\u001b[39mread())\n\u001b[1;32m----> 7\u001b[0m \u001b[38;5;28;01mwith\u001b[39;00m \u001b[43mpy7zr\u001b[49m\u001b[38;5;241;43m.\u001b[39;49m\u001b[43mSevenZipFile\u001b[49m\u001b[43m(\u001b[49m\u001b[38;5;124;43m\"\u001b[39;49m\u001b[38;5;124;43mresult.7z\u001b[39;49m\u001b[38;5;124;43m\"\u001b[39;49m\u001b[43m,\u001b[49m\u001b[43m \u001b[49m\u001b[38;5;124;43m\"\u001b[39;49m\u001b[38;5;124;43mr\u001b[39;49m\u001b[38;5;124;43m\"\u001b[39;49m\u001b[43m)\u001b[49m \u001b[38;5;28;01mas\u001b[39;00m archive:\n\u001b[0;32m      8\u001b[0m     archive\u001b[38;5;241m.\u001b[39mextractall()\n\u001b[0;32m      9\u001b[0m os\u001b[38;5;241m.\u001b[39munlink(\u001b[38;5;124m\"\u001b[39m\u001b[38;5;124mresult.7z\u001b[39m\u001b[38;5;124m\"\u001b[39m)\n",
      "File \u001b[1;32m~\\.conda\\envs\\inrae_seg_env\\Lib\\site-packages\\py7zr\\py7zr.py:407\u001b[0m, in \u001b[0;36mSevenZipFile.__init__\u001b[1;34m(self, file, mode, filters, dereference, password, header_encryption, blocksize, mp)\u001b[0m\n\u001b[0;32m    405\u001b[0m \u001b[38;5;28;01mexcept\u001b[39;00m \u001b[38;5;167;01mException\u001b[39;00m \u001b[38;5;28;01mas\u001b[39;00m e:\n\u001b[0;32m    406\u001b[0m     \u001b[38;5;28mself\u001b[39m\u001b[38;5;241m.\u001b[39m_fpclose()\n\u001b[1;32m--> 407\u001b[0m     \u001b[38;5;28;01mraise\u001b[39;00m e\n\u001b[0;32m    408\u001b[0m \u001b[38;5;28mself\u001b[39m\u001b[38;5;241m.\u001b[39m_dict: Dict[\u001b[38;5;28mstr\u001b[39m, IO[Any]] \u001b[38;5;241m=\u001b[39m {}\n\u001b[0;32m    409\u001b[0m \u001b[38;5;28mself\u001b[39m\u001b[38;5;241m.\u001b[39mdereference \u001b[38;5;241m=\u001b[39m dereference\n",
      "File \u001b[1;32m~\\.conda\\envs\\inrae_seg_env\\Lib\\site-packages\\py7zr\\py7zr.py:393\u001b[0m, in \u001b[0;36mSevenZipFile.__init__\u001b[1;34m(self, file, mode, filters, dereference, password, header_encryption, blocksize, mp)\u001b[0m\n\u001b[0;32m    391\u001b[0m \u001b[38;5;28;01mtry\u001b[39;00m:\n\u001b[0;32m    392\u001b[0m     \u001b[38;5;28;01mif\u001b[39;00m mode \u001b[38;5;241m==\u001b[39m \u001b[38;5;124m\"\u001b[39m\u001b[38;5;124mr\u001b[39m\u001b[38;5;124m\"\u001b[39m:\n\u001b[1;32m--> 393\u001b[0m         \u001b[38;5;28;43mself\u001b[39;49m\u001b[38;5;241;43m.\u001b[39;49m\u001b[43m_real_get_contents\u001b[49m\u001b[43m(\u001b[49m\u001b[43mpassword\u001b[49m\u001b[43m)\u001b[49m\n\u001b[0;32m    394\u001b[0m         \u001b[38;5;28mself\u001b[39m\u001b[38;5;241m.\u001b[39mfp\u001b[38;5;241m.\u001b[39mseek(\u001b[38;5;28mself\u001b[39m\u001b[38;5;241m.\u001b[39mafterheader)  \u001b[38;5;66;03m# seek into start of payload and prepare worker to extract\u001b[39;00m\n\u001b[0;32m    395\u001b[0m         \u001b[38;5;28mself\u001b[39m\u001b[38;5;241m.\u001b[39mworker \u001b[38;5;241m=\u001b[39m Worker(\u001b[38;5;28mself\u001b[39m\u001b[38;5;241m.\u001b[39mfiles, \u001b[38;5;28mself\u001b[39m\u001b[38;5;241m.\u001b[39mafterheader, \u001b[38;5;28mself\u001b[39m\u001b[38;5;241m.\u001b[39mheader, \u001b[38;5;28mself\u001b[39m\u001b[38;5;241m.\u001b[39mmp)\n",
      "File \u001b[1;32m~\\.conda\\envs\\inrae_seg_env\\Lib\\site-packages\\py7zr\\py7zr.py:433\u001b[0m, in \u001b[0;36mSevenZipFile._real_get_contents\u001b[1;34m(self, password)\u001b[0m\n\u001b[0;32m    431\u001b[0m buffer \u001b[38;5;241m=\u001b[39m io\u001b[38;5;241m.\u001b[39mBytesIO(\u001b[38;5;28mself\u001b[39m\u001b[38;5;241m.\u001b[39mfp\u001b[38;5;241m.\u001b[39mread(\u001b[38;5;28mself\u001b[39m\u001b[38;5;241m.\u001b[39msig_header\u001b[38;5;241m.\u001b[39mnextheadersize))\n\u001b[0;32m    432\u001b[0m \u001b[38;5;28;01mif\u001b[39;00m \u001b[38;5;28mself\u001b[39m\u001b[38;5;241m.\u001b[39msig_header\u001b[38;5;241m.\u001b[39mnextheadercrc \u001b[38;5;241m!=\u001b[39m calculate_crc32(buffer\u001b[38;5;241m.\u001b[39mgetvalue()):\n\u001b[1;32m--> 433\u001b[0m     \u001b[38;5;28;01mraise\u001b[39;00m Bad7zFile(\u001b[38;5;124m\"\u001b[39m\u001b[38;5;124minvalid header data\u001b[39m\u001b[38;5;124m\"\u001b[39m)\n\u001b[0;32m    434\u001b[0m header \u001b[38;5;241m=\u001b[39m Header\u001b[38;5;241m.\u001b[39mretrieve(\u001b[38;5;28mself\u001b[39m\u001b[38;5;241m.\u001b[39mfp, buffer, \u001b[38;5;28mself\u001b[39m\u001b[38;5;241m.\u001b[39mafterheader, password)\n\u001b[0;32m    435\u001b[0m \u001b[38;5;28;01mif\u001b[39;00m header \u001b[38;5;129;01mis\u001b[39;00m \u001b[38;5;28;01mNone\u001b[39;00m:\n",
      "\u001b[1;31mBad7zFile\u001b[0m: invalid header data"
     ]
    }
   ],
   "source": [
    "import py7zr\n",
    "filenames = ['donnees/BDORTHO/ORTHOHR_1-0_RVB-0M20_JP2-E080_LAMB93_D035_2014-01-01.7z.001', 'donnees/BDORTHO/ORTHOHR_1-0_RVB-0M20_JP2-E080_LAMB93_D035_2014-01-01.7z.002']\n",
    "with open('result.7z', 'ab') as outfile:  # append in binary mode\n",
    "    for fname in tqdm(filenames):\n",
    "        with open(fname, 'rb') as infile:        # open in binary mode also\n",
    "            outfile.write(infile.read())"
   ]
  },
  {
   "cell_type": "code",
   "execution_count": 32,
   "id": "95af79df-bbf4-4283-9c51-dc45383d403f",
   "metadata": {},
   "outputs": [
    {
     "ename": "Bad7zFile",
     "evalue": "invalid header data",
     "output_type": "error",
     "traceback": [
      "\u001b[1;31m---------------------------------------------------------------------------\u001b[0m",
      "\u001b[1;31mBad7zFile\u001b[0m                                 Traceback (most recent call last)",
      "Cell \u001b[1;32mIn[32], line 1\u001b[0m\n\u001b[1;32m----> 1\u001b[0m \u001b[38;5;28;01mwith\u001b[39;00m \u001b[43mpy7zr\u001b[49m\u001b[38;5;241;43m.\u001b[39;49m\u001b[43mSevenZipFile\u001b[49m\u001b[43m(\u001b[49m\u001b[38;5;124;43m\"\u001b[39;49m\u001b[38;5;124;43mresult.7z\u001b[39;49m\u001b[38;5;124;43m\"\u001b[39;49m\u001b[43m,\u001b[49m\u001b[43m \u001b[49m\u001b[38;5;124;43m\"\u001b[39;49m\u001b[38;5;124;43mr\u001b[39;49m\u001b[38;5;124;43m\"\u001b[39;49m\u001b[43m)\u001b[49m \u001b[38;5;28;01mas\u001b[39;00m archive:\n\u001b[0;32m      2\u001b[0m     archive\u001b[38;5;241m.\u001b[39mextractall()\n\u001b[0;32m      3\u001b[0m os\u001b[38;5;241m.\u001b[39munlink(\u001b[38;5;124m\"\u001b[39m\u001b[38;5;124mresult.7z\u001b[39m\u001b[38;5;124m\"\u001b[39m)\n",
      "File \u001b[1;32m~\\.conda\\envs\\inrae_seg_env\\Lib\\site-packages\\py7zr\\py7zr.py:407\u001b[0m, in \u001b[0;36mSevenZipFile.__init__\u001b[1;34m(self, file, mode, filters, dereference, password, header_encryption, blocksize, mp)\u001b[0m\n\u001b[0;32m    405\u001b[0m \u001b[38;5;28;01mexcept\u001b[39;00m \u001b[38;5;167;01mException\u001b[39;00m \u001b[38;5;28;01mas\u001b[39;00m e:\n\u001b[0;32m    406\u001b[0m     \u001b[38;5;28mself\u001b[39m\u001b[38;5;241m.\u001b[39m_fpclose()\n\u001b[1;32m--> 407\u001b[0m     \u001b[38;5;28;01mraise\u001b[39;00m e\n\u001b[0;32m    408\u001b[0m \u001b[38;5;28mself\u001b[39m\u001b[38;5;241m.\u001b[39m_dict: Dict[\u001b[38;5;28mstr\u001b[39m, IO[Any]] \u001b[38;5;241m=\u001b[39m {}\n\u001b[0;32m    409\u001b[0m \u001b[38;5;28mself\u001b[39m\u001b[38;5;241m.\u001b[39mdereference \u001b[38;5;241m=\u001b[39m dereference\n",
      "File \u001b[1;32m~\\.conda\\envs\\inrae_seg_env\\Lib\\site-packages\\py7zr\\py7zr.py:393\u001b[0m, in \u001b[0;36mSevenZipFile.__init__\u001b[1;34m(self, file, mode, filters, dereference, password, header_encryption, blocksize, mp)\u001b[0m\n\u001b[0;32m    391\u001b[0m \u001b[38;5;28;01mtry\u001b[39;00m:\n\u001b[0;32m    392\u001b[0m     \u001b[38;5;28;01mif\u001b[39;00m mode \u001b[38;5;241m==\u001b[39m \u001b[38;5;124m\"\u001b[39m\u001b[38;5;124mr\u001b[39m\u001b[38;5;124m\"\u001b[39m:\n\u001b[1;32m--> 393\u001b[0m         \u001b[38;5;28;43mself\u001b[39;49m\u001b[38;5;241;43m.\u001b[39;49m\u001b[43m_real_get_contents\u001b[49m\u001b[43m(\u001b[49m\u001b[43mpassword\u001b[49m\u001b[43m)\u001b[49m\n\u001b[0;32m    394\u001b[0m         \u001b[38;5;28mself\u001b[39m\u001b[38;5;241m.\u001b[39mfp\u001b[38;5;241m.\u001b[39mseek(\u001b[38;5;28mself\u001b[39m\u001b[38;5;241m.\u001b[39mafterheader)  \u001b[38;5;66;03m# seek into start of payload and prepare worker to extract\u001b[39;00m\n\u001b[0;32m    395\u001b[0m         \u001b[38;5;28mself\u001b[39m\u001b[38;5;241m.\u001b[39mworker \u001b[38;5;241m=\u001b[39m Worker(\u001b[38;5;28mself\u001b[39m\u001b[38;5;241m.\u001b[39mfiles, \u001b[38;5;28mself\u001b[39m\u001b[38;5;241m.\u001b[39mafterheader, \u001b[38;5;28mself\u001b[39m\u001b[38;5;241m.\u001b[39mheader, \u001b[38;5;28mself\u001b[39m\u001b[38;5;241m.\u001b[39mmp)\n",
      "File \u001b[1;32m~\\.conda\\envs\\inrae_seg_env\\Lib\\site-packages\\py7zr\\py7zr.py:433\u001b[0m, in \u001b[0;36mSevenZipFile._real_get_contents\u001b[1;34m(self, password)\u001b[0m\n\u001b[0;32m    431\u001b[0m buffer \u001b[38;5;241m=\u001b[39m io\u001b[38;5;241m.\u001b[39mBytesIO(\u001b[38;5;28mself\u001b[39m\u001b[38;5;241m.\u001b[39mfp\u001b[38;5;241m.\u001b[39mread(\u001b[38;5;28mself\u001b[39m\u001b[38;5;241m.\u001b[39msig_header\u001b[38;5;241m.\u001b[39mnextheadersize))\n\u001b[0;32m    432\u001b[0m \u001b[38;5;28;01mif\u001b[39;00m \u001b[38;5;28mself\u001b[39m\u001b[38;5;241m.\u001b[39msig_header\u001b[38;5;241m.\u001b[39mnextheadercrc \u001b[38;5;241m!=\u001b[39m calculate_crc32(buffer\u001b[38;5;241m.\u001b[39mgetvalue()):\n\u001b[1;32m--> 433\u001b[0m     \u001b[38;5;28;01mraise\u001b[39;00m Bad7zFile(\u001b[38;5;124m\"\u001b[39m\u001b[38;5;124minvalid header data\u001b[39m\u001b[38;5;124m\"\u001b[39m)\n\u001b[0;32m    434\u001b[0m header \u001b[38;5;241m=\u001b[39m Header\u001b[38;5;241m.\u001b[39mretrieve(\u001b[38;5;28mself\u001b[39m\u001b[38;5;241m.\u001b[39mfp, buffer, \u001b[38;5;28mself\u001b[39m\u001b[38;5;241m.\u001b[39mafterheader, password)\n\u001b[0;32m    435\u001b[0m \u001b[38;5;28;01mif\u001b[39;00m header \u001b[38;5;129;01mis\u001b[39;00m \u001b[38;5;28;01mNone\u001b[39;00m:\n",
      "\u001b[1;31mBad7zFile\u001b[0m: invalid header data"
     ]
    }
   ],
   "source": [
    "with py7zr.SevenZipFile(\"result.7z\", \"r\") as archive:\n",
    "    archive.extractall()\n",
    "os.unlink(\"result.7z\")"
   ]
  },
  {
   "cell_type": "raw",
   "id": "76906aca-4e13-483d-bd9b-e0f0d27c8fae",
   "metadata": {},
   "source": [
    "year = 2014\n",
    "dept = 35\n",
    "IRC = False\n",
    "res = 20\n",
    "idx = 3\n",
    "idx = str(idx).zfill(3)"
   ]
  },
  {
   "cell_type": "raw",
   "id": "73b9f383-ae2c-4678-b284-796ea1243973",
   "metadata": {},
   "source": [
    "url = base_url + f\"ORTHOHR-JP2_PACK_D0{dept}_{year}-01-01$ORTHOHR_1-0_RVB-0M{res}_JP2-E080_LAMB93_D0{dept}_{year}-01-01/file/ORTHOHR_1-0_RVB-0M{res}_JP2-E080_LAMB93_D0{dept}_{year}-01-01.7z.{idx}\"\n",
    "local_filename = f\"donnees/BDORTHO/ORTHOHR_1-0_RVB-0M{res}_JP2-E080_LAMB93_D0{dept}_{year}-01-01.7z.{idx}\""
   ]
  },
  {
   "cell_type": "raw",
   "id": "ee4ff877-ae59-43f8-a69f-a124ff84c773",
   "metadata": {},
   "source": [
    "local_filename"
   ]
  },
  {
   "cell_type": "raw",
   "id": "a7d1439a-320e-4e75-adf1-e2b6939185e8",
   "metadata": {},
   "source": [
    "start = time()\n",
    "response = requests.get(url)\n",
    "print(f'response: {response.status_code}')\n",
    "if response.status_code == 200:\n",
    "    with open(local_filename, \"wb\") as file:\n",
    "        file.write(response.content)\n",
    "    print(f\"File downloaded as {local_filename} in {round(time()-start, 2)} sec\")\n"
   ]
  },
  {
   "cell_type": "code",
   "execution_count": 10,
   "id": "716a4dfa-647e-466e-9c70-d2123201d71b",
   "metadata": {},
   "outputs": [
    {
     "name": "stderr",
     "output_type": "stream",
     "text": [
      "'cat' n'est pas reconnu en tant que commande interne\n",
      "ou externe, un programme ex‚cutable ou un fichier de commandes.\n"
     ]
    }
   ],
   "source": [
    "!cat donnees/BDORTHO/ORTHOHR_1-0_RVB-0M20_JP2-E080_LAMB93_D035_2014-01-01.7z* > donnees/BDORTHO/ORTHOHR_1-0_RVB-0M20_JP2-E080_LAMB93_D035_2014-01-01.7z"
   ]
  },
  {
   "cell_type": "code",
   "execution_count": 22,
   "id": "1f46dc4e-ac74-4e5f-8c8c-5e62f73d2883",
   "metadata": {},
   "outputs": [],
   "source": [
    "import shutil\n",
    "import glob\n",
    "\n",
    "with open('donnees/BDORTHO/ORTHOHR_1-0_RVB-0M20_JP2-E080_LAMB93_D035_2014-01-01.7z','wb') as wfd:\n",
    "    for f in glob.glob('donnees/BDORTHO/ORTHOHR_1-0_RVB-0M20_JP2-E080_LAMB93_D035_2014-01-01.7z.*'): # Search for all files matching searchstring\n",
    "        with open(f,'rb') as fd:\n",
    "            shutil.copyfileobj(fd, wfd) # Concatinate"
   ]
  },
  {
   "cell_type": "code",
   "execution_count": 33,
   "id": "59bf4eb2-acfc-4b26-90c0-a7a7e01d9956",
   "metadata": {},
   "outputs": [
    {
     "name": "stdout",
     "output_type": "stream",
     "text": [
      "Requirement already satisfied: multivolumefile in c:\\users\\adelabrosse\\.conda\\envs\\inrae_seg_env\\lib\\site-packages (0.2.3)"
     ]
    },
    {
     "name": "stderr",
     "output_type": "stream",
     "text": [
      "DEPRECATION: pytorch-lightning 1.6.5 has a non-standard dependency specifier torch>=1.8.*. pip 23.3 will enforce this behaviour change. A possible replacement is to upgrade to a newer version of pytorch-lightning or contact the author to suggest that they release a version with a conforming dependency specifiers. Discussion can be found at https://github.com/pypa/pip/issues/12063\n"
     ]
    },
    {
     "name": "stdout",
     "output_type": "stream",
     "text": [
      "\n"
     ]
    }
   ],
   "source": [
    "!pip install multivolumefile"
   ]
  },
  {
   "cell_type": "code",
   "execution_count": 47,
   "id": "f5df62e3-c91a-4b36-932c-caa8a11484db",
   "metadata": {},
   "outputs": [],
   "source": [
    "import py7zr\n",
    "filenames = ['donnees/BDORTHO/ORTHOHR_1-0_RVB-0M20_JP2-E080_RGAF09UTM20_D972_2022-01-01.7z.001', \n",
    "             'donnees/BDORTHO/ORTHOHR_1-0_RVB-0M20_JP2-E080_RGAF09UTM20_D972_2022-01-01.7z.002']\n",
    "with open('donnees/BDORTHO/result_martinique.7z', 'ab') as outfile:  # append in binary mode\n",
    "    for fname in filenames:\n",
    "        with open(fname, 'rb') as infile:        # open in binary mode also\n",
    "            outfile.write(infile.read())\n"
   ]
  },
  {
   "cell_type": "code",
   "execution_count": 50,
   "id": "0d375943-9b3a-458e-b8c3-c87eea69069e",
   "metadata": {},
   "outputs": [
    {
     "ename": "Bad7zFile",
     "evalue": "invalid header data",
     "output_type": "error",
     "traceback": [
      "\u001b[1;31m---------------------------------------------------------------------------\u001b[0m",
      "\u001b[1;31mBad7zFile\u001b[0m                                 Traceback (most recent call last)",
      "Cell \u001b[1;32mIn[50], line 1\u001b[0m\n\u001b[1;32m----> 1\u001b[0m \u001b[38;5;28;01mwith\u001b[39;00m \u001b[43mpy7zr\u001b[49m\u001b[38;5;241;43m.\u001b[39;49m\u001b[43mSevenZipFile\u001b[49m\u001b[43m(\u001b[49m\u001b[38;5;124;43m\"\u001b[39;49m\u001b[38;5;124;43mdonnees/BDORTHO/result_martinique.7z\u001b[39;49m\u001b[38;5;124;43m\"\u001b[39;49m\u001b[43m,\u001b[49m\u001b[43m \u001b[49m\u001b[38;5;124;43m\"\u001b[39;49m\u001b[38;5;124;43mr\u001b[39;49m\u001b[38;5;124;43m\"\u001b[39;49m\u001b[43m)\u001b[49m \u001b[38;5;28;01mas\u001b[39;00m archive:\n\u001b[0;32m      2\u001b[0m     archive\u001b[38;5;241m.\u001b[39mextractall()\n\u001b[0;32m      3\u001b[0m os\u001b[38;5;241m.\u001b[39munlink(\u001b[38;5;124m\"\u001b[39m\u001b[38;5;124mdonnees/BDORTHO/result_martinique.7z\u001b[39m\u001b[38;5;124m\"\u001b[39m)\n",
      "File \u001b[1;32m~\\.conda\\envs\\inrae_seg_env\\Lib\\site-packages\\py7zr\\py7zr.py:407\u001b[0m, in \u001b[0;36mSevenZipFile.__init__\u001b[1;34m(self, file, mode, filters, dereference, password, header_encryption, blocksize, mp)\u001b[0m\n\u001b[0;32m    405\u001b[0m \u001b[38;5;28;01mexcept\u001b[39;00m \u001b[38;5;167;01mException\u001b[39;00m \u001b[38;5;28;01mas\u001b[39;00m e:\n\u001b[0;32m    406\u001b[0m     \u001b[38;5;28mself\u001b[39m\u001b[38;5;241m.\u001b[39m_fpclose()\n\u001b[1;32m--> 407\u001b[0m     \u001b[38;5;28;01mraise\u001b[39;00m e\n\u001b[0;32m    408\u001b[0m \u001b[38;5;28mself\u001b[39m\u001b[38;5;241m.\u001b[39m_dict: Dict[\u001b[38;5;28mstr\u001b[39m, IO[Any]] \u001b[38;5;241m=\u001b[39m {}\n\u001b[0;32m    409\u001b[0m \u001b[38;5;28mself\u001b[39m\u001b[38;5;241m.\u001b[39mdereference \u001b[38;5;241m=\u001b[39m dereference\n",
      "File \u001b[1;32m~\\.conda\\envs\\inrae_seg_env\\Lib\\site-packages\\py7zr\\py7zr.py:393\u001b[0m, in \u001b[0;36mSevenZipFile.__init__\u001b[1;34m(self, file, mode, filters, dereference, password, header_encryption, blocksize, mp)\u001b[0m\n\u001b[0;32m    391\u001b[0m \u001b[38;5;28;01mtry\u001b[39;00m:\n\u001b[0;32m    392\u001b[0m     \u001b[38;5;28;01mif\u001b[39;00m mode \u001b[38;5;241m==\u001b[39m \u001b[38;5;124m\"\u001b[39m\u001b[38;5;124mr\u001b[39m\u001b[38;5;124m\"\u001b[39m:\n\u001b[1;32m--> 393\u001b[0m         \u001b[38;5;28;43mself\u001b[39;49m\u001b[38;5;241;43m.\u001b[39;49m\u001b[43m_real_get_contents\u001b[49m\u001b[43m(\u001b[49m\u001b[43mpassword\u001b[49m\u001b[43m)\u001b[49m\n\u001b[0;32m    394\u001b[0m         \u001b[38;5;28mself\u001b[39m\u001b[38;5;241m.\u001b[39mfp\u001b[38;5;241m.\u001b[39mseek(\u001b[38;5;28mself\u001b[39m\u001b[38;5;241m.\u001b[39mafterheader)  \u001b[38;5;66;03m# seek into start of payload and prepare worker to extract\u001b[39;00m\n\u001b[0;32m    395\u001b[0m         \u001b[38;5;28mself\u001b[39m\u001b[38;5;241m.\u001b[39mworker \u001b[38;5;241m=\u001b[39m Worker(\u001b[38;5;28mself\u001b[39m\u001b[38;5;241m.\u001b[39mfiles, \u001b[38;5;28mself\u001b[39m\u001b[38;5;241m.\u001b[39mafterheader, \u001b[38;5;28mself\u001b[39m\u001b[38;5;241m.\u001b[39mheader, \u001b[38;5;28mself\u001b[39m\u001b[38;5;241m.\u001b[39mmp)\n",
      "File \u001b[1;32m~\\.conda\\envs\\inrae_seg_env\\Lib\\site-packages\\py7zr\\py7zr.py:433\u001b[0m, in \u001b[0;36mSevenZipFile._real_get_contents\u001b[1;34m(self, password)\u001b[0m\n\u001b[0;32m    431\u001b[0m buffer \u001b[38;5;241m=\u001b[39m io\u001b[38;5;241m.\u001b[39mBytesIO(\u001b[38;5;28mself\u001b[39m\u001b[38;5;241m.\u001b[39mfp\u001b[38;5;241m.\u001b[39mread(\u001b[38;5;28mself\u001b[39m\u001b[38;5;241m.\u001b[39msig_header\u001b[38;5;241m.\u001b[39mnextheadersize))\n\u001b[0;32m    432\u001b[0m \u001b[38;5;28;01mif\u001b[39;00m \u001b[38;5;28mself\u001b[39m\u001b[38;5;241m.\u001b[39msig_header\u001b[38;5;241m.\u001b[39mnextheadercrc \u001b[38;5;241m!=\u001b[39m calculate_crc32(buffer\u001b[38;5;241m.\u001b[39mgetvalue()):\n\u001b[1;32m--> 433\u001b[0m     \u001b[38;5;28;01mraise\u001b[39;00m Bad7zFile(\u001b[38;5;124m\"\u001b[39m\u001b[38;5;124minvalid header data\u001b[39m\u001b[38;5;124m\"\u001b[39m)\n\u001b[0;32m    434\u001b[0m header \u001b[38;5;241m=\u001b[39m Header\u001b[38;5;241m.\u001b[39mretrieve(\u001b[38;5;28mself\u001b[39m\u001b[38;5;241m.\u001b[39mfp, buffer, \u001b[38;5;28mself\u001b[39m\u001b[38;5;241m.\u001b[39mafterheader, password)\n\u001b[0;32m    435\u001b[0m \u001b[38;5;28;01mif\u001b[39;00m header \u001b[38;5;129;01mis\u001b[39;00m \u001b[38;5;28;01mNone\u001b[39;00m:\n",
      "\u001b[1;31mBad7zFile\u001b[0m: invalid header data"
     ]
    }
   ],
   "source": [
    "with py7zr.SevenZipFile(\"donnees/BDORTHO/result_martinique.7z\", \"r\") as archive:\n",
    "    archive.extractall()\n",
    "os.unlink(\"donnees/BDORTHO/result_martinique.7z\")"
   ]
  },
  {
   "cell_type": "code",
   "execution_count": 51,
   "id": "ecb98804-8bd8-47df-82e6-99fefd494ed0",
   "metadata": {},
   "outputs": [
    {
     "ename": "Bad7zFile",
     "evalue": "invalid header data",
     "output_type": "error",
     "traceback": [
      "\u001b[1;31m---------------------------------------------------------------------------\u001b[0m",
      "\u001b[1;31mBad7zFile\u001b[0m                                 Traceback (most recent call last)",
      "Cell \u001b[1;32mIn[51], line 4\u001b[0m\n\u001b[0;32m      2\u001b[0m \u001b[38;5;28;01mimport\u001b[39;00m \u001b[38;5;21;01mpy7zr\u001b[39;00m\n\u001b[0;32m      3\u001b[0m \u001b[38;5;28;01mwith\u001b[39;00m multivolumefile\u001b[38;5;241m.\u001b[39mopen(\u001b[38;5;124m'\u001b[39m\u001b[38;5;124mdonnees/BDORTHO/ORTHOHR_1-0_RVB-0M20_JP2-E080_RGAF09UTM20_D972_2022-01-01.7z\u001b[39m\u001b[38;5;124m'\u001b[39m, mode\u001b[38;5;241m=\u001b[39m\u001b[38;5;124m'\u001b[39m\u001b[38;5;124mrb\u001b[39m\u001b[38;5;124m'\u001b[39m) \u001b[38;5;28;01mas\u001b[39;00m target_archive:\n\u001b[1;32m----> 4\u001b[0m     \u001b[38;5;28;01mwith\u001b[39;00m \u001b[43mpy7zr\u001b[49m\u001b[38;5;241;43m.\u001b[39;49m\u001b[43mSevenZipFile\u001b[49m\u001b[43m(\u001b[49m\u001b[43mtarget_archive\u001b[49m\u001b[43m,\u001b[49m\u001b[43m \u001b[49m\u001b[38;5;124;43m'\u001b[39;49m\u001b[38;5;124;43mr\u001b[39;49m\u001b[38;5;124;43m'\u001b[39;49m\u001b[43m)\u001b[49m \u001b[38;5;28;01mas\u001b[39;00m archive:\n\u001b[0;32m      5\u001b[0m         archive\u001b[38;5;241m.\u001b[39mextractall()\n",
      "File \u001b[1;32m~\\.conda\\envs\\inrae_seg_env\\Lib\\site-packages\\py7zr\\py7zr.py:407\u001b[0m, in \u001b[0;36mSevenZipFile.__init__\u001b[1;34m(self, file, mode, filters, dereference, password, header_encryption, blocksize, mp)\u001b[0m\n\u001b[0;32m    405\u001b[0m \u001b[38;5;28;01mexcept\u001b[39;00m \u001b[38;5;167;01mException\u001b[39;00m \u001b[38;5;28;01mas\u001b[39;00m e:\n\u001b[0;32m    406\u001b[0m     \u001b[38;5;28mself\u001b[39m\u001b[38;5;241m.\u001b[39m_fpclose()\n\u001b[1;32m--> 407\u001b[0m     \u001b[38;5;28;01mraise\u001b[39;00m e\n\u001b[0;32m    408\u001b[0m \u001b[38;5;28mself\u001b[39m\u001b[38;5;241m.\u001b[39m_dict: Dict[\u001b[38;5;28mstr\u001b[39m, IO[Any]] \u001b[38;5;241m=\u001b[39m {}\n\u001b[0;32m    409\u001b[0m \u001b[38;5;28mself\u001b[39m\u001b[38;5;241m.\u001b[39mdereference \u001b[38;5;241m=\u001b[39m dereference\n",
      "File \u001b[1;32m~\\.conda\\envs\\inrae_seg_env\\Lib\\site-packages\\py7zr\\py7zr.py:393\u001b[0m, in \u001b[0;36mSevenZipFile.__init__\u001b[1;34m(self, file, mode, filters, dereference, password, header_encryption, blocksize, mp)\u001b[0m\n\u001b[0;32m    391\u001b[0m \u001b[38;5;28;01mtry\u001b[39;00m:\n\u001b[0;32m    392\u001b[0m     \u001b[38;5;28;01mif\u001b[39;00m mode \u001b[38;5;241m==\u001b[39m \u001b[38;5;124m\"\u001b[39m\u001b[38;5;124mr\u001b[39m\u001b[38;5;124m\"\u001b[39m:\n\u001b[1;32m--> 393\u001b[0m         \u001b[38;5;28;43mself\u001b[39;49m\u001b[38;5;241;43m.\u001b[39;49m\u001b[43m_real_get_contents\u001b[49m\u001b[43m(\u001b[49m\u001b[43mpassword\u001b[49m\u001b[43m)\u001b[49m\n\u001b[0;32m    394\u001b[0m         \u001b[38;5;28mself\u001b[39m\u001b[38;5;241m.\u001b[39mfp\u001b[38;5;241m.\u001b[39mseek(\u001b[38;5;28mself\u001b[39m\u001b[38;5;241m.\u001b[39mafterheader)  \u001b[38;5;66;03m# seek into start of payload and prepare worker to extract\u001b[39;00m\n\u001b[0;32m    395\u001b[0m         \u001b[38;5;28mself\u001b[39m\u001b[38;5;241m.\u001b[39mworker \u001b[38;5;241m=\u001b[39m Worker(\u001b[38;5;28mself\u001b[39m\u001b[38;5;241m.\u001b[39mfiles, \u001b[38;5;28mself\u001b[39m\u001b[38;5;241m.\u001b[39mafterheader, \u001b[38;5;28mself\u001b[39m\u001b[38;5;241m.\u001b[39mheader, \u001b[38;5;28mself\u001b[39m\u001b[38;5;241m.\u001b[39mmp)\n",
      "File \u001b[1;32m~\\.conda\\envs\\inrae_seg_env\\Lib\\site-packages\\py7zr\\py7zr.py:433\u001b[0m, in \u001b[0;36mSevenZipFile._real_get_contents\u001b[1;34m(self, password)\u001b[0m\n\u001b[0;32m    431\u001b[0m buffer \u001b[38;5;241m=\u001b[39m io\u001b[38;5;241m.\u001b[39mBytesIO(\u001b[38;5;28mself\u001b[39m\u001b[38;5;241m.\u001b[39mfp\u001b[38;5;241m.\u001b[39mread(\u001b[38;5;28mself\u001b[39m\u001b[38;5;241m.\u001b[39msig_header\u001b[38;5;241m.\u001b[39mnextheadersize))\n\u001b[0;32m    432\u001b[0m \u001b[38;5;28;01mif\u001b[39;00m \u001b[38;5;28mself\u001b[39m\u001b[38;5;241m.\u001b[39msig_header\u001b[38;5;241m.\u001b[39mnextheadercrc \u001b[38;5;241m!=\u001b[39m calculate_crc32(buffer\u001b[38;5;241m.\u001b[39mgetvalue()):\n\u001b[1;32m--> 433\u001b[0m     \u001b[38;5;28;01mraise\u001b[39;00m Bad7zFile(\u001b[38;5;124m\"\u001b[39m\u001b[38;5;124minvalid header data\u001b[39m\u001b[38;5;124m\"\u001b[39m)\n\u001b[0;32m    434\u001b[0m header \u001b[38;5;241m=\u001b[39m Header\u001b[38;5;241m.\u001b[39mretrieve(\u001b[38;5;28mself\u001b[39m\u001b[38;5;241m.\u001b[39mfp, buffer, \u001b[38;5;28mself\u001b[39m\u001b[38;5;241m.\u001b[39mafterheader, password)\n\u001b[0;32m    435\u001b[0m \u001b[38;5;28;01mif\u001b[39;00m header \u001b[38;5;129;01mis\u001b[39;00m \u001b[38;5;28;01mNone\u001b[39;00m:\n",
      "\u001b[1;31mBad7zFile\u001b[0m: invalid header data"
     ]
    }
   ],
   "source": [
    "import multivolumefile\n",
    "import py7zr\n",
    "with multivolumefile.open('donnees/BDORTHO/ORTHOHR_1-0_RVB-0M20_JP2-E080_RGAF09UTM20_D972_2022-01-01.7z', mode='rb') as target_archive:\n",
    "    with py7zr.SevenZipFile(target_archive, 'r') as archive:\n",
    "        archive.extractall()"
   ]
  },
  {
   "cell_type": "code",
   "execution_count": 38,
   "id": "6408f1b2-8029-41b2-9502-4b3695b7fcf9",
   "metadata": {},
   "outputs": [
    {
     "ename": "Bad7zFile",
     "evalue": "invalid header data",
     "output_type": "error",
     "traceback": [
      "\u001b[1;31m---------------------------------------------------------------------------\u001b[0m",
      "\u001b[1;31mBad7zFile\u001b[0m                                 Traceback (most recent call last)",
      "Cell \u001b[1;32mIn[38], line 19\u001b[0m\n\u001b[0;32m     17\u001b[0m \u001b[38;5;66;03m# Iterate through the input files and extract them to the output directory\u001b[39;00m\n\u001b[0;32m     18\u001b[0m \u001b[38;5;28;01mfor\u001b[39;00m input_file \u001b[38;5;129;01min\u001b[39;00m input_files:\n\u001b[1;32m---> 19\u001b[0m     \u001b[38;5;28;01mwith\u001b[39;00m \u001b[43mpy7zr\u001b[49m\u001b[38;5;241;43m.\u001b[39;49m\u001b[43mSevenZipFile\u001b[49m\u001b[43m(\u001b[49m\u001b[43minput_file\u001b[49m\u001b[43m,\u001b[49m\u001b[43m \u001b[49m\u001b[43mmode\u001b[49m\u001b[38;5;241;43m=\u001b[39;49m\u001b[38;5;124;43m'\u001b[39;49m\u001b[38;5;124;43mr\u001b[39;49m\u001b[38;5;124;43m'\u001b[39;49m\u001b[43m)\u001b[49m \u001b[38;5;28;01mas\u001b[39;00m archive:\n\u001b[0;32m     20\u001b[0m         archive\u001b[38;5;241m.\u001b[39mextractall(output_directory)\n\u001b[0;32m     22\u001b[0m \u001b[38;5;28mprint\u001b[39m(\u001b[38;5;124m\"\u001b[39m\u001b[38;5;124mExtraction complete.\u001b[39m\u001b[38;5;124m\"\u001b[39m)\n",
      "File \u001b[1;32m~\\.conda\\envs\\inrae_seg_env\\Lib\\site-packages\\py7zr\\py7zr.py:407\u001b[0m, in \u001b[0;36mSevenZipFile.__init__\u001b[1;34m(self, file, mode, filters, dereference, password, header_encryption, blocksize, mp)\u001b[0m\n\u001b[0;32m    405\u001b[0m \u001b[38;5;28;01mexcept\u001b[39;00m \u001b[38;5;167;01mException\u001b[39;00m \u001b[38;5;28;01mas\u001b[39;00m e:\n\u001b[0;32m    406\u001b[0m     \u001b[38;5;28mself\u001b[39m\u001b[38;5;241m.\u001b[39m_fpclose()\n\u001b[1;32m--> 407\u001b[0m     \u001b[38;5;28;01mraise\u001b[39;00m e\n\u001b[0;32m    408\u001b[0m \u001b[38;5;28mself\u001b[39m\u001b[38;5;241m.\u001b[39m_dict: Dict[\u001b[38;5;28mstr\u001b[39m, IO[Any]] \u001b[38;5;241m=\u001b[39m {}\n\u001b[0;32m    409\u001b[0m \u001b[38;5;28mself\u001b[39m\u001b[38;5;241m.\u001b[39mdereference \u001b[38;5;241m=\u001b[39m dereference\n",
      "File \u001b[1;32m~\\.conda\\envs\\inrae_seg_env\\Lib\\site-packages\\py7zr\\py7zr.py:393\u001b[0m, in \u001b[0;36mSevenZipFile.__init__\u001b[1;34m(self, file, mode, filters, dereference, password, header_encryption, blocksize, mp)\u001b[0m\n\u001b[0;32m    391\u001b[0m \u001b[38;5;28;01mtry\u001b[39;00m:\n\u001b[0;32m    392\u001b[0m     \u001b[38;5;28;01mif\u001b[39;00m mode \u001b[38;5;241m==\u001b[39m \u001b[38;5;124m\"\u001b[39m\u001b[38;5;124mr\u001b[39m\u001b[38;5;124m\"\u001b[39m:\n\u001b[1;32m--> 393\u001b[0m         \u001b[38;5;28;43mself\u001b[39;49m\u001b[38;5;241;43m.\u001b[39;49m\u001b[43m_real_get_contents\u001b[49m\u001b[43m(\u001b[49m\u001b[43mpassword\u001b[49m\u001b[43m)\u001b[49m\n\u001b[0;32m    394\u001b[0m         \u001b[38;5;28mself\u001b[39m\u001b[38;5;241m.\u001b[39mfp\u001b[38;5;241m.\u001b[39mseek(\u001b[38;5;28mself\u001b[39m\u001b[38;5;241m.\u001b[39mafterheader)  \u001b[38;5;66;03m# seek into start of payload and prepare worker to extract\u001b[39;00m\n\u001b[0;32m    395\u001b[0m         \u001b[38;5;28mself\u001b[39m\u001b[38;5;241m.\u001b[39mworker \u001b[38;5;241m=\u001b[39m Worker(\u001b[38;5;28mself\u001b[39m\u001b[38;5;241m.\u001b[39mfiles, \u001b[38;5;28mself\u001b[39m\u001b[38;5;241m.\u001b[39mafterheader, \u001b[38;5;28mself\u001b[39m\u001b[38;5;241m.\u001b[39mheader, \u001b[38;5;28mself\u001b[39m\u001b[38;5;241m.\u001b[39mmp)\n",
      "File \u001b[1;32m~\\.conda\\envs\\inrae_seg_env\\Lib\\site-packages\\py7zr\\py7zr.py:433\u001b[0m, in \u001b[0;36mSevenZipFile._real_get_contents\u001b[1;34m(self, password)\u001b[0m\n\u001b[0;32m    431\u001b[0m buffer \u001b[38;5;241m=\u001b[39m io\u001b[38;5;241m.\u001b[39mBytesIO(\u001b[38;5;28mself\u001b[39m\u001b[38;5;241m.\u001b[39mfp\u001b[38;5;241m.\u001b[39mread(\u001b[38;5;28mself\u001b[39m\u001b[38;5;241m.\u001b[39msig_header\u001b[38;5;241m.\u001b[39mnextheadersize))\n\u001b[0;32m    432\u001b[0m \u001b[38;5;28;01mif\u001b[39;00m \u001b[38;5;28mself\u001b[39m\u001b[38;5;241m.\u001b[39msig_header\u001b[38;5;241m.\u001b[39mnextheadercrc \u001b[38;5;241m!=\u001b[39m calculate_crc32(buffer\u001b[38;5;241m.\u001b[39mgetvalue()):\n\u001b[1;32m--> 433\u001b[0m     \u001b[38;5;28;01mraise\u001b[39;00m Bad7zFile(\u001b[38;5;124m\"\u001b[39m\u001b[38;5;124minvalid header data\u001b[39m\u001b[38;5;124m\"\u001b[39m)\n\u001b[0;32m    434\u001b[0m header \u001b[38;5;241m=\u001b[39m Header\u001b[38;5;241m.\u001b[39mretrieve(\u001b[38;5;28mself\u001b[39m\u001b[38;5;241m.\u001b[39mfp, buffer, \u001b[38;5;28mself\u001b[39m\u001b[38;5;241m.\u001b[39mafterheader, password)\n\u001b[0;32m    435\u001b[0m \u001b[38;5;28;01mif\u001b[39;00m header \u001b[38;5;129;01mis\u001b[39;00m \u001b[38;5;28;01mNone\u001b[39;00m:\n",
      "\u001b[1;31mBad7zFile\u001b[0m: invalid header data"
     ]
    }
   ],
   "source": [
    "import py7zr\n",
    "import os\n",
    "\n",
    "# Define the input 7z file names\n",
    "input_files = [\n",
    "    \"donnees/BDORTHO/ORTHOHR_1-0_RVB-0M20_JP2-E080_LAMB93_D035_2014-01-01.7z.001\",\n",
    "    \"donnees/BDORTHO/ORTHOHR_1-0_RVB-0M20_JP2-E080_LAMB93_D035_2014-01-01.7z.002\",\n",
    "    \"donnees/BDORTHO/ORTHOHR_1-0_RVB-0M20_JP2-E080_LAMB93_D035_2014-01-01.7z.003\"\n",
    "]\n",
    "\n",
    "# Define the output directory\n",
    "output_directory = \"donnees/BDORTHO/\"\n",
    "\n",
    "# Create the output directory if it doesn't exist\n",
    "os.makedirs(output_directory, exist_ok=True)\n",
    "\n",
    "# Iterate through the input files and extract them to the output directory\n",
    "for input_file in input_files:\n",
    "    with py7zr.SevenZipFile(input_file, mode='r') as archive:\n",
    "        archive.extractall(output_directory)\n",
    "\n",
    "print(\"Extraction complete.\")\n"
   ]
  },
  {
   "cell_type": "code",
   "execution_count": 39,
   "id": "07b32e4c-8e4a-4aac-9576-139249102bb9",
   "metadata": {},
   "outputs": [
    {
     "name": "stdout",
     "output_type": "stream",
     "text": [
      "Error extracting donnees/BDORTHO/ORTHOHR_1-0_RVB-0M20_JP2-E080_LAMB93_D035_2014-01-01.7z.001: invalid header data\n",
      "Error extracting donnees/BDORTHO/ORTHOHR_1-0_RVB-0M20_JP2-E080_LAMB93_D035_2014-01-01.7z.002: not a 7z file\n",
      "Error extracting donnees/BDORTHO/ORTHOHR_1-0_RVB-0M20_JP2-E080_LAMB93_D035_2014-01-01.7z.003: not a 7z file\n",
      "Extraction complete.\n"
     ]
    }
   ],
   "source": [
    "import py7zr\n",
    "import os\n",
    "\n",
    "# Define the input 7z file names\n",
    "input_files = [\n",
    "    \"donnees/BDORTHO/ORTHOHR_1-0_RVB-0M20_JP2-E080_LAMB93_D035_2014-01-01.7z.001\",\n",
    "    \"donnees/BDORTHO/ORTHOHR_1-0_RVB-0M20_JP2-E080_LAMB93_D035_2014-01-01.7z.002\",\n",
    "    \"donnees/BDORTHO/ORTHOHR_1-0_RVB-0M20_JP2-E080_LAMB93_D035_2014-01-01.7z.003\"\n",
    "]\n",
    "\n",
    "# Define the output directory\n",
    "output_directory = \"donnees/BDORTHO/\"\n",
    "\n",
    "# Create the output directory if it doesn't exist\n",
    "os.makedirs(output_directory, exist_ok=True)\n",
    "\n",
    "# Iterate through the input files and extract them to the output directory\n",
    "for input_file in input_files:\n",
    "    try:\n",
    "        with py7zr.SevenZipFile(input_file, mode='r') as archive:\n",
    "            archive.extractall(output_directory)\n",
    "        print(f\"Extracted {input_file}\")\n",
    "    except py7zr.exceptions.Bad7zFile as e:\n",
    "        print(f\"Error extracting {input_file}: {e}\")\n",
    "\n",
    "print(\"Extraction complete.\")\n"
   ]
  },
  {
   "cell_type": "code",
   "execution_count": 42,
   "id": "39195273-6444-4d88-ad78-681bcd54dc7d",
   "metadata": {},
   "outputs": [
    {
     "name": "stderr",
     "output_type": "stream",
     "text": [
      "  0%|                                                                                            | 0/3 [00:00<?, ?it/s]\n"
     ]
    },
    {
     "ename": "Bad7zFile",
     "evalue": "invalid header data",
     "output_type": "error",
     "traceback": [
      "\u001b[1;31m---------------------------------------------------------------------------\u001b[0m",
      "\u001b[1;31mBad7zFile\u001b[0m                                 Traceback (most recent call last)",
      "Cell \u001b[1;32mIn[42], line 26\u001b[0m\n\u001b[0;32m     24\u001b[0m \u001b[38;5;28;01mfor\u001b[39;00m input_file \u001b[38;5;129;01min\u001b[39;00m tqdm(input_files):\n\u001b[0;32m     25\u001b[0m     \u001b[38;5;28;01mif\u001b[39;00m is_valid_7z_file(input_file):\n\u001b[1;32m---> 26\u001b[0m         \u001b[38;5;28;01mwith\u001b[39;00m \u001b[43mpy7zr\u001b[49m\u001b[38;5;241;43m.\u001b[39;49m\u001b[43mSevenZipFile\u001b[49m\u001b[43m(\u001b[49m\u001b[43minput_file\u001b[49m\u001b[43m,\u001b[49m\u001b[43m \u001b[49m\u001b[43mmode\u001b[49m\u001b[38;5;241;43m=\u001b[39;49m\u001b[38;5;124;43m'\u001b[39;49m\u001b[38;5;124;43mr\u001b[39;49m\u001b[38;5;124;43m'\u001b[39;49m\u001b[43m)\u001b[49m \u001b[38;5;28;01mas\u001b[39;00m archive:\n\u001b[0;32m     27\u001b[0m             archive\u001b[38;5;241m.\u001b[39mextractall(output_directory)\n\u001b[0;32m     28\u001b[0m         \u001b[38;5;28mprint\u001b[39m(\u001b[38;5;124mf\u001b[39m\u001b[38;5;124m\"\u001b[39m\u001b[38;5;124mExtracted \u001b[39m\u001b[38;5;132;01m{\u001b[39;00minput_file\u001b[38;5;132;01m}\u001b[39;00m\u001b[38;5;124m\"\u001b[39m)\n",
      "File \u001b[1;32m~\\.conda\\envs\\inrae_seg_env\\Lib\\site-packages\\py7zr\\py7zr.py:407\u001b[0m, in \u001b[0;36mSevenZipFile.__init__\u001b[1;34m(self, file, mode, filters, dereference, password, header_encryption, blocksize, mp)\u001b[0m\n\u001b[0;32m    405\u001b[0m \u001b[38;5;28;01mexcept\u001b[39;00m \u001b[38;5;167;01mException\u001b[39;00m \u001b[38;5;28;01mas\u001b[39;00m e:\n\u001b[0;32m    406\u001b[0m     \u001b[38;5;28mself\u001b[39m\u001b[38;5;241m.\u001b[39m_fpclose()\n\u001b[1;32m--> 407\u001b[0m     \u001b[38;5;28;01mraise\u001b[39;00m e\n\u001b[0;32m    408\u001b[0m \u001b[38;5;28mself\u001b[39m\u001b[38;5;241m.\u001b[39m_dict: Dict[\u001b[38;5;28mstr\u001b[39m, IO[Any]] \u001b[38;5;241m=\u001b[39m {}\n\u001b[0;32m    409\u001b[0m \u001b[38;5;28mself\u001b[39m\u001b[38;5;241m.\u001b[39mdereference \u001b[38;5;241m=\u001b[39m dereference\n",
      "File \u001b[1;32m~\\.conda\\envs\\inrae_seg_env\\Lib\\site-packages\\py7zr\\py7zr.py:393\u001b[0m, in \u001b[0;36mSevenZipFile.__init__\u001b[1;34m(self, file, mode, filters, dereference, password, header_encryption, blocksize, mp)\u001b[0m\n\u001b[0;32m    391\u001b[0m \u001b[38;5;28;01mtry\u001b[39;00m:\n\u001b[0;32m    392\u001b[0m     \u001b[38;5;28;01mif\u001b[39;00m mode \u001b[38;5;241m==\u001b[39m \u001b[38;5;124m\"\u001b[39m\u001b[38;5;124mr\u001b[39m\u001b[38;5;124m\"\u001b[39m:\n\u001b[1;32m--> 393\u001b[0m         \u001b[38;5;28;43mself\u001b[39;49m\u001b[38;5;241;43m.\u001b[39;49m\u001b[43m_real_get_contents\u001b[49m\u001b[43m(\u001b[49m\u001b[43mpassword\u001b[49m\u001b[43m)\u001b[49m\n\u001b[0;32m    394\u001b[0m         \u001b[38;5;28mself\u001b[39m\u001b[38;5;241m.\u001b[39mfp\u001b[38;5;241m.\u001b[39mseek(\u001b[38;5;28mself\u001b[39m\u001b[38;5;241m.\u001b[39mafterheader)  \u001b[38;5;66;03m# seek into start of payload and prepare worker to extract\u001b[39;00m\n\u001b[0;32m    395\u001b[0m         \u001b[38;5;28mself\u001b[39m\u001b[38;5;241m.\u001b[39mworker \u001b[38;5;241m=\u001b[39m Worker(\u001b[38;5;28mself\u001b[39m\u001b[38;5;241m.\u001b[39mfiles, \u001b[38;5;28mself\u001b[39m\u001b[38;5;241m.\u001b[39mafterheader, \u001b[38;5;28mself\u001b[39m\u001b[38;5;241m.\u001b[39mheader, \u001b[38;5;28mself\u001b[39m\u001b[38;5;241m.\u001b[39mmp)\n",
      "File \u001b[1;32m~\\.conda\\envs\\inrae_seg_env\\Lib\\site-packages\\py7zr\\py7zr.py:433\u001b[0m, in \u001b[0;36mSevenZipFile._real_get_contents\u001b[1;34m(self, password)\u001b[0m\n\u001b[0;32m    431\u001b[0m buffer \u001b[38;5;241m=\u001b[39m io\u001b[38;5;241m.\u001b[39mBytesIO(\u001b[38;5;28mself\u001b[39m\u001b[38;5;241m.\u001b[39mfp\u001b[38;5;241m.\u001b[39mread(\u001b[38;5;28mself\u001b[39m\u001b[38;5;241m.\u001b[39msig_header\u001b[38;5;241m.\u001b[39mnextheadersize))\n\u001b[0;32m    432\u001b[0m \u001b[38;5;28;01mif\u001b[39;00m \u001b[38;5;28mself\u001b[39m\u001b[38;5;241m.\u001b[39msig_header\u001b[38;5;241m.\u001b[39mnextheadercrc \u001b[38;5;241m!=\u001b[39m calculate_crc32(buffer\u001b[38;5;241m.\u001b[39mgetvalue()):\n\u001b[1;32m--> 433\u001b[0m     \u001b[38;5;28;01mraise\u001b[39;00m Bad7zFile(\u001b[38;5;124m\"\u001b[39m\u001b[38;5;124minvalid header data\u001b[39m\u001b[38;5;124m\"\u001b[39m)\n\u001b[0;32m    434\u001b[0m header \u001b[38;5;241m=\u001b[39m Header\u001b[38;5;241m.\u001b[39mretrieve(\u001b[38;5;28mself\u001b[39m\u001b[38;5;241m.\u001b[39mfp, buffer, \u001b[38;5;28mself\u001b[39m\u001b[38;5;241m.\u001b[39mafterheader, password)\n\u001b[0;32m    435\u001b[0m \u001b[38;5;28;01mif\u001b[39;00m header \u001b[38;5;129;01mis\u001b[39;00m \u001b[38;5;28;01mNone\u001b[39;00m:\n",
      "\u001b[1;31mBad7zFile\u001b[0m: invalid header data"
     ]
    }
   ],
   "source": [
    "import py7zr\n",
    "import os\n",
    "\n",
    "# Define the input 7z file names\n",
    "input_files = [\n",
    "    \"donnees/BDORTHO/ORTHOHR_1-0_RVB-0M20_JP2-E080_LAMB93_D035_2014-01-01.7z.001\",\n",
    "    \"donnees/BDORTHO/ORTHOHR_1-0_RVB-0M20_JP2-E080_LAMB93_D035_2014-01-01.7z.002\",\n",
    "    \"donnees/BDORTHO/ORTHOHR_1-0_RVB-0M20_JP2-E080_LAMB93_D035_2014-01-01.7z.003\"\n",
    "]\n",
    "\n",
    "# Define the output directory\n",
    "output_directory = \"donnees/BDORTHO/\"\n",
    "\n",
    "# Create the output directory if it doesn't exist\n",
    "os.makedirs(output_directory, exist_ok=True)\n",
    "\n",
    "# Function to check if a file is a valid 7z archive\n",
    "def is_valid_7z_file(file_path):\n",
    "    with open(file_path, 'rb') as file:\n",
    "        signature = file.read(6)\n",
    "    return signature == b'7z\\xbc\\xaf\\x27\\x1c'\n",
    "\n",
    "# Iterate through the input files and extract them to the output directory\n",
    "for input_file in tqdm(input_files):\n",
    "    if is_valid_7z_file(input_file):\n",
    "        with py7zr.SevenZipFile(input_file, mode='r') as archive:\n",
    "            archive.extractall(output_directory)\n",
    "        print(f\"Extracted {input_file}\")\n",
    "    else:\n",
    "        print(f\"Error extracting {input_file}: Not a valid 7z file\")\n",
    "\n",
    "print(\"Extraction complete.\")\n"
   ]
  },
  {
   "cell_type": "code",
   "execution_count": 41,
   "id": "bd4a016a-436a-40b8-bd1f-6de5d866a973",
   "metadata": {},
   "outputs": [
    {
     "data": {
      "text/plain": [
       "True"
      ]
     },
     "execution_count": 41,
     "metadata": {},
     "output_type": "execute_result"
    }
   ],
   "source": [
    "is_valid_7z_file(input_files[0])"
   ]
  },
  {
   "cell_type": "code",
   "execution_count": null,
   "id": "16c992a9-97ef-4ec0-85e1-9074ce49432c",
   "metadata": {},
   "outputs": [],
   "source": []
  }
 ],
 "metadata": {
  "kernelspec": {
   "display_name": "Python 3 (ipykernel)",
   "language": "python",
   "name": "python3"
  },
  "language_info": {
   "codemirror_mode": {
    "name": "ipython",
    "version": 3
   },
   "file_extension": ".py",
   "mimetype": "text/x-python",
   "name": "python",
   "nbconvert_exporter": "python",
   "pygments_lexer": "ipython3",
   "version": "3.11.5"
  }
 },
 "nbformat": 4,
 "nbformat_minor": 5
}
