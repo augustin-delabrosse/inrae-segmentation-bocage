{
 "cells": [
  {
   "cell_type": "raw",
   "id": "15624fd9-f11d-4abe-9d85-1031ea5a19a8",
   "metadata": {},
   "source": [
    "import imageio\n",
    "import imgaug as ia\n",
    "import matplotlib.pyplot as plt\n",
    "%matplotlib inline\n",
    "\n",
    "import numpy as np\n",
    "import warnings\n",
    "warnings.simplefilter(\"ignore\")\n",
    "\n",
    "\n",
    "image = imageio.imread(\"vignettes/rgb/rgb_305_6780/rgb_35_305000_6780000.jpg\")\n",
    "mask = imageio.imread(\"vignettes/mask/mask_305_6780/mask_35_305000_6780000.png\")\n",
    "print(image.shape)\n",
    "fig, (ax1, ax2) = plt.subplots(1, 2)\n",
    "ax1.imshow(image)\n",
    "ax2.imshow(mask)"
   ]
  },
  {
   "cell_type": "code",
   "execution_count": 97,
   "id": "01ae8f1a-6400-4bfb-95ba-074f55cdb88f",
   "metadata": {},
   "outputs": [
    {
     "name": "stdout",
     "output_type": "stream",
     "text": [
      "Shape: (288, 288) min value: 0 max value: 1\n"
     ]
    }
   ],
   "source": [
    "# change dtype from int64 to int32, as int32 is the allowed maximum in SegmentationMapsOnImage\n",
    "segmap = (mask/255).astype(np.int32)\n",
    "\n",
    "# draw statistics about our segmentation map\n",
    "print(\"Shape:\", segmap.shape, \"min value:\", segmap.min(), \"max value:\", segmap.max())"
   ]
  },
  {
   "cell_type": "code",
   "execution_count": 3,
   "id": "4dd98aa0-6edc-4333-9625-25b578dbd2d7",
   "metadata": {
    "scrolled": true
   },
   "outputs": [],
   "source": [
    "import tensorflow as tf\n",
    "from tensorflow import keras\n",
    "from tensorflow.keras import layers"
   ]
  },
  {
   "cell_type": "raw",
   "id": "8b47ac6e-d479-48ab-857a-6adf1d6b313e",
   "metadata": {},
   "source": [
    "# Read an image from a file\\,\n",
    "image_string = tf.io.read_file(\"vignettes/mask/mask_305_6780/mask_35_305000_6780000.png\")\n",
    "# Decode it into a dense vector\\,\n",
    "image_decoded = tf.image.decode_jpeg(image_string, channels=3)\n",
    "# Resize it to fixed shape\n",
    "image_resized = tf.image.resize(image_decoded, [288, 288])\n",
    "# Normalize it from [0, 255] to [0.0, 1.0]\n",
    "image_normalized = image_resized / 255.0\n",
    "\n",
    "data_augmentation = tf.keras.Sequential([\n",
    "layers.RandomFlip(mode=\"horizontal_and_vertical\"),\n",
    "layers.RandomRotation(factor=0.2)])\n",
    "\n",
    "image_augmented1 = data_augmentation(image_normalized)"
   ]
  },
  {
   "cell_type": "raw",
   "id": "1d6c7a98-3a67-4a94-9e8c-4d365c0fb083",
   "metadata": {},
   "source": [
    "# Read an image from a file\\n\",\n",
    "image_string = tf.io.read_file(\"vignettes/rgb/rgb_305_6780/rgb_35_305000_6780000.jpg\")\n",
    "# Decode it into a dense vector\\n\",\n",
    "image_decoded = tf.image.decode_jpeg(image_string, channels=3)\n",
    "# Resize it to fixed shape\n",
    "image_resized = tf.image.resize(image_decoded, [288, 288])\n",
    "# Normalize it from [0, 255] to [0.0, 1.0]\n",
    "image_normalized = image_resized / 255.0\n",
    "\n",
    "data_augmentation = tf.keras.Sequential([\n",
    "layers.RandomFlip(mode=\"horizontal_and_vertical\"),\n",
    "layers.RandomRotation(factor=0.2)])\n",
    "\n",
    "image_augmented1 = data_augmentation(image_normalized)"
   ]
  },
  {
   "cell_type": "raw",
   "id": "c5d85553-1c8e-4e21-9a84-1a90bbdff44c",
   "metadata": {
    "collapsed": true,
    "jupyter": {
     "outputs_hidden": true
    }
   },
   "source": [
    "plt.imshow(image_augmented1)"
   ]
  },
  {
   "cell_type": "raw",
   "id": "7b36f3d6-96b8-46a2-82fd-b3a7636b63df",
   "metadata": {
    "collapsed": true,
    "jupyter": {
     "outputs_hidden": true
    }
   },
   "source": [
    "plt.imshow(image_augmented1)"
   ]
  },
  {
   "cell_type": "raw",
   "id": "53370d08-d505-42c4-bac3-ce5bccda0de6",
   "metadata": {},
   "source": [
    "from imgaug.augmentables.segmaps import SegmentationMapsOnImage\n",
    "\n",
    "# convert array to SegmentationMapsOnImage instance\n",
    "segmap = SegmentationMapsOnImage(segmap, shape=image.shape)\n",
    "\n",
    "# visualize\n",
    "# Note that the segmentation map drawing methods return lists of RGB images.\n",
    "# That is because the segmentation map may have multiple channels\n",
    "# -- the C in (H,W,C) -- and one image is drawn for each of these channels.\n",
    "# We have C=1 here, so we get a list of a single image here and acces that via [0].\n",
    "plt.imshow(segmap.draw_on_image(image)[0])"
   ]
  },
  {
   "cell_type": "raw",
   "id": "17015004-0b9a-4564-9ed7-641baf223108",
   "metadata": {},
   "source": [
    "import imgaug.augmenters as iaa\n",
    "import imgaug as ia\n",
    "import numpy as np\n",
    "\n",
    "# Define your Grayscale augmenter\n",
    "grayscale_augmenter = iaa.Grayscale(alpha=1)\n",
    "\n",
    "# Define an AdditiveBrightness augmenter to control brightness\n",
    "# brightness_augmenter = iaa.MultiplyBrightness((1, 1.5))  # Adjust 'value' as needed\n",
    "\n",
    "# Apply the augmenters\n",
    "augmented_image = grayscale_augmenter.augment_image(image)\n",
    "augmented_image = brightness_augmenter.augment_image(augmented_image)\n",
    "\n",
    "# Display or save the augmented image\n",
    "plt.imshow(augmented_image)\n"
   ]
  },
  {
   "cell_type": "code",
   "execution_count": 218,
   "id": "501b4292-3b14-4e13-bfa7-1336beecb8a9",
   "metadata": {},
   "outputs": [],
   "source": [
    "import imgaug.augmenters as iaa\n",
    "from imgaug import parameters as iap\n",
    "# ia.seed(2)\n",
    "\n",
    "seq = iaa.Sequential([\n",
    "    iaa.Crop(percent=(0, 0.3), keep_size=True),\n",
    "    iaa.Grayscale(alpha=iap.Choice(\n",
    "            [0,1.0],\n",
    "            p=[0.5, 0.5]\n",
    "        )),\n",
    "    # iaa.RemoveSaturation(1.0),\n",
    "    # iaa.AddToBrightness((0, 100)),\n",
    "    # iaa.CoarseDropout(0.1, size_percent=1),\n",
    "    # iaa.Affine(rotate=(-30, 30)),\n",
    "    iaa.Fliplr(0.5),\n",
    "    iaa.Flipud(0.5),\n",
    "    iaa.GaussianBlur(sigma=(0.0, 0.2)),\n",
    "    # iaa.ElasticTransformation(alpha=10, sigma=1)\n",
    "])\n"
   ]
  },
  {
   "cell_type": "raw",
   "id": "ae86fc8a-2479-4a87-96dc-5dab0df4cd77",
   "metadata": {},
   "source": [
    "image_aug, segmap_aug = seq(image=image, segmentation_maps=segmap)\n",
    "\n",
    "# visualize\n",
    "plt.imshow(np.hstack([\n",
    "    segmap_aug.draw_on_image(image_aug)[0],  # show blend of (augmented) image and segmentation map\n",
    "    segmap_aug.draw()[0]  # show only the augmented segmentation map\n",
    "]))\n"
   ]
  },
  {
   "cell_type": "raw",
   "id": "cb8beeba-58da-48e2-8735-a4901b9aa5fd",
   "metadata": {},
   "source": [
    "image_aug, segmap_aug = seq(image=image, segmentation_maps=segmap)\n",
    "\n",
    "# visualize\n",
    "plt.imshow(np.hstack([\n",
    "    segmap_aug.draw_on_image(image_aug)[0],  # show blend of (augmented) image and segmentation map\n",
    "    segmap_aug.draw()[0]  # show only the augmented segmentation map\n",
    "]))\n"
   ]
  },
  {
   "cell_type": "code",
   "execution_count": 173,
   "id": "bed68820-13c7-4ab5-884f-1f0797de55a2",
   "metadata": {},
   "outputs": [],
   "source": [
    "aug = iaa.ElasticTransformation(alpha=200, sigma=10)"
   ]
  },
  {
   "cell_type": "raw",
   "id": "d4f42102-31dd-48ef-b1bd-918d8e8d9ecb",
   "metadata": {},
   "source": [
    "segmap_small = segmap.resize(0.25)\n",
    "\n",
    "aug_det = aug.to_deterministic()\n",
    "image_aug = aug_det.augment_image(image)  # augment image\n",
    "segmap_aug = aug_det.augment_segmentation_maps(segmap)  # augment normal-sized segmentation map\n",
    "segmap_small_aug = aug_det.augment_segmentation_maps(segmap_small)  # augment smaller-sized segmentation map\n",
    "\n",
    "plt.imshow(np.hstack([\n",
    "    segmap_aug.draw_on_image(image_aug, alpha=0.4)[0],  # draw augmented normal-sized segmentation map\n",
    "    segmap_small_aug.draw_on_image(image_aug, alpha=0.4)[0]  # draw augmented smaller-sized segmentation map\n",
    "]))"
   ]
  },
  {
   "cell_type": "raw",
   "id": "2ba2837f-b13e-4b88-963a-c22dcb26f8b5",
   "metadata": {},
   "source": [
    "aug = iaa.Crop(px=(10, 100, 25, 100), keep_size=True)  # (top, right, bottom, left)\n",
    "\n",
    "# We have to augment two segmentation maps with the exactly same random values.\n",
    "# This is why we switch to deterministic mode here, which resets the random state after\n",
    "# each augmentation.\n",
    "# (Due to using non-stochastic crop values, we could also skip this, but it seems cleaner\n",
    "# to do it.)\n",
    "aug_det = aug.to_deterministic()\n",
    "image_aug = aug_det.augment_image(image)  # augment image\n",
    "segmap_aug = aug_det.augment_segmentation_maps(segmap)  # augment normal-sized segmentation map\n",
    "segmap_small_aug = aug_det.augment_segmentation_maps(segmap_small)  # augment smaller-sized segmentation map\n",
    "\n",
    "plt.imshow(np.hstack([\n",
    "    segmap_aug.draw()[0],  # draw augmented normal-sized segmentation map\n",
    "    image_aug\n",
    "]))\n"
   ]
  },
  {
   "cell_type": "raw",
   "id": "f0fa268d-df09-4312-ab24-da8774e582a2",
   "metadata": {},
   "source": [
    "aug = iaa.Crop(percent=0.2, keep_size=True)  # (top, right, bottom, left)\n",
    "\n",
    "# We have to augment two segmentation maps with the exactly same random values.\n",
    "# This is why we switch to deterministic mode here, which resets the random state after\n",
    "# each augmentation.\n",
    "# (Due to using non-stochastic crop values, we could also skip this, but it seems cleaner\n",
    "# to do it.)\n",
    "aug_det = aug.to_deterministic()\n",
    "image_aug = aug_det.augment_image(image)  # augment image\n",
    "segmap_aug = aug_det.augment_segmentation_maps(segmap)  # augment normal-sized segmentation map\n",
    "segmap_small_aug = aug_det.augment_segmentation_maps(segmap_small)  # augment smaller-sized segmentation map\n",
    "\n",
    "plt.imshow(np.hstack([\n",
    "    segmap_aug.draw()[0],  # draw augmented normal-sized segmentation map\n",
    "    image_aug\n",
    "]))\n"
   ]
  },
  {
   "cell_type": "raw",
   "id": "f8c3f11e-6f7a-4fab-9158-6960b33018af",
   "metadata": {},
   "source": [
    "aug = iaa.Crop(percent=0.15, keep_size=True)  # (top, right, bottom, left)\n",
    "\n",
    "# We have to augment two segmentation maps with the exactly same random values.\n",
    "# This is why we switch to deterministic mode here, which resets the random state after\n",
    "# each augmentation.\n",
    "# (Due to using non-stochastic crop values, we could also skip this, but it seems cleaner\n",
    "# to do it.)\n",
    "aug_det = aug.to_deterministic()\n",
    "image_aug = aug_det.augment_image(image)  # augment image\n",
    "segmap_aug = aug_det.augment_segmentation_maps(segmap)  # augment normal-sized segmentation map\n",
    "segmap_small_aug = aug_det.augment_segmentation_maps(segmap_small)  # augment smaller-sized segmentation map\n",
    "\n",
    "plt.imshow(np.hstack([\n",
    "    segmap_aug.draw()[0],  # draw augmented normal-sized segmentation map\n",
    "    image_aug\n",
    "]))\n"
   ]
  }
 ],
 "metadata": {
  "kernelspec": {
   "display_name": "Python 3 (ipykernel)",
   "language": "python",
   "name": "python3"
  },
  "language_info": {
   "codemirror_mode": {
    "name": "ipython",
    "version": 3
   },
   "file_extension": ".py",
   "mimetype": "text/x-python",
   "name": "python",
   "nbconvert_exporter": "python",
   "pygments_lexer": "ipython3",
   "version": "3.11.5"
  }
 },
 "nbformat": 4,
 "nbformat_minor": 5
}
